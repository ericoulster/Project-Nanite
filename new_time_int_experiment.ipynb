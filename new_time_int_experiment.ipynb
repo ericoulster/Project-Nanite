{
 "metadata": {
  "language_info": {
   "codemirror_mode": {
    "name": "ipython",
    "version": 3
   },
   "file_extension": ".py",
   "mimetype": "text/x-python",
   "name": "python",
   "nbconvert_exporter": "python",
   "pygments_lexer": "ipython3",
   "version": "3.6.5"
  },
  "orig_nbformat": 4,
  "kernelspec": {
   "name": "python3",
   "display_name": "Python 3.6.5 64-bit ('base': conda)"
  },
  "interpreter": {
   "hash": "e73f067f1c59be12cfda938665c6a960a5d3ec55ce3a05feea7c329cb1f7e9af"
  }
 },
 "nbformat": 4,
 "nbformat_minor": 2,
 "cells": [
  {
   "cell_type": "code",
   "execution_count": 1,
   "metadata": {},
   "outputs": [],
   "source": [
    "import numpy as np\n",
    "import pandas as pd\n",
    "\n",
    "import sqlite3\n",
    "\n",
    "from collections import namedtuple\n",
    "from datetime import datetime"
   ]
  },
  {
   "cell_type": "code",
   "execution_count": 2,
   "metadata": {},
   "outputs": [],
   "source": [
    "sqlite3_path = './database/nanite_storage.sqlite3'"
   ]
  },
  {
   "cell_type": "code",
   "execution_count": 3,
   "metadata": {},
   "outputs": [],
   "source": [
    "WordVals = namedtuple('Wordcounts', 'record_id project_id author_id Wdate Wcount Wtarget')"
   ]
  },
  {
   "cell_type": "code",
   "execution_count": 4,
   "metadata": {},
   "outputs": [],
   "source": [
    "        conn = sqlite3.connect(sqlite3_path)\n",
    "        cur = conn.cursor()\n",
    "        cur.execute(\"SELECT * FROM words where project_id=?\", (1,))\n",
    "        row = cur.fetchall()\n",
    "        data = [dict(WordVals(*row[i])._asdict()) for i in range(len(row))]\n",
    "        conn.close()\n",
    "        df = pd.DataFrame(data)\n"
   ]
  },
  {
   "cell_type": "code",
   "execution_count": 5,
   "metadata": {},
   "outputs": [
    {
     "output_type": "execute_result",
     "data": {
      "text/plain": [
       "    Wcount                       Wdate  Wtarget  author_id  project_id  \\\n",
       "0     1500  2021-03-01 00:00:00.000000     1000          1           1   \n",
       "1     2300  2021-03-02 00:00:00.000000     1000          1           1   \n",
       "2     2900  2021-03-03 00:00:00.000000     1000          1           1   \n",
       "3     3500  2021-03-04 00:00:00.000000     1000          1           1   \n",
       "4     5200  2021-03-06 00:00:00.000000     1000          1           1   \n",
       "5     6500  2021-03-07 00:00:00.000000     1000          1           1   \n",
       "6    20000  2021-03-12 00:00:00.000000     1000          1           1   \n",
       "7    22000  2021-03-12 08:00:00.000000     1000          1           1   \n",
       "8    22000  2021-03-12 08:00:00.000000     1000          1           1   \n",
       "9    22000  2021-03-27 08:00:00.000000     1000          1           1   \n",
       "10   23000  2021-05-28 08:00:00.000000     1000          1           1   \n",
       "11   24000  2021-05-29 08:00:00.000000     1000          1           1   \n",
       "12   25000  2021-05-30 08:00:00.000000     1000          1           1   \n",
       "\n",
       "    record_id  \n",
       "0           1  \n",
       "1           2  \n",
       "2           3  \n",
       "3           4  \n",
       "4           5  \n",
       "5           6  \n",
       "6           7  \n",
       "7           8  \n",
       "8           9  \n",
       "9          10  \n",
       "10         11  \n",
       "11         12  \n",
       "12         14  "
      ],
      "text/html": "<div>\n<style scoped>\n    .dataframe tbody tr th:only-of-type {\n        vertical-align: middle;\n    }\n\n    .dataframe tbody tr th {\n        vertical-align: top;\n    }\n\n    .dataframe thead th {\n        text-align: right;\n    }\n</style>\n<table border=\"1\" class=\"dataframe\">\n  <thead>\n    <tr style=\"text-align: right;\">\n      <th></th>\n      <th>Wcount</th>\n      <th>Wdate</th>\n      <th>Wtarget</th>\n      <th>author_id</th>\n      <th>project_id</th>\n      <th>record_id</th>\n    </tr>\n  </thead>\n  <tbody>\n    <tr>\n      <th>0</th>\n      <td>1500</td>\n      <td>2021-03-01 00:00:00.000000</td>\n      <td>1000</td>\n      <td>1</td>\n      <td>1</td>\n      <td>1</td>\n    </tr>\n    <tr>\n      <th>1</th>\n      <td>2300</td>\n      <td>2021-03-02 00:00:00.000000</td>\n      <td>1000</td>\n      <td>1</td>\n      <td>1</td>\n      <td>2</td>\n    </tr>\n    <tr>\n      <th>2</th>\n      <td>2900</td>\n      <td>2021-03-03 00:00:00.000000</td>\n      <td>1000</td>\n      <td>1</td>\n      <td>1</td>\n      <td>3</td>\n    </tr>\n    <tr>\n      <th>3</th>\n      <td>3500</td>\n      <td>2021-03-04 00:00:00.000000</td>\n      <td>1000</td>\n      <td>1</td>\n      <td>1</td>\n      <td>4</td>\n    </tr>\n    <tr>\n      <th>4</th>\n      <td>5200</td>\n      <td>2021-03-06 00:00:00.000000</td>\n      <td>1000</td>\n      <td>1</td>\n      <td>1</td>\n      <td>5</td>\n    </tr>\n    <tr>\n      <th>5</th>\n      <td>6500</td>\n      <td>2021-03-07 00:00:00.000000</td>\n      <td>1000</td>\n      <td>1</td>\n      <td>1</td>\n      <td>6</td>\n    </tr>\n    <tr>\n      <th>6</th>\n      <td>20000</td>\n      <td>2021-03-12 00:00:00.000000</td>\n      <td>1000</td>\n      <td>1</td>\n      <td>1</td>\n      <td>7</td>\n    </tr>\n    <tr>\n      <th>7</th>\n      <td>22000</td>\n      <td>2021-03-12 08:00:00.000000</td>\n      <td>1000</td>\n      <td>1</td>\n      <td>1</td>\n      <td>8</td>\n    </tr>\n    <tr>\n      <th>8</th>\n      <td>22000</td>\n      <td>2021-03-12 08:00:00.000000</td>\n      <td>1000</td>\n      <td>1</td>\n      <td>1</td>\n      <td>9</td>\n    </tr>\n    <tr>\n      <th>9</th>\n      <td>22000</td>\n      <td>2021-03-27 08:00:00.000000</td>\n      <td>1000</td>\n      <td>1</td>\n      <td>1</td>\n      <td>10</td>\n    </tr>\n    <tr>\n      <th>10</th>\n      <td>23000</td>\n      <td>2021-05-28 08:00:00.000000</td>\n      <td>1000</td>\n      <td>1</td>\n      <td>1</td>\n      <td>11</td>\n    </tr>\n    <tr>\n      <th>11</th>\n      <td>24000</td>\n      <td>2021-05-29 08:00:00.000000</td>\n      <td>1000</td>\n      <td>1</td>\n      <td>1</td>\n      <td>12</td>\n    </tr>\n    <tr>\n      <th>12</th>\n      <td>25000</td>\n      <td>2021-05-30 08:00:00.000000</td>\n      <td>1000</td>\n      <td>1</td>\n      <td>1</td>\n      <td>14</td>\n    </tr>\n  </tbody>\n</table>\n</div>"
     },
     "metadata": {},
     "execution_count": 5
    }
   ],
   "source": [
    "df"
   ]
  },
  {
   "cell_type": "code",
   "execution_count": 6,
   "metadata": {},
   "outputs": [],
   "source": [
    "df.index = pd.DatetimeIndex(df['Wdate'])"
   ]
  },
  {
   "cell_type": "code",
   "execution_count": 7,
   "metadata": {},
   "outputs": [],
   "source": [
    "earliest = df.index[0]\n",
    "latest = df.index[-1]"
   ]
  },
  {
   "cell_type": "code",
   "execution_count": 8,
   "metadata": {},
   "outputs": [],
   "source": [
    "new_index = pd.date_range(earliest, latest, freq='D')"
   ]
  },
  {
   "cell_type": "code",
   "execution_count": 9,
   "metadata": {},
   "outputs": [],
   "source": [
    "df = df.groupby(pd.Grouper(freq='D')).last()\n",
    "df = df.reindex(new_index, method='ffill').reset_index()\n",
    "df = df.fillna(method='ffill')\n",
    "df = df.drop(columns='Wdate').rename(columns={'index':'Wdate'})"
   ]
  },
  {
   "cell_type": "code",
   "execution_count": 10,
   "metadata": {},
   "outputs": [
    {
     "output_type": "execute_result",
     "data": {
      "text/plain": [
       "        index   Wcount                       Wdate  Wtarget  author_id  \\\n",
       "0  2021-03-01   1500.0  2021-03-01 00:00:00.000000   1000.0        1.0   \n",
       "1  2021-03-02   2300.0  2021-03-02 00:00:00.000000   1000.0        1.0   \n",
       "2  2021-03-03   2900.0  2021-03-03 00:00:00.000000   1000.0        1.0   \n",
       "3  2021-03-04   3500.0  2021-03-04 00:00:00.000000   1000.0        1.0   \n",
       "4  2021-03-05   3500.0  2021-03-04 00:00:00.000000   1000.0        1.0   \n",
       "5  2021-03-06   5200.0  2021-03-06 00:00:00.000000   1000.0        1.0   \n",
       "6  2021-03-07   6500.0  2021-03-07 00:00:00.000000   1000.0        1.0   \n",
       "7  2021-03-08   6500.0  2021-03-07 00:00:00.000000   1000.0        1.0   \n",
       "8  2021-03-09   6500.0  2021-03-07 00:00:00.000000   1000.0        1.0   \n",
       "9  2021-03-10   6500.0  2021-03-07 00:00:00.000000   1000.0        1.0   \n",
       "10 2021-03-11   6500.0  2021-03-07 00:00:00.000000   1000.0        1.0   \n",
       "11 2021-03-12  22000.0  2021-03-12 08:00:00.000000   1000.0        1.0   \n",
       "12 2021-03-13  22000.0  2021-03-12 08:00:00.000000   1000.0        1.0   \n",
       "13 2021-03-14  22000.0  2021-03-12 08:00:00.000000   1000.0        1.0   \n",
       "14 2021-03-15  22000.0  2021-03-12 08:00:00.000000   1000.0        1.0   \n",
       "15 2021-03-16  22000.0  2021-03-12 08:00:00.000000   1000.0        1.0   \n",
       "16 2021-03-17  22000.0  2021-03-12 08:00:00.000000   1000.0        1.0   \n",
       "17 2021-03-18  22000.0  2021-03-12 08:00:00.000000   1000.0        1.0   \n",
       "18 2021-03-19  22000.0  2021-03-12 08:00:00.000000   1000.0        1.0   \n",
       "19 2021-03-20  22000.0  2021-03-12 08:00:00.000000   1000.0        1.0   \n",
       "20 2021-03-21  22000.0  2021-03-12 08:00:00.000000   1000.0        1.0   \n",
       "21 2021-03-22  22000.0  2021-03-12 08:00:00.000000   1000.0        1.0   \n",
       "22 2021-03-23  22000.0  2021-03-12 08:00:00.000000   1000.0        1.0   \n",
       "23 2021-03-24  22000.0  2021-03-12 08:00:00.000000   1000.0        1.0   \n",
       "24 2021-03-25  22000.0  2021-03-12 08:00:00.000000   1000.0        1.0   \n",
       "25 2021-03-26  22000.0  2021-03-12 08:00:00.000000   1000.0        1.0   \n",
       "26 2021-03-27  22000.0  2021-03-27 08:00:00.000000   1000.0        1.0   \n",
       "27 2021-03-28  22000.0  2021-03-27 08:00:00.000000   1000.0        1.0   \n",
       "28 2021-03-29  22000.0  2021-03-27 08:00:00.000000   1000.0        1.0   \n",
       "29 2021-03-30  22000.0  2021-03-27 08:00:00.000000   1000.0        1.0   \n",
       "..        ...      ...                         ...      ...        ...   \n",
       "61 2021-05-01  22000.0  2021-03-27 08:00:00.000000   1000.0        1.0   \n",
       "62 2021-05-02  22000.0  2021-03-27 08:00:00.000000   1000.0        1.0   \n",
       "63 2021-05-03  22000.0  2021-03-27 08:00:00.000000   1000.0        1.0   \n",
       "64 2021-05-04  22000.0  2021-03-27 08:00:00.000000   1000.0        1.0   \n",
       "65 2021-05-05  22000.0  2021-03-27 08:00:00.000000   1000.0        1.0   \n",
       "66 2021-05-06  22000.0  2021-03-27 08:00:00.000000   1000.0        1.0   \n",
       "67 2021-05-07  22000.0  2021-03-27 08:00:00.000000   1000.0        1.0   \n",
       "68 2021-05-08  22000.0  2021-03-27 08:00:00.000000   1000.0        1.0   \n",
       "69 2021-05-09  22000.0  2021-03-27 08:00:00.000000   1000.0        1.0   \n",
       "70 2021-05-10  22000.0  2021-03-27 08:00:00.000000   1000.0        1.0   \n",
       "71 2021-05-11  22000.0  2021-03-27 08:00:00.000000   1000.0        1.0   \n",
       "72 2021-05-12  22000.0  2021-03-27 08:00:00.000000   1000.0        1.0   \n",
       "73 2021-05-13  22000.0  2021-03-27 08:00:00.000000   1000.0        1.0   \n",
       "74 2021-05-14  22000.0  2021-03-27 08:00:00.000000   1000.0        1.0   \n",
       "75 2021-05-15  22000.0  2021-03-27 08:00:00.000000   1000.0        1.0   \n",
       "76 2021-05-16  22000.0  2021-03-27 08:00:00.000000   1000.0        1.0   \n",
       "77 2021-05-17  22000.0  2021-03-27 08:00:00.000000   1000.0        1.0   \n",
       "78 2021-05-18  22000.0  2021-03-27 08:00:00.000000   1000.0        1.0   \n",
       "79 2021-05-19  22000.0  2021-03-27 08:00:00.000000   1000.0        1.0   \n",
       "80 2021-05-20  22000.0  2021-03-27 08:00:00.000000   1000.0        1.0   \n",
       "81 2021-05-21  22000.0  2021-03-27 08:00:00.000000   1000.0        1.0   \n",
       "82 2021-05-22  22000.0  2021-03-27 08:00:00.000000   1000.0        1.0   \n",
       "83 2021-05-23  22000.0  2021-03-27 08:00:00.000000   1000.0        1.0   \n",
       "84 2021-05-24  22000.0  2021-03-27 08:00:00.000000   1000.0        1.0   \n",
       "85 2021-05-25  22000.0  2021-03-27 08:00:00.000000   1000.0        1.0   \n",
       "86 2021-05-26  22000.0  2021-03-27 08:00:00.000000   1000.0        1.0   \n",
       "87 2021-05-27  22000.0  2021-03-27 08:00:00.000000   1000.0        1.0   \n",
       "88 2021-05-28  23000.0  2021-05-28 08:00:00.000000   1000.0        1.0   \n",
       "89 2021-05-29  24000.0  2021-05-29 08:00:00.000000   1000.0        1.0   \n",
       "90 2021-05-30  25000.0  2021-05-30 08:00:00.000000   1000.0        1.0   \n",
       "\n",
       "    project_id  record_id  \n",
       "0          1.0        1.0  \n",
       "1          1.0        2.0  \n",
       "2          1.0        3.0  \n",
       "3          1.0        4.0  \n",
       "4          1.0        4.0  \n",
       "5          1.0        5.0  \n",
       "6          1.0        6.0  \n",
       "7          1.0        6.0  \n",
       "8          1.0        6.0  \n",
       "9          1.0        6.0  \n",
       "10         1.0        6.0  \n",
       "11         1.0        9.0  \n",
       "12         1.0        9.0  \n",
       "13         1.0        9.0  \n",
       "14         1.0        9.0  \n",
       "15         1.0        9.0  \n",
       "16         1.0        9.0  \n",
       "17         1.0        9.0  \n",
       "18         1.0        9.0  \n",
       "19         1.0        9.0  \n",
       "20         1.0        9.0  \n",
       "21         1.0        9.0  \n",
       "22         1.0        9.0  \n",
       "23         1.0        9.0  \n",
       "24         1.0        9.0  \n",
       "25         1.0        9.0  \n",
       "26         1.0       10.0  \n",
       "27         1.0       10.0  \n",
       "28         1.0       10.0  \n",
       "29         1.0       10.0  \n",
       "..         ...        ...  \n",
       "61         1.0       10.0  \n",
       "62         1.0       10.0  \n",
       "63         1.0       10.0  \n",
       "64         1.0       10.0  \n",
       "65         1.0       10.0  \n",
       "66         1.0       10.0  \n",
       "67         1.0       10.0  \n",
       "68         1.0       10.0  \n",
       "69         1.0       10.0  \n",
       "70         1.0       10.0  \n",
       "71         1.0       10.0  \n",
       "72         1.0       10.0  \n",
       "73         1.0       10.0  \n",
       "74         1.0       10.0  \n",
       "75         1.0       10.0  \n",
       "76         1.0       10.0  \n",
       "77         1.0       10.0  \n",
       "78         1.0       10.0  \n",
       "79         1.0       10.0  \n",
       "80         1.0       10.0  \n",
       "81         1.0       10.0  \n",
       "82         1.0       10.0  \n",
       "83         1.0       10.0  \n",
       "84         1.0       10.0  \n",
       "85         1.0       10.0  \n",
       "86         1.0       10.0  \n",
       "87         1.0       10.0  \n",
       "88         1.0       11.0  \n",
       "89         1.0       12.0  \n",
       "90         1.0       14.0  \n",
       "\n",
       "[91 rows x 7 columns]"
      ],
      "text/html": "<div>\n<style scoped>\n    .dataframe tbody tr th:only-of-type {\n        vertical-align: middle;\n    }\n\n    .dataframe tbody tr th {\n        vertical-align: top;\n    }\n\n    .dataframe thead th {\n        text-align: right;\n    }\n</style>\n<table border=\"1\" class=\"dataframe\">\n  <thead>\n    <tr style=\"text-align: right;\">\n      <th></th>\n      <th>index</th>\n      <th>Wcount</th>\n      <th>Wdate</th>\n      <th>Wtarget</th>\n      <th>author_id</th>\n      <th>project_id</th>\n      <th>record_id</th>\n    </tr>\n  </thead>\n  <tbody>\n    <tr>\n      <th>0</th>\n      <td>2021-03-01</td>\n      <td>1500.0</td>\n      <td>2021-03-01 00:00:00.000000</td>\n      <td>1000.0</td>\n      <td>1.0</td>\n      <td>1.0</td>\n      <td>1.0</td>\n    </tr>\n    <tr>\n      <th>1</th>\n      <td>2021-03-02</td>\n      <td>2300.0</td>\n      <td>2021-03-02 00:00:00.000000</td>\n      <td>1000.0</td>\n      <td>1.0</td>\n      <td>1.0</td>\n      <td>2.0</td>\n    </tr>\n    <tr>\n      <th>2</th>\n      <td>2021-03-03</td>\n      <td>2900.0</td>\n      <td>2021-03-03 00:00:00.000000</td>\n      <td>1000.0</td>\n      <td>1.0</td>\n      <td>1.0</td>\n      <td>3.0</td>\n    </tr>\n    <tr>\n      <th>3</th>\n      <td>2021-03-04</td>\n      <td>3500.0</td>\n      <td>2021-03-04 00:00:00.000000</td>\n      <td>1000.0</td>\n      <td>1.0</td>\n      <td>1.0</td>\n      <td>4.0</td>\n    </tr>\n    <tr>\n      <th>4</th>\n      <td>2021-03-05</td>\n      <td>3500.0</td>\n      <td>2021-03-04 00:00:00.000000</td>\n      <td>1000.0</td>\n      <td>1.0</td>\n      <td>1.0</td>\n      <td>4.0</td>\n    </tr>\n    <tr>\n      <th>5</th>\n      <td>2021-03-06</td>\n      <td>5200.0</td>\n      <td>2021-03-06 00:00:00.000000</td>\n      <td>1000.0</td>\n      <td>1.0</td>\n      <td>1.0</td>\n      <td>5.0</td>\n    </tr>\n    <tr>\n      <th>6</th>\n      <td>2021-03-07</td>\n      <td>6500.0</td>\n      <td>2021-03-07 00:00:00.000000</td>\n      <td>1000.0</td>\n      <td>1.0</td>\n      <td>1.0</td>\n      <td>6.0</td>\n    </tr>\n    <tr>\n      <th>7</th>\n      <td>2021-03-08</td>\n      <td>6500.0</td>\n      <td>2021-03-07 00:00:00.000000</td>\n      <td>1000.0</td>\n      <td>1.0</td>\n      <td>1.0</td>\n      <td>6.0</td>\n    </tr>\n    <tr>\n      <th>8</th>\n      <td>2021-03-09</td>\n      <td>6500.0</td>\n      <td>2021-03-07 00:00:00.000000</td>\n      <td>1000.0</td>\n      <td>1.0</td>\n      <td>1.0</td>\n      <td>6.0</td>\n    </tr>\n    <tr>\n      <th>9</th>\n      <td>2021-03-10</td>\n      <td>6500.0</td>\n      <td>2021-03-07 00:00:00.000000</td>\n      <td>1000.0</td>\n      <td>1.0</td>\n      <td>1.0</td>\n      <td>6.0</td>\n    </tr>\n    <tr>\n      <th>10</th>\n      <td>2021-03-11</td>\n      <td>6500.0</td>\n      <td>2021-03-07 00:00:00.000000</td>\n      <td>1000.0</td>\n      <td>1.0</td>\n      <td>1.0</td>\n      <td>6.0</td>\n    </tr>\n    <tr>\n      <th>11</th>\n      <td>2021-03-12</td>\n      <td>22000.0</td>\n      <td>2021-03-12 08:00:00.000000</td>\n      <td>1000.0</td>\n      <td>1.0</td>\n      <td>1.0</td>\n      <td>9.0</td>\n    </tr>\n    <tr>\n      <th>12</th>\n      <td>2021-03-13</td>\n      <td>22000.0</td>\n      <td>2021-03-12 08:00:00.000000</td>\n      <td>1000.0</td>\n      <td>1.0</td>\n      <td>1.0</td>\n      <td>9.0</td>\n    </tr>\n    <tr>\n      <th>13</th>\n      <td>2021-03-14</td>\n      <td>22000.0</td>\n      <td>2021-03-12 08:00:00.000000</td>\n      <td>1000.0</td>\n      <td>1.0</td>\n      <td>1.0</td>\n      <td>9.0</td>\n    </tr>\n    <tr>\n      <th>14</th>\n      <td>2021-03-15</td>\n      <td>22000.0</td>\n      <td>2021-03-12 08:00:00.000000</td>\n      <td>1000.0</td>\n      <td>1.0</td>\n      <td>1.0</td>\n      <td>9.0</td>\n    </tr>\n    <tr>\n      <th>15</th>\n      <td>2021-03-16</td>\n      <td>22000.0</td>\n      <td>2021-03-12 08:00:00.000000</td>\n      <td>1000.0</td>\n      <td>1.0</td>\n      <td>1.0</td>\n      <td>9.0</td>\n    </tr>\n    <tr>\n      <th>16</th>\n      <td>2021-03-17</td>\n      <td>22000.0</td>\n      <td>2021-03-12 08:00:00.000000</td>\n      <td>1000.0</td>\n      <td>1.0</td>\n      <td>1.0</td>\n      <td>9.0</td>\n    </tr>\n    <tr>\n      <th>17</th>\n      <td>2021-03-18</td>\n      <td>22000.0</td>\n      <td>2021-03-12 08:00:00.000000</td>\n      <td>1000.0</td>\n      <td>1.0</td>\n      <td>1.0</td>\n      <td>9.0</td>\n    </tr>\n    <tr>\n      <th>18</th>\n      <td>2021-03-19</td>\n      <td>22000.0</td>\n      <td>2021-03-12 08:00:00.000000</td>\n      <td>1000.0</td>\n      <td>1.0</td>\n      <td>1.0</td>\n      <td>9.0</td>\n    </tr>\n    <tr>\n      <th>19</th>\n      <td>2021-03-20</td>\n      <td>22000.0</td>\n      <td>2021-03-12 08:00:00.000000</td>\n      <td>1000.0</td>\n      <td>1.0</td>\n      <td>1.0</td>\n      <td>9.0</td>\n    </tr>\n    <tr>\n      <th>20</th>\n      <td>2021-03-21</td>\n      <td>22000.0</td>\n      <td>2021-03-12 08:00:00.000000</td>\n      <td>1000.0</td>\n      <td>1.0</td>\n      <td>1.0</td>\n      <td>9.0</td>\n    </tr>\n    <tr>\n      <th>21</th>\n      <td>2021-03-22</td>\n      <td>22000.0</td>\n      <td>2021-03-12 08:00:00.000000</td>\n      <td>1000.0</td>\n      <td>1.0</td>\n      <td>1.0</td>\n      <td>9.0</td>\n    </tr>\n    <tr>\n      <th>22</th>\n      <td>2021-03-23</td>\n      <td>22000.0</td>\n      <td>2021-03-12 08:00:00.000000</td>\n      <td>1000.0</td>\n      <td>1.0</td>\n      <td>1.0</td>\n      <td>9.0</td>\n    </tr>\n    <tr>\n      <th>23</th>\n      <td>2021-03-24</td>\n      <td>22000.0</td>\n      <td>2021-03-12 08:00:00.000000</td>\n      <td>1000.0</td>\n      <td>1.0</td>\n      <td>1.0</td>\n      <td>9.0</td>\n    </tr>\n    <tr>\n      <th>24</th>\n      <td>2021-03-25</td>\n      <td>22000.0</td>\n      <td>2021-03-12 08:00:00.000000</td>\n      <td>1000.0</td>\n      <td>1.0</td>\n      <td>1.0</td>\n      <td>9.0</td>\n    </tr>\n    <tr>\n      <th>25</th>\n      <td>2021-03-26</td>\n      <td>22000.0</td>\n      <td>2021-03-12 08:00:00.000000</td>\n      <td>1000.0</td>\n      <td>1.0</td>\n      <td>1.0</td>\n      <td>9.0</td>\n    </tr>\n    <tr>\n      <th>26</th>\n      <td>2021-03-27</td>\n      <td>22000.0</td>\n      <td>2021-03-27 08:00:00.000000</td>\n      <td>1000.0</td>\n      <td>1.0</td>\n      <td>1.0</td>\n      <td>10.0</td>\n    </tr>\n    <tr>\n      <th>27</th>\n      <td>2021-03-28</td>\n      <td>22000.0</td>\n      <td>2021-03-27 08:00:00.000000</td>\n      <td>1000.0</td>\n      <td>1.0</td>\n      <td>1.0</td>\n      <td>10.0</td>\n    </tr>\n    <tr>\n      <th>28</th>\n      <td>2021-03-29</td>\n      <td>22000.0</td>\n      <td>2021-03-27 08:00:00.000000</td>\n      <td>1000.0</td>\n      <td>1.0</td>\n      <td>1.0</td>\n      <td>10.0</td>\n    </tr>\n    <tr>\n      <th>29</th>\n      <td>2021-03-30</td>\n      <td>22000.0</td>\n      <td>2021-03-27 08:00:00.000000</td>\n      <td>1000.0</td>\n      <td>1.0</td>\n      <td>1.0</td>\n      <td>10.0</td>\n    </tr>\n    <tr>\n      <th>...</th>\n      <td>...</td>\n      <td>...</td>\n      <td>...</td>\n      <td>...</td>\n      <td>...</td>\n      <td>...</td>\n      <td>...</td>\n    </tr>\n    <tr>\n      <th>61</th>\n      <td>2021-05-01</td>\n      <td>22000.0</td>\n      <td>2021-03-27 08:00:00.000000</td>\n      <td>1000.0</td>\n      <td>1.0</td>\n      <td>1.0</td>\n      <td>10.0</td>\n    </tr>\n    <tr>\n      <th>62</th>\n      <td>2021-05-02</td>\n      <td>22000.0</td>\n      <td>2021-03-27 08:00:00.000000</td>\n      <td>1000.0</td>\n      <td>1.0</td>\n      <td>1.0</td>\n      <td>10.0</td>\n    </tr>\n    <tr>\n      <th>63</th>\n      <td>2021-05-03</td>\n      <td>22000.0</td>\n      <td>2021-03-27 08:00:00.000000</td>\n      <td>1000.0</td>\n      <td>1.0</td>\n      <td>1.0</td>\n      <td>10.0</td>\n    </tr>\n    <tr>\n      <th>64</th>\n      <td>2021-05-04</td>\n      <td>22000.0</td>\n      <td>2021-03-27 08:00:00.000000</td>\n      <td>1000.0</td>\n      <td>1.0</td>\n      <td>1.0</td>\n      <td>10.0</td>\n    </tr>\n    <tr>\n      <th>65</th>\n      <td>2021-05-05</td>\n      <td>22000.0</td>\n      <td>2021-03-27 08:00:00.000000</td>\n      <td>1000.0</td>\n      <td>1.0</td>\n      <td>1.0</td>\n      <td>10.0</td>\n    </tr>\n    <tr>\n      <th>66</th>\n      <td>2021-05-06</td>\n      <td>22000.0</td>\n      <td>2021-03-27 08:00:00.000000</td>\n      <td>1000.0</td>\n      <td>1.0</td>\n      <td>1.0</td>\n      <td>10.0</td>\n    </tr>\n    <tr>\n      <th>67</th>\n      <td>2021-05-07</td>\n      <td>22000.0</td>\n      <td>2021-03-27 08:00:00.000000</td>\n      <td>1000.0</td>\n      <td>1.0</td>\n      <td>1.0</td>\n      <td>10.0</td>\n    </tr>\n    <tr>\n      <th>68</th>\n      <td>2021-05-08</td>\n      <td>22000.0</td>\n      <td>2021-03-27 08:00:00.000000</td>\n      <td>1000.0</td>\n      <td>1.0</td>\n      <td>1.0</td>\n      <td>10.0</td>\n    </tr>\n    <tr>\n      <th>69</th>\n      <td>2021-05-09</td>\n      <td>22000.0</td>\n      <td>2021-03-27 08:00:00.000000</td>\n      <td>1000.0</td>\n      <td>1.0</td>\n      <td>1.0</td>\n      <td>10.0</td>\n    </tr>\n    <tr>\n      <th>70</th>\n      <td>2021-05-10</td>\n      <td>22000.0</td>\n      <td>2021-03-27 08:00:00.000000</td>\n      <td>1000.0</td>\n      <td>1.0</td>\n      <td>1.0</td>\n      <td>10.0</td>\n    </tr>\n    <tr>\n      <th>71</th>\n      <td>2021-05-11</td>\n      <td>22000.0</td>\n      <td>2021-03-27 08:00:00.000000</td>\n      <td>1000.0</td>\n      <td>1.0</td>\n      <td>1.0</td>\n      <td>10.0</td>\n    </tr>\n    <tr>\n      <th>72</th>\n      <td>2021-05-12</td>\n      <td>22000.0</td>\n      <td>2021-03-27 08:00:00.000000</td>\n      <td>1000.0</td>\n      <td>1.0</td>\n      <td>1.0</td>\n      <td>10.0</td>\n    </tr>\n    <tr>\n      <th>73</th>\n      <td>2021-05-13</td>\n      <td>22000.0</td>\n      <td>2021-03-27 08:00:00.000000</td>\n      <td>1000.0</td>\n      <td>1.0</td>\n      <td>1.0</td>\n      <td>10.0</td>\n    </tr>\n    <tr>\n      <th>74</th>\n      <td>2021-05-14</td>\n      <td>22000.0</td>\n      <td>2021-03-27 08:00:00.000000</td>\n      <td>1000.0</td>\n      <td>1.0</td>\n      <td>1.0</td>\n      <td>10.0</td>\n    </tr>\n    <tr>\n      <th>75</th>\n      <td>2021-05-15</td>\n      <td>22000.0</td>\n      <td>2021-03-27 08:00:00.000000</td>\n      <td>1000.0</td>\n      <td>1.0</td>\n      <td>1.0</td>\n      <td>10.0</td>\n    </tr>\n    <tr>\n      <th>76</th>\n      <td>2021-05-16</td>\n      <td>22000.0</td>\n      <td>2021-03-27 08:00:00.000000</td>\n      <td>1000.0</td>\n      <td>1.0</td>\n      <td>1.0</td>\n      <td>10.0</td>\n    </tr>\n    <tr>\n      <th>77</th>\n      <td>2021-05-17</td>\n      <td>22000.0</td>\n      <td>2021-03-27 08:00:00.000000</td>\n      <td>1000.0</td>\n      <td>1.0</td>\n      <td>1.0</td>\n      <td>10.0</td>\n    </tr>\n    <tr>\n      <th>78</th>\n      <td>2021-05-18</td>\n      <td>22000.0</td>\n      <td>2021-03-27 08:00:00.000000</td>\n      <td>1000.0</td>\n      <td>1.0</td>\n      <td>1.0</td>\n      <td>10.0</td>\n    </tr>\n    <tr>\n      <th>79</th>\n      <td>2021-05-19</td>\n      <td>22000.0</td>\n      <td>2021-03-27 08:00:00.000000</td>\n      <td>1000.0</td>\n      <td>1.0</td>\n      <td>1.0</td>\n      <td>10.0</td>\n    </tr>\n    <tr>\n      <th>80</th>\n      <td>2021-05-20</td>\n      <td>22000.0</td>\n      <td>2021-03-27 08:00:00.000000</td>\n      <td>1000.0</td>\n      <td>1.0</td>\n      <td>1.0</td>\n      <td>10.0</td>\n    </tr>\n    <tr>\n      <th>81</th>\n      <td>2021-05-21</td>\n      <td>22000.0</td>\n      <td>2021-03-27 08:00:00.000000</td>\n      <td>1000.0</td>\n      <td>1.0</td>\n      <td>1.0</td>\n      <td>10.0</td>\n    </tr>\n    <tr>\n      <th>82</th>\n      <td>2021-05-22</td>\n      <td>22000.0</td>\n      <td>2021-03-27 08:00:00.000000</td>\n      <td>1000.0</td>\n      <td>1.0</td>\n      <td>1.0</td>\n      <td>10.0</td>\n    </tr>\n    <tr>\n      <th>83</th>\n      <td>2021-05-23</td>\n      <td>22000.0</td>\n      <td>2021-03-27 08:00:00.000000</td>\n      <td>1000.0</td>\n      <td>1.0</td>\n      <td>1.0</td>\n      <td>10.0</td>\n    </tr>\n    <tr>\n      <th>84</th>\n      <td>2021-05-24</td>\n      <td>22000.0</td>\n      <td>2021-03-27 08:00:00.000000</td>\n      <td>1000.0</td>\n      <td>1.0</td>\n      <td>1.0</td>\n      <td>10.0</td>\n    </tr>\n    <tr>\n      <th>85</th>\n      <td>2021-05-25</td>\n      <td>22000.0</td>\n      <td>2021-03-27 08:00:00.000000</td>\n      <td>1000.0</td>\n      <td>1.0</td>\n      <td>1.0</td>\n      <td>10.0</td>\n    </tr>\n    <tr>\n      <th>86</th>\n      <td>2021-05-26</td>\n      <td>22000.0</td>\n      <td>2021-03-27 08:00:00.000000</td>\n      <td>1000.0</td>\n      <td>1.0</td>\n      <td>1.0</td>\n      <td>10.0</td>\n    </tr>\n    <tr>\n      <th>87</th>\n      <td>2021-05-27</td>\n      <td>22000.0</td>\n      <td>2021-03-27 08:00:00.000000</td>\n      <td>1000.0</td>\n      <td>1.0</td>\n      <td>1.0</td>\n      <td>10.0</td>\n    </tr>\n    <tr>\n      <th>88</th>\n      <td>2021-05-28</td>\n      <td>23000.0</td>\n      <td>2021-05-28 08:00:00.000000</td>\n      <td>1000.0</td>\n      <td>1.0</td>\n      <td>1.0</td>\n      <td>11.0</td>\n    </tr>\n    <tr>\n      <th>89</th>\n      <td>2021-05-29</td>\n      <td>24000.0</td>\n      <td>2021-05-29 08:00:00.000000</td>\n      <td>1000.0</td>\n      <td>1.0</td>\n      <td>1.0</td>\n      <td>12.0</td>\n    </tr>\n    <tr>\n      <th>90</th>\n      <td>2021-05-30</td>\n      <td>25000.0</td>\n      <td>2021-05-30 08:00:00.000000</td>\n      <td>1000.0</td>\n      <td>1.0</td>\n      <td>1.0</td>\n      <td>14.0</td>\n    </tr>\n  </tbody>\n</table>\n<p>91 rows × 7 columns</p>\n</div>"
     },
     "metadata": {},
     "execution_count": 10
    }
   ],
   "source": [
    "df"
   ]
  },
  {
   "cell_type": "code",
   "execution_count": 11,
   "metadata": {},
   "outputs": [
    {
     "output_type": "error",
     "ename": "TypeError",
     "evalue": "Only valid with DatetimeIndex, TimedeltaIndex or PeriodIndex, but got an instance of 'RangeIndex'",
     "traceback": [
      "\u001b[1;31m---------------------------------------------------------------------------\u001b[0m",
      "\u001b[1;31mTypeError\u001b[0m                                 Traceback (most recent call last)",
      "\u001b[1;32m<ipython-input-11-2c2b8ddd5117>\u001b[0m in \u001b[0;36m<module>\u001b[1;34m\u001b[0m\n\u001b[0;32m      1\u001b[0m \u001b[0mnew_index\u001b[0m \u001b[1;33m=\u001b[0m \u001b[0mpd\u001b[0m\u001b[1;33m.\u001b[0m\u001b[0mdate_range\u001b[0m\u001b[1;33m(\u001b[0m\u001b[0mearliest\u001b[0m\u001b[1;33m,\u001b[0m \u001b[0mlatest\u001b[0m\u001b[1;33m,\u001b[0m \u001b[0mfreq\u001b[0m\u001b[1;33m=\u001b[0m\u001b[1;34m'D'\u001b[0m\u001b[1;33m)\u001b[0m\u001b[1;33m\u001b[0m\u001b[0m\n\u001b[0;32m      2\u001b[0m \u001b[1;33m\u001b[0m\u001b[0m\n\u001b[1;32m----> 3\u001b[1;33m \u001b[0mdf\u001b[0m \u001b[1;33m=\u001b[0m \u001b[0mdf\u001b[0m\u001b[1;33m.\u001b[0m\u001b[0mgroupby\u001b[0m\u001b[1;33m(\u001b[0m\u001b[0mpd\u001b[0m\u001b[1;33m.\u001b[0m\u001b[0mGrouper\u001b[0m\u001b[1;33m(\u001b[0m\u001b[0mfreq\u001b[0m\u001b[1;33m=\u001b[0m\u001b[1;34m'D'\u001b[0m\u001b[1;33m)\u001b[0m\u001b[1;33m)\u001b[0m\u001b[1;33m.\u001b[0m\u001b[0mlast\u001b[0m\u001b[1;33m(\u001b[0m\u001b[1;33m)\u001b[0m\u001b[1;33m\u001b[0m\u001b[0m\n\u001b[0m\u001b[0;32m      4\u001b[0m \u001b[0mdf\u001b[0m \u001b[1;33m=\u001b[0m \u001b[0mdf\u001b[0m\u001b[1;33m.\u001b[0m\u001b[0mreindex\u001b[0m\u001b[1;33m(\u001b[0m\u001b[0mnew_index\u001b[0m\u001b[1;33m,\u001b[0m \u001b[0mmethod\u001b[0m\u001b[1;33m=\u001b[0m\u001b[1;34m'ffill'\u001b[0m\u001b[1;33m)\u001b[0m\u001b[1;33m\u001b[0m\u001b[0m\n\u001b[0;32m      5\u001b[0m \u001b[0mdf\u001b[0m \u001b[1;33m=\u001b[0m \u001b[0mdf\u001b[0m\u001b[1;33m.\u001b[0m\u001b[0mfillna\u001b[0m\u001b[1;33m(\u001b[0m\u001b[0mmethod\u001b[0m\u001b[1;33m=\u001b[0m\u001b[1;34m'ffill'\u001b[0m\u001b[1;33m)\u001b[0m\u001b[1;33m\u001b[0m\u001b[0m\n",
      "\u001b[1;32mC:\\Program Files (x86)\\Microsoft Visual Studio\\Shared\\Anaconda3_64\\lib\\site-packages\\pandas\\core\\generic.py\u001b[0m in \u001b[0;36mgroupby\u001b[1;34m(self, by, axis, level, as_index, sort, group_keys, squeeze, observed, **kwargs)\u001b[0m\n\u001b[0;32m   6657\u001b[0m         return groupby(self, by=by, axis=axis, level=level, as_index=as_index,\n\u001b[0;32m   6658\u001b[0m                        \u001b[0msort\u001b[0m\u001b[1;33m=\u001b[0m\u001b[0msort\u001b[0m\u001b[1;33m,\u001b[0m \u001b[0mgroup_keys\u001b[0m\u001b[1;33m=\u001b[0m\u001b[0mgroup_keys\u001b[0m\u001b[1;33m,\u001b[0m \u001b[0msqueeze\u001b[0m\u001b[1;33m=\u001b[0m\u001b[0msqueeze\u001b[0m\u001b[1;33m,\u001b[0m\u001b[1;33m\u001b[0m\u001b[0m\n\u001b[1;32m-> 6659\u001b[1;33m                        observed=observed, **kwargs)\n\u001b[0m\u001b[0;32m   6660\u001b[0m \u001b[1;33m\u001b[0m\u001b[0m\n\u001b[0;32m   6661\u001b[0m     def asfreq(self, freq, method=None, how=None, normalize=False,\n",
      "\u001b[1;32mC:\\Program Files (x86)\\Microsoft Visual Studio\\Shared\\Anaconda3_64\\lib\\site-packages\\pandas\\core\\groupby\\groupby.py\u001b[0m in \u001b[0;36mgroupby\u001b[1;34m(obj, by, **kwds)\u001b[0m\n\u001b[0;32m   2150\u001b[0m         \u001b[1;32mraise\u001b[0m \u001b[0mTypeError\u001b[0m\u001b[1;33m(\u001b[0m\u001b[1;34m'invalid type: %s'\u001b[0m \u001b[1;33m%\u001b[0m \u001b[0mtype\u001b[0m\u001b[1;33m(\u001b[0m\u001b[0mobj\u001b[0m\u001b[1;33m)\u001b[0m\u001b[1;33m)\u001b[0m\u001b[1;33m\u001b[0m\u001b[0m\n\u001b[0;32m   2151\u001b[0m \u001b[1;33m\u001b[0m\u001b[0m\n\u001b[1;32m-> 2152\u001b[1;33m     \u001b[1;32mreturn\u001b[0m \u001b[0mklass\u001b[0m\u001b[1;33m(\u001b[0m\u001b[0mobj\u001b[0m\u001b[1;33m,\u001b[0m \u001b[0mby\u001b[0m\u001b[1;33m,\u001b[0m \u001b[1;33m**\u001b[0m\u001b[0mkwds\u001b[0m\u001b[1;33m)\u001b[0m\u001b[1;33m\u001b[0m\u001b[0m\n\u001b[0m\u001b[0;32m   2153\u001b[0m \u001b[1;33m\u001b[0m\u001b[0m\n\u001b[0;32m   2154\u001b[0m \u001b[1;33m\u001b[0m\u001b[0m\n",
      "\u001b[1;32mC:\\Program Files (x86)\\Microsoft Visual Studio\\Shared\\Anaconda3_64\\lib\\site-packages\\pandas\\core\\groupby\\groupby.py\u001b[0m in \u001b[0;36m__init__\u001b[1;34m(self, obj, keys, axis, level, grouper, exclusions, selection, as_index, sort, group_keys, squeeze, observed, **kwargs)\u001b[0m\n\u001b[0;32m    597\u001b[0m                                                     \u001b[0msort\u001b[0m\u001b[1;33m=\u001b[0m\u001b[0msort\u001b[0m\u001b[1;33m,\u001b[0m\u001b[1;33m\u001b[0m\u001b[0m\n\u001b[0;32m    598\u001b[0m                                                     \u001b[0mobserved\u001b[0m\u001b[1;33m=\u001b[0m\u001b[0mobserved\u001b[0m\u001b[1;33m,\u001b[0m\u001b[1;33m\u001b[0m\u001b[0m\n\u001b[1;32m--> 599\u001b[1;33m                                                     mutated=self.mutated)\n\u001b[0m\u001b[0;32m    600\u001b[0m \u001b[1;33m\u001b[0m\u001b[0m\n\u001b[0;32m    601\u001b[0m         \u001b[0mself\u001b[0m\u001b[1;33m.\u001b[0m\u001b[0mobj\u001b[0m \u001b[1;33m=\u001b[0m \u001b[0mobj\u001b[0m\u001b[1;33m\u001b[0m\u001b[0m\n",
      "\u001b[1;32mC:\\Program Files (x86)\\Microsoft Visual Studio\\Shared\\Anaconda3_64\\lib\\site-packages\\pandas\\core\\groupby\\groupby.py\u001b[0m in \u001b[0;36m_get_grouper\u001b[1;34m(obj, key, axis, level, sort, observed, mutated, validate)\u001b[0m\n\u001b[0;32m   3187\u001b[0m     \u001b[1;31m# a passed-in Grouper, directly convert\u001b[0m\u001b[1;33m\u001b[0m\u001b[1;33m\u001b[0m\u001b[0m\n\u001b[0;32m   3188\u001b[0m     \u001b[1;32mif\u001b[0m \u001b[0misinstance\u001b[0m\u001b[1;33m(\u001b[0m\u001b[0mkey\u001b[0m\u001b[1;33m,\u001b[0m \u001b[0mGrouper\u001b[0m\u001b[1;33m)\u001b[0m\u001b[1;33m:\u001b[0m\u001b[1;33m\u001b[0m\u001b[0m\n\u001b[1;32m-> 3189\u001b[1;33m         \u001b[0mbinner\u001b[0m\u001b[1;33m,\u001b[0m \u001b[0mgrouper\u001b[0m\u001b[1;33m,\u001b[0m \u001b[0mobj\u001b[0m \u001b[1;33m=\u001b[0m \u001b[0mkey\u001b[0m\u001b[1;33m.\u001b[0m\u001b[0m_get_grouper\u001b[0m\u001b[1;33m(\u001b[0m\u001b[0mobj\u001b[0m\u001b[1;33m,\u001b[0m \u001b[0mvalidate\u001b[0m\u001b[1;33m=\u001b[0m\u001b[1;32mFalse\u001b[0m\u001b[1;33m)\u001b[0m\u001b[1;33m\u001b[0m\u001b[0m\n\u001b[0m\u001b[0;32m   3190\u001b[0m         \u001b[1;32mif\u001b[0m \u001b[0mkey\u001b[0m\u001b[1;33m.\u001b[0m\u001b[0mkey\u001b[0m \u001b[1;32mis\u001b[0m \u001b[1;32mNone\u001b[0m\u001b[1;33m:\u001b[0m\u001b[1;33m\u001b[0m\u001b[0m\n\u001b[0;32m   3191\u001b[0m             \u001b[1;32mreturn\u001b[0m \u001b[0mgrouper\u001b[0m\u001b[1;33m,\u001b[0m \u001b[1;33m[\u001b[0m\u001b[1;33m]\u001b[0m\u001b[1;33m,\u001b[0m \u001b[0mobj\u001b[0m\u001b[1;33m\u001b[0m\u001b[0m\n",
      "\u001b[1;32mC:\\Program Files (x86)\\Microsoft Visual Studio\\Shared\\Anaconda3_64\\lib\\site-packages\\pandas\\core\\resample.py\u001b[0m in \u001b[0;36m_get_grouper\u001b[1;34m(self, obj, validate)\u001b[0m\n\u001b[0;32m   1278\u001b[0m     \u001b[1;32mdef\u001b[0m \u001b[0m_get_grouper\u001b[0m\u001b[1;33m(\u001b[0m\u001b[0mself\u001b[0m\u001b[1;33m,\u001b[0m \u001b[0mobj\u001b[0m\u001b[1;33m,\u001b[0m \u001b[0mvalidate\u001b[0m\u001b[1;33m=\u001b[0m\u001b[1;32mTrue\u001b[0m\u001b[1;33m)\u001b[0m\u001b[1;33m:\u001b[0m\u001b[1;33m\u001b[0m\u001b[0m\n\u001b[0;32m   1279\u001b[0m         \u001b[1;31m# create the resampler and return our binner\u001b[0m\u001b[1;33m\u001b[0m\u001b[1;33m\u001b[0m\u001b[0m\n\u001b[1;32m-> 1280\u001b[1;33m         \u001b[0mr\u001b[0m \u001b[1;33m=\u001b[0m \u001b[0mself\u001b[0m\u001b[1;33m.\u001b[0m\u001b[0m_get_resampler\u001b[0m\u001b[1;33m(\u001b[0m\u001b[0mobj\u001b[0m\u001b[1;33m)\u001b[0m\u001b[1;33m\u001b[0m\u001b[0m\n\u001b[0m\u001b[0;32m   1281\u001b[0m         \u001b[0mr\u001b[0m\u001b[1;33m.\u001b[0m\u001b[0m_set_binner\u001b[0m\u001b[1;33m(\u001b[0m\u001b[1;33m)\u001b[0m\u001b[1;33m\u001b[0m\u001b[0m\n\u001b[0;32m   1282\u001b[0m         \u001b[1;32mreturn\u001b[0m \u001b[0mr\u001b[0m\u001b[1;33m.\u001b[0m\u001b[0mbinner\u001b[0m\u001b[1;33m,\u001b[0m \u001b[0mr\u001b[0m\u001b[1;33m.\u001b[0m\u001b[0mgrouper\u001b[0m\u001b[1;33m,\u001b[0m \u001b[0mr\u001b[0m\u001b[1;33m.\u001b[0m\u001b[0mobj\u001b[0m\u001b[1;33m\u001b[0m\u001b[0m\n",
      "\u001b[1;32mC:\\Program Files (x86)\\Microsoft Visual Studio\\Shared\\Anaconda3_64\\lib\\site-packages\\pandas\\core\\resample.py\u001b[0m in \u001b[0;36m_get_resampler\u001b[1;34m(self, obj, kind)\u001b[0m\n\u001b[0;32m   1274\u001b[0m         raise TypeError(\"Only valid with DatetimeIndex, \"\n\u001b[0;32m   1275\u001b[0m                         \u001b[1;34m\"TimedeltaIndex or PeriodIndex, \"\u001b[0m\u001b[1;33m\u001b[0m\u001b[0m\n\u001b[1;32m-> 1276\u001b[1;33m                         \"but got an instance of %r\" % type(ax).__name__)\n\u001b[0m\u001b[0;32m   1277\u001b[0m \u001b[1;33m\u001b[0m\u001b[0m\n\u001b[0;32m   1278\u001b[0m     \u001b[1;32mdef\u001b[0m \u001b[0m_get_grouper\u001b[0m\u001b[1;33m(\u001b[0m\u001b[0mself\u001b[0m\u001b[1;33m,\u001b[0m \u001b[0mobj\u001b[0m\u001b[1;33m,\u001b[0m \u001b[0mvalidate\u001b[0m\u001b[1;33m=\u001b[0m\u001b[1;32mTrue\u001b[0m\u001b[1;33m)\u001b[0m\u001b[1;33m:\u001b[0m\u001b[1;33m\u001b[0m\u001b[0m\n",
      "\u001b[1;31mTypeError\u001b[0m: Only valid with DatetimeIndex, TimedeltaIndex or PeriodIndex, but got an instance of 'RangeIndex'"
     ]
    }
   ],
   "source": [
    "\n",
    "\n",
    "\n",
    "        new_index = pd.date_range(earliest, latest, freq='D')\n",
    "\n",
    "        df = df.groupby(pd.Grouper(freq='D')).last()\n",
    "        df = df.reindex(new_index, method='ffill')\n",
    "        df = df.fillna(method='ffill')\n",
    "        df['Wtarget_sum'] = df['Wtarget'].cumsum()\n",
    "        df['Wdate'] = df['Wdate'].apply(lambda x: x[:10])\n",
    "        df['daily_words'] = [\n",
    "            (df[['Wcount']].iloc[i] - df[['Wcount']].iloc[i-1]).clip(0) if i >= 1 \n",
    "            else df[['Wcount']].iloc[i] for i in range(len(df))\n",
    "            ]\n",
    "        df['streak'] = [is_streak(i, df['Wcount'], df['Wtarget']) for i in range(len(df))]\n",
    "        d_list = streak_length(df['streak'])\n",
    "        df['streak'] = pd.Series(d_list, index=new_index)\n",
    "        \n",
    "        df = df.groupby(pd.Grouper(freq=freq)).last()\n",
    "        records = df.to_dict(orient='records')"
   ]
  }
 ]
}