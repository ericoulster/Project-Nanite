{
 "metadata": {
  "language_info": {
   "codemirror_mode": {
    "name": "ipython",
    "version": 3
   },
   "file_extension": ".py",
   "mimetype": "text/x-python",
   "name": "python",
   "nbconvert_exporter": "python",
   "pygments_lexer": "ipython3",
   "version": "3.6.5-final"
  },
  "orig_nbformat": 2,
  "kernelspec": {
   "name": "python365jvsc74a57bd0e73f067f1c59be12cfda938665c6a960a5d3ec55ce3a05feea7c329cb1f7e9af",
   "display_name": "Python 3.6.5 64-bit (conda)"
  }
 },
 "nbformat": 4,
 "nbformat_minor": 2,
 "cells": [
  {
   "cell_type": "code",
   "execution_count": 1,
   "metadata": {},
   "outputs": [],
   "source": [
    "from datetime import datetime\n",
    "\n",
    "from collections import namedtuple\n",
    "\n",
    "import numpy as np\n",
    "import pandas as pd\n",
    "\n",
    "import sqlite3"
   ]
  },
  {
   "cell_type": "code",
   "execution_count": 2,
   "metadata": {},
   "outputs": [],
   "source": [
    "sqlite3_path = './database/nanite_storage.sqlite3'"
   ]
  },
  {
   "cell_type": "code",
   "execution_count": 3,
   "metadata": {},
   "outputs": [],
   "source": [
    "# defining dict-like structure for retrieved data (use ._asdict() method on them)\n",
    "AuthorVals = namedtuple('Author', 'author_id username password acct_created_on')"
   ]
  },
  {
   "cell_type": "code",
   "execution_count": 7,
   "metadata": {},
   "outputs": [],
   "source": [
    "def timestamp(): \n",
    "    return str(datetime.now())"
   ]
  },
  {
   "cell_type": "code",
   "execution_count": 161,
   "metadata": {},
   "outputs": [],
   "source": [
    "def path_parser(path):\n",
    "    \"\"\"\n",
    "    Takes in path, returns filetype\n",
    "    \"\"\"\n",
    "    txt = '.txt'\n",
    "    rtf = '.rtf'\n",
    "    docx = '.docx'\n",
    "    txt = path.rfind(txt)\n",
    "    rtf = path.rfind(rtf)\n",
    "    docx = path.rfind(docx)\n",
    "    if txt != -1:\n",
    "        return '.txt'\n",
    "    elif rtf != -1:\n",
    "        return '.rtf'  \n",
    "    elif docx != -1:\n",
    "        return '.docx'   \n",
    "    else:\n",
    "        print(\"Incompatible Filetype.\")   "
   ]
  },
  {
   "cell_type": "code",
   "execution_count": 27,
   "metadata": {},
   "outputs": [],
   "source": [
    "def create_author(author_name, password=''):    \n",
    "    \"\"\" \n",
    "    Inserts an Author into database if they don't exist.\n",
    "    If they do, this task does not go through. \n",
    "    \"\"\"\n",
    "    # add a check to make sure the author doesn't already exist\n",
    "    now = timestamp()\n",
    "    conn = sqlite3.connect(sqlite3_path)\n",
    "    cur = conn.cursor()\n",
    "    \n",
    "    cur.execute(\"SELECT username FROM authors WHERE username=?\", (author_name,))\n",
    "    entry = cur.fetchone()\n",
    "    if entry is None:\n",
    "\n",
    "        query = '''INSERT INTO authors\n",
    "                    values (?,?,?,?) '''\n",
    "        \n",
    "        params = (None, author_name, password, now)\n",
    "        cur.execute(query, params)\n",
    "        conn.commit()\n",
    "        conn.close()\n",
    "    else:\n",
    "        conn.close()\n",
    "        return print(\"This row already exists!\")"
   ]
  },
  {
   "cell_type": "code",
   "execution_count": 137,
   "metadata": {},
   "outputs": [],
   "source": [
    "def return_author_list():\n",
    "    \"\"\"\n",
    "    Prints all authors as a list of dicts\n",
    "    \"\"\"\n",
    "    conn = sqlite3.connect(sqlite3_path)\n",
    "    cur = conn.cursor()\n",
    "    cur.execute(\"SELECT * FROM authors\")\n",
    "    rows = cur.fetchall()\n",
    "    data = [dict(AuthorVals(*rows[i])._asdict()) for i in range(len(rows))]\n",
    "    conn.close()\n",
    "    return data"
   ]
  },
  {
   "cell_type": "code",
   "execution_count": null,
   "metadata": {},
   "outputs": [],
   "source": [
    "# create a function to infer some class-related details"
   ]
  },
  {
   "cell_type": "code",
   "execution_count": 8,
   "metadata": {},
   "outputs": [],
   "source": [
    "class AuthorActions:\n",
    "\n",
    "    def __init__(self, author_id=-1):\n",
    "        self.author_id = author_id\n",
    "    \n",
    "\n",
    "    def return_info(self):\n",
    "        \"\"\"\n",
    "        prints the row of information for the author\n",
    "        \"\"\" \n",
    "        conn = sqlite3.connect(sqlite3_path)\n",
    "        cur = conn.cursor()\n",
    "        cur.execute(\"SELECT * FROM authors WHERE author_id=?\", (self.author_id,))\n",
    "        row = cur.fetchall()\n",
    "        data = AuthorVals(*row[0])\n",
    "        conn.close()\n",
    "        return dict(data._asdict())\n",
    "\n",
    "\n",
    "    def id_by_name(self, author_name):\n",
    "        \"\"\"\n",
    "        Sets AuthorChecker to the right ID based on the author's name.\n",
    "        \"\"\"\n",
    "        conn = sqlite3.connect(sqlite3_path)\n",
    "        cur = conn.cursor()\n",
    "        cur.execute(\"SELECT * FROM authors WHERE username=?\", (author_name,))\n",
    "        data = cur.fetchone()\n",
    "        if data is not None:\n",
    "            self.author_id = int(data[0])\n",
    "            conn.close()\n",
    "        else:\n",
    "            print(\"No name found.\")\n",
    "            conn.close()\n",
    "\n",
    "\n",
    "    def create_project(\n",
    "        self, \n",
    "        project_name, \n",
    "        deadline=None,\n",
    "        wordcount_goal=None, \n",
    "        current_daily_target=None,\n",
    "        filetype='na',\n",
    "        is_folder=True,\n",
    "        project_path=None):\n",
    "        \"\"\"\n",
    "        Takes in a project info, then creates a new project for a given author.\n",
    "        Eric note: I may switch this to taking in a dict in future, depending on Bens feedback.\n",
    "        \"\"\"\n",
    "        now = timestamp()\n",
    "        conn = sqlite3.connect(sqlite3_path)\n",
    "        cur = conn.cursor()\n",
    "        cur.execute(\"SELECT project_id FROM projects WHERE project_name=? AND author_id=?\", (project_name,self.author_id))\n",
    "        entry = cur.fetchone()\n",
    "        conn.close()\n",
    "        if entry is None:\n",
    "            # do insert\n",
    "            conn = sqlite3.connect(sqlite3_path)\n",
    "            cur = conn.cursor()\n",
    "            query = '''INSERT INTO projects values (\n",
    "                ?, ?, ?, ?, ?, ?, ?, ?, ?, ?) '''\n",
    "            params = [None, self.author_id, project_name, now, deadline, \n",
    "            wordcount_goal, current_daily_target, filetype, is_folder, project_path]\n",
    "            try:\n",
    "                cur.execute(query, params)\n",
    "                conn.commit()\n",
    "            finally:\n",
    "                conn.close()\n",
    "        else:\n",
    "            print(\"project with this name already exists\")\n",
    "            conn.close()\n",
    "\n",
    "\n",
    "    def delete_project(self, project_name):\n",
    "        conn = sqlite3.connect(sqlite3_path)\n",
    "        cur = conn.cursor()\n",
    "        cur.execute(\"DELETE FROM projects where project_name=? AND author_id=?\", (project_name, self.author_id))\n",
    "        conn.commit()\n",
    "        conn.close()\n",
    "\n",
    "\n",
    "    def return_projects(self):\n",
    "        conn = sqlite3.connect(sqlite3_path)\n",
    "        cur = conn.cursor()\n",
    "        cur.execute(\"SELECT * FROM projects where author_id=?\", self.author_id)\n",
    "        data = cur.fetchall()\n",
    "        conn.close()\n",
    "        return data\n",
    "\n",
    "\n",
    "    def rename_author(self, new_name):\n",
    "        \"\"\"Renames an author based on new_name\"\"\"\n",
    "        conn = sqlite3.connect(sqlite3_path)\n",
    "        cur = conn.cursor()\n",
    "        cur.execute(\"UPDATE authors SET username=? WHERE author_id=?\", (new_name, self.author_id))\n",
    "        conn.commit()\n",
    "        conn.close()"
   ]
  },
  {
   "cell_type": "code",
   "execution_count": null,
   "metadata": {},
   "outputs": [],
   "source": [
    "class ProjectActions:\n",
    "    \n",
    "    def __init__(self, project_id=-1, author_id=-1):\n",
    "        self.project_id = project_id\n",
    "        self.author_id = author_id\n",
    "\n",
    "    def set_current_project(self, author_id, project_id):\n",
    "        # check author id & project id in the database- reset \n",
    "    \n",
    "    def find_name_from_project_id(self):\n",
    "        \n",
    "\n",
    "\n",
    "    def return_author(self):\n",
    "        # set self"
   ]
  },
  {
   "cell_type": "code",
   "execution_count": 8,
   "metadata": {},
   "outputs": [
    {
     "output_type": "execute_result",
     "data": {
      "text/plain": [
       "3"
      ]
     },
     "metadata": {},
     "execution_count": 8
    }
   ],
   "source": [
    "#code.define_author(\"george\")\n",
    "code.author_id"
   ]
  },
  {
   "cell_type": "code",
   "execution_count": 5,
   "metadata": {},
   "outputs": [],
   "source": [
    "\n",
    "### DDL Queries ###\n",
    "\n",
    "create_author_sql = \"\"\"\n",
    "CREATE TABLE IF NOT EXISTS authors (\n",
    "    author_id integer PRIMARY KEY,\n",
    "    username text NOT NULL,\n",
    "    password text,\n",
    "    acct_created_on text NOT NULL\n",
    ")\n",
    "\"\"\"\n",
    "\n",
    "create_project_sql = \"\"\"\n",
    "CREATE TABLE IF NOT EXISTS projects (\n",
    "    project_id integer PRIMARY KEY,\n",
    "    author_id integer,\n",
    "    project_name text NOT NULL,\n",
    "    project_created_on text NOT NULL,\n",
    "    deadline text,\n",
    "    wordcount_goal int,\n",
    "    current_daily_target int,\n",
    "    filetype text NOT NULL,\n",
    "    is_folder int NOT NULL,\n",
    "    project_path text NOT NULL,\n",
    "    FOREIGN KEY (author_id) REFERENCES authors (author_id)\n",
    ")\n",
    "\"\"\"\n",
    "\n",
    "create_words_sql = \"\"\"\n",
    "CREATE TABLE IF NOT EXISTS words (\n",
    "    record_id integer PRIMARY_KEY,\n",
    "    project_id integer,\n",
    "    author_id integer,\n",
    "    Wdate text NOT NULL,\n",
    "    Wcount int NOT NULL,\n",
    "    Wtarget int,\n",
    "    FOREIGN KEY (project_id) REFERENCES projects (project_id),\n",
    "    FOREIGN KEY (author_id) REFERENCES authors (author_id)\n",
    ")\n",
    "\"\"\"\n",
    "\n",
    "\n",
    "sqlite3_path = './database/nanite_storage.sqlite3'\n",
    "# SQLite just needs to connect to create db\n",
    "def db_init():\n",
    "    \"\"\"creates database if they don't exist\"\"\"\n",
    "    if os.path.exists(sqlite3_path) == False:\n",
    "        conn = sqlite3.connect(sqlite3_path)\n",
    "        conn.execute(\"PRAGMA foreign_keys = 1\")\n",
    "        conn.execute(create_author_sql)\n",
    "        conn.execute(create_project_sql)\n",
    "        conn.execute(create_words_sql)\n",
    "        conn.close()\n",
    "    else:\n",
    "        print(\"db already exists\")"
   ]
  },
  {
   "cell_type": "code",
   "execution_count": 6,
   "metadata": {},
   "outputs": [],
   "source": [
    "db_init()"
   ]
  },
  {
   "cell_type": "code",
   "execution_count": 9,
   "metadata": {},
   "outputs": [
    {
     "output_type": "execute_result",
     "data": {
      "text/plain": [
       "{'author_id': 1,\n",
       " 'username': 'Johnny',\n",
       " 'password': '',\n",
       " 'acct_created_on': '2021-04-02 18:02:02.682807'}"
      ]
     },
     "metadata": {},
     "execution_count": 9
    }
   ],
   "source": [
    "a = AuthorActions()\n",
    "a.id_by_name('Johnny')\n",
    "a.return_info()\n"
   ]
  },
  {
   "cell_type": "code",
   "execution_count": 11,
   "metadata": {},
   "outputs": [
    {
     "output_type": "error",
     "ename": "OperationalError",
     "evalue": "database is locked",
     "traceback": [
      "\u001b[1;31m---------------------------------------------------------------------------\u001b[0m",
      "\u001b[1;31mOperationalError\u001b[0m                          Traceback (most recent call last)",
      "\u001b[1;32m<ipython-input-11-965bf998e3d7>\u001b[0m in \u001b[0;36m<module>\u001b[1;34m\u001b[0m\n\u001b[1;32m----> 1\u001b[1;33m \u001b[0ma\u001b[0m\u001b[1;33m.\u001b[0m\u001b[0mcreate_project\u001b[0m\u001b[1;33m(\u001b[0m\u001b[1;34m\"Johnnys Manifesto\"\u001b[0m\u001b[1;33m,\u001b[0m \u001b[0mproject_path\u001b[0m\u001b[1;33m=\u001b[0m\u001b[1;34m''\u001b[0m\u001b[1;33m)\u001b[0m\u001b[1;33m\u001b[0m\u001b[0m\n\u001b[0m",
      "\u001b[1;32m<ipython-input-8-c012ac7f7bdf>\u001b[0m in \u001b[0;36mcreate_project\u001b[1;34m(self, project_name, deadline, wordcount_goal, current_daily_target, filetype, is_folder, project_path)\u001b[0m\n\u001b[0;32m     61\u001b[0m             params = [None, self.author_id, project_name, now, deadline, \n\u001b[0;32m     62\u001b[0m             wordcount_goal, current_daily_target, filetype, is_folder, project_path]\n\u001b[1;32m---> 63\u001b[1;33m             \u001b[0mcur\u001b[0m\u001b[1;33m.\u001b[0m\u001b[0mexecute\u001b[0m\u001b[1;33m(\u001b[0m\u001b[0mquery\u001b[0m\u001b[1;33m,\u001b[0m \u001b[0mparams\u001b[0m\u001b[1;33m)\u001b[0m\u001b[1;33m\u001b[0m\u001b[0m\n\u001b[0m\u001b[0;32m     64\u001b[0m             \u001b[0mconn\u001b[0m\u001b[1;33m.\u001b[0m\u001b[0mcommit\u001b[0m\u001b[1;33m(\u001b[0m\u001b[1;33m)\u001b[0m\u001b[1;33m\u001b[0m\u001b[0m\n\u001b[0;32m     65\u001b[0m             \u001b[0mconn\u001b[0m\u001b[1;33m.\u001b[0m\u001b[0mclose\u001b[0m\u001b[1;33m(\u001b[0m\u001b[1;33m)\u001b[0m\u001b[1;33m\u001b[0m\u001b[0m\n",
      "\u001b[1;31mOperationalError\u001b[0m: database is locked"
     ]
    }
   ],
   "source": [
    "a.create_project(\"Johnnys Manifesto\", project_path='')"
   ]
  },
  {
   "cell_type": "code",
   "execution_count": 12,
   "metadata": {},
   "outputs": [
    {
     "output_type": "error",
     "ename": "NameError",
     "evalue": "name 'conn' is not defined",
     "traceback": [
      "\u001b[1;31m---------------------------------------------------------------------------\u001b[0m",
      "\u001b[1;31mNameError\u001b[0m                                 Traceback (most recent call last)",
      "\u001b[1;32m<ipython-input-12-8dd0cd799055>\u001b[0m in \u001b[0;36m<module>\u001b[1;34m\u001b[0m\n\u001b[1;32m----> 1\u001b[1;33m \u001b[0mconn\u001b[0m\u001b[1;33m.\u001b[0m\u001b[0mclose\u001b[0m\u001b[1;33m(\u001b[0m\u001b[1;33m)\u001b[0m\u001b[1;33m\u001b[0m\u001b[0m\n\u001b[0m",
      "\u001b[1;31mNameError\u001b[0m: name 'conn' is not defined"
     ]
    }
   ],
   "source": []
  },
  {
   "cell_type": "code",
   "execution_count": null,
   "metadata": {},
   "outputs": [],
   "source": []
  }
 ]
}