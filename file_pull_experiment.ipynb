{
 "metadata": {
  "language_info": {
   "codemirror_mode": {
    "name": "ipython",
    "version": 3
   },
   "file_extension": ".py",
   "mimetype": "text/x-python",
   "name": "python",
   "nbconvert_exporter": "python",
   "pygments_lexer": "ipython3",
   "version": "3.6.5-final"
  },
  "orig_nbformat": 2,
  "kernelspec": {
   "name": "python365jvsc74a57bd0e73f067f1c59be12cfda938665c6a960a5d3ec55ce3a05feea7c329cb1f7e9af",
   "display_name": "Python 3.6.5 64-bit (conda)"
  }
 },
 "nbformat": 4,
 "nbformat_minor": 2,
 "cells": [
  {
   "cell_type": "code",
   "execution_count": 1,
   "metadata": {},
   "outputs": [],
   "source": [
    "import string\n",
    "from pathlib import Path\n",
    "import shutil\n",
    "import re\n",
    "\n",
    "from striprtf.striprtf import rtf_to_text\n",
    "import docx2txt\n"
   ]
  },
  {
   "cell_type": "code",
   "execution_count": 16,
   "metadata": {},
   "outputs": [],
   "source": [
    "r = re.compile(r'\\w+')\n",
    "punctuation_strip = str.maketrans('', '', string.punctuation)\n",
    "\n",
    "# input is words, returns a wordcount\n",
    "def wordcount(content: str) -> int:\n",
    "    filetoken = content.translate(punctuation_strip).split(' ')\n",
    "    wordcount = list(filter(r.match, filetoken))\n",
    "    return len(wordcount)"
   ]
  },
  {
   "cell_type": "code",
   "execution_count": 3,
   "metadata": {},
   "outputs": [],
   "source": [
    "### Single-file ###"
   ]
  },
  {
   "cell_type": "code",
   "execution_count": 17,
   "metadata": {},
   "outputs": [],
   "source": [
    "text = \"OMG THIS IS A LOT OF TEXT LOL ROFL XD XD\""
   ]
  },
  {
   "cell_type": "code",
   "execution_count": 18,
   "metadata": {},
   "outputs": [
    {
     "output_type": "execute_result",
     "data": {
      "text/plain": [
       "11"
      ]
     },
     "metadata": {},
     "execution_count": 18
    }
   ],
   "source": [
    "wordcount(text)"
   ]
  },
  {
   "cell_type": "code",
   "execution_count": 5,
   "metadata": {},
   "outputs": [],
   "source": [
    "def single_copyfile(path: str, new_name: str, filetype: str) -> Path():\n",
    "    src = Path(f'{path}'.format(r''))\n",
    "    local = r\"./temp_filestore/\"\n",
    "    dst = Path(local).joinpath(str(new_name + filetype))\n",
    "    try:\n",
    "        shutil.copyfile(src, dst)\n",
    "    except:\n",
    "        raise Exception(\"Error: shutil copy failed\")\n",
    "    return dst"
   ]
  },
  {
   "cell_type": "code",
   "execution_count": 6,
   "metadata": {},
   "outputs": [],
   "source": [
    "project_name = 'book'\n",
    "new_name = str(project_name + '.docx')"
   ]
  },
  {
   "cell_type": "code",
   "execution_count": 7,
   "metadata": {},
   "outputs": [],
   "source": [
    "### Folders ###"
   ]
  },
  {
   "cell_type": "code",
   "execution_count": 8,
   "metadata": {},
   "outputs": [],
   "source": [
    "def path_parser(path: str) -> str:\n",
    "    \"\"\"\n",
    "    Takes in path, returns filetype\n",
    "    \"\"\"\n",
    "    path_raw = r\"{}\".format(path)\n",
    "    txt = '.txt'\n",
    "    rtf = '.rtf'\n",
    "    docx = '.docx'\n",
    "    txt = path_raw.rfind(txt)\n",
    "    rtf = path_raw.rfind(rtf)\n",
    "    docx = path_raw.rfind(docx)\n",
    "    if txt != -1:\n",
    "        return '.txt'\n",
    "    elif rtf != -1:\n",
    "        return '.rtf'  \n",
    "    elif docx != -1:\n",
    "        return '.docx'   \n",
    "    else:\n",
    "        return None"
   ]
  },
  {
   "cell_type": "code",
   "execution_count": 9,
   "metadata": {},
   "outputs": [],
   "source": [
    "def filepull(path: Path()) -> str:  \n",
    "    \"\"\"\n",
    "    Takes in directory, returns all words from it.\n",
    "    \"\"\"\n",
    "    ftype = path_parser(path)\n",
    "\n",
    "    if ftype == '.txt':\n",
    "        try:\n",
    "            with open(path, \"r\", encoding='utf8') as txtfile:\n",
    "                words = txtfile.read()\n",
    "                txtfile.close()\n",
    "                return words\n",
    "        except:\n",
    "            raise Exception(\"Error with reading .txt file\")\n",
    "\n",
    "    elif ftype == '.rtf':\n",
    "        try:\n",
    "            with open(path, \"r\", encoding='utf8') as rtffile:\n",
    "                rtf_file = rtffile.read()\n",
    "                clean_file = rtf_to_text(rtf_file)\n",
    "                words = clean_file     \n",
    "                rtffile.close()\n",
    "                return words         \n",
    "        except:\n",
    "            raise Exception(\"Error with reading .rtf file\")\n",
    "\n",
    "    elif ftype == '.docx':\n",
    "        try:\n",
    "            docxfile = docx2txt.process(path)\n",
    "            words = docxfile\n",
    "            return words\n",
    "        except:\n",
    "            raise Exception(\"Error reading .docx file\")\n",
    "\n",
    "    else:\n",
    "        print(f'{path} is an unrecognized filetype')"
   ]
  },
  {
   "cell_type": "code",
   "execution_count": 10,
   "metadata": {},
   "outputs": [],
   "source": [
    "folder_path = r'D:\\Documents\\Bookup\\Draft 5.9\\Draft'"
   ]
  },
  {
   "cell_type": "code",
   "execution_count": 44,
   "metadata": {},
   "outputs": [],
   "source": [
    "def file_pipe(path: str) -> str:\n",
    "    orig = Path(f'{path}'.format(r''))\n",
    "    local = r\"./temp_filestore/\"\n",
    "    copy = Path(local)\n",
    "    \n",
    "    ## File Move ##\n",
    "    \n",
    "    if orig.is_dir() is True:\n",
    "        try:\n",
    "            shutil.copytree(orig, copy)\n",
    "        except:\n",
    "            raise Exception(\"Error: shutil copy failed\")\n",
    "    else:\n",
    "        try:\n",
    "            shutil.copy2(orig, copy)\n",
    "        except:\n",
    "            raise Exception(\"Error: shutil copy failed\")\n",
    "    \n",
    "    ## Filepull ##\n",
    "\n",
    "    # Single File #\n",
    "    if orig.is_dir() is False:\n",
    "        words = filepull(copy.joinpath(orig.name))\n",
    "    ## Multi-file ##\n",
    "    else:\n",
    "        list_words = [filepull(i) for i in copy.iterdir()]\n",
    "        words = (\" \").join(list_words)\n",
    "    wc = wordcount(words)\n",
    "    print(wc)\n",
    "    shutil.rmtree(copy)\n",
    "    return wc"
   ]
  },
  {
   "cell_type": "code",
   "execution_count": 48,
   "metadata": {},
   "outputs": [
    {
     "output_type": "stream",
     "name": "stdout",
     "text": [
      "348\n"
     ]
    },
    {
     "output_type": "execute_result",
     "data": {
      "text/plain": [
       "348"
      ]
     },
     "metadata": {},
     "execution_count": 48
    }
   ],
   "source": [
    "file_pipe('D:\\Documents\\Resume stuff')"
   ]
  },
  {
   "cell_type": "code",
   "execution_count": null,
   "metadata": {},
   "outputs": [],
   "source": []
  }
 ]
}