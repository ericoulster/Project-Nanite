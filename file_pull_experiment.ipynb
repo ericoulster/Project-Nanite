{
 "metadata": {
  "language_info": {
   "codemirror_mode": {
    "name": "ipython",
    "version": 3
   },
   "file_extension": ".py",
   "mimetype": "text/x-python",
   "name": "python",
   "nbconvert_exporter": "python",
   "pygments_lexer": "ipython3",
   "version": "3.6.5-final"
  },
  "orig_nbformat": 2,
  "kernelspec": {
   "name": "python365jvsc74a57bd0e73f067f1c59be12cfda938665c6a960a5d3ec55ce3a05feea7c329cb1f7e9af",
   "display_name": "Python 3.6.5 64-bit (conda)"
  }
 },
 "nbformat": 4,
 "nbformat_minor": 2,
 "cells": [
  {
   "cell_type": "code",
   "execution_count": 31,
   "metadata": {},
   "outputs": [],
   "source": [
    "from pathlib import Path\n",
    "import shutil"
   ]
  },
  {
   "cell_type": "code",
   "execution_count": null,
   "metadata": {},
   "outputs": [],
   "source": [
    "### Single-file ###"
   ]
  },
  {
   "cell_type": "code",
   "execution_count": 43,
   "metadata": {},
   "outputs": [],
   "source": [
    "path = r'D:\\Documents\\Invoice for Canadian Transplant Society - October.docx'"
   ]
  },
  {
   "cell_type": "code",
   "execution_count": 77,
   "metadata": {},
   "outputs": [],
   "source": [
    "def single_copyfile(path: str, new_name: str, filetype: str) -> Path():\n",
    "    src = Path(f'{path}'.format(r''))\n",
    "    local = r\"./temp_filestore/\"\n",
    "    dst = Path(local).joinpath(str(new_name + filetype))\n",
    "    try:\n",
    "        shutil.copyfile(src, dst)\n",
    "    except:\n",
    "        raise Exception(\"Error: shutil copy failed\")\n",
    "    return dst"
   ]
  },
  {
   "cell_type": "code",
   "execution_count": 78,
   "metadata": {},
   "outputs": [
    {
     "output_type": "execute_result",
     "data": {
      "text/plain": [
       "WindowsPath('temp_filestore/invoice.docx')"
      ]
     },
     "metadata": {},
     "execution_count": 78
    }
   ],
   "source": [
    "single_copyfile(path, 'invoice', '.docx')"
   ]
  },
  {
   "cell_type": "code",
   "execution_count": 33,
   "metadata": {},
   "outputs": [],
   "source": [
    "project_name = 'book'\n",
    "new_name = str(project_name + '.docx')"
   ]
  },
  {
   "cell_type": "code",
   "execution_count": 35,
   "metadata": {},
   "outputs": [],
   "source": [
    "src = Path(path)\n",
    "dst = Path(local).joinpath(new_name)"
   ]
  },
  {
   "cell_type": "code",
   "execution_count": 75,
   "metadata": {},
   "outputs": [],
   "source": [
    "def multi_copyfile(path: str, new_name: str) -> Path():\n",
    "    src = Path(f'{path}'.format(r''))\n",
    "    local = r\"./temp_filestore/\"\n",
    "    dst = Path(local).joinpath(str(new_name))\n",
    "    try:\n",
    "        shutil.copytree(src, dst)\n",
    "    except:\n",
    "        raise Exception(\"Error: shutil copy failed\")\n",
    "    return dst"
   ]
  },
  {
   "cell_type": "code",
   "execution_count": null,
   "metadata": {},
   "outputs": [],
   "source": [
    "### Folders ###"
   ]
  },
  {
   "cell_type": "code",
   "execution_count": 38,
   "metadata": {},
   "outputs": [],
   "source": [
    "folder_path = r'D:\\Documents\\Bookup\\Draft 5.9\\Draft'"
   ]
  },
  {
   "cell_type": "code",
   "execution_count": 76,
   "metadata": {},
   "outputs": [
    {
     "output_type": "execute_result",
     "data": {
      "text/plain": [
       "WindowsPath('temp_filestore/booksample')"
      ]
     },
     "metadata": {},
     "execution_count": 76
    }
   ],
   "source": [
    "multi_copyfile(folder_path, 'booksample')"
   ]
  },
  {
   "cell_type": "code",
   "execution_count": null,
   "metadata": {},
   "outputs": [],
   "source": [
    "# build bigger pipe"
   ]
  }
 ]
}