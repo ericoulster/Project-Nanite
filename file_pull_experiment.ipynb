{
 "metadata": {
  "language_info": {
   "codemirror_mode": {
    "name": "ipython",
    "version": 3
   },
   "file_extension": ".py",
   "mimetype": "text/x-python",
   "name": "python",
   "nbconvert_exporter": "python",
   "pygments_lexer": "ipython3",
   "version": "3.6.5-final"
  },
  "orig_nbformat": 2,
  "kernelspec": {
   "name": "python365jvsc74a57bd0e73f067f1c59be12cfda938665c6a960a5d3ec55ce3a05feea7c329cb1f7e9af",
   "display_name": "Python 3.6.5 64-bit (conda)"
  }
 },
 "nbformat": 4,
 "nbformat_minor": 2,
 "cells": [
  {
   "cell_type": "code",
   "execution_count": 1,
   "metadata": {},
   "outputs": [],
   "source": [
    "import string\n",
    "from pathlib import Path\n",
    "import shutil\n",
    "import re\n",
    "\n",
    "from striprtf.striprtf import rtf_to_text\n",
    "import docx2txt\n"
   ]
  },
  {
   "cell_type": "code",
   "execution_count": 16,
   "metadata": {},
   "outputs": [],
   "source": [
    "r = re.compile(r'\\w+')\n",
    "punctuation_strip = str.maketrans('', '', string.punctuation)\n",
    "\n",
    "# input is words, returns a wordcount\n",
    "def wordcount(content: str) -> int:\n",
    "    filetoken = content.translate(punctuation_strip).split(' ')\n",
    "    wordcount = list(filter(r.match, filetoken))\n",
    "    return len(wordcount)"
   ]
  },
  {
   "cell_type": "code",
   "execution_count": 3,
   "metadata": {},
   "outputs": [],
   "source": [
    "### Single-file ###"
   ]
  },
  {
   "cell_type": "code",
   "execution_count": 17,
   "metadata": {},
   "outputs": [],
   "source": [
    "text = \"OMG THIS IS A LOT OF TEXT LOL ROFL XD XD\""
   ]
  },
  {
   "cell_type": "code",
   "execution_count": 18,
   "metadata": {},
   "outputs": [
    {
     "output_type": "execute_result",
     "data": {
      "text/plain": [
       "11"
      ]
     },
     "metadata": {},
     "execution_count": 18
    }
   ],
   "source": [
    "wordcount(text)"
   ]
  },
  {
   "cell_type": "code",
   "execution_count": 5,
   "metadata": {},
   "outputs": [],
   "source": [
    "def single_copyfile(path: str, new_name: str, filetype: str) -> Path():\n",
    "    src = Path(f'{path}'.format(r''))\n",
    "    local = r\"./temp_filestore/\"\n",
    "    dst = Path(local).joinpath(str(new_name + filetype))\n",
    "    try:\n",
    "        shutil.copyfile(src, dst)\n",
    "    except:\n",
    "        raise Exception(\"Error: shutil copy failed\")\n",
    "    return dst"
   ]
  },
  {
   "cell_type": "code",
   "execution_count": 6,
   "metadata": {},
   "outputs": [],
   "source": [
    "project_name = 'book'\n",
    "new_name = str(project_name + '.docx')"
   ]
  },
  {
   "cell_type": "code",
   "execution_count": 7,
   "metadata": {},
   "outputs": [],
   "source": [
    "### Folders ###"
   ]
  },
  {
   "cell_type": "code",
   "execution_count": 8,
   "metadata": {},
   "outputs": [],
   "source": [
    "def path_parser(path: str) -> str:\n",
    "    \"\"\"\n",
    "    Takes in path, returns filetype\n",
    "    \"\"\"\n",
    "    path_raw = r\"{}\".format(path)\n",
    "    txt = '.txt'\n",
    "    rtf = '.rtf'\n",
    "    docx = '.docx'\n",
    "    txt = path_raw.rfind(txt)\n",
    "    rtf = path_raw.rfind(rtf)\n",
    "    docx = path_raw.rfind(docx)\n",
    "    if txt != -1:\n",
    "        return '.txt'\n",
    "    elif rtf != -1:\n",
    "        return '.rtf'  \n",
    "    elif docx != -1:\n",
    "        return '.docx'   \n",
    "    else:\n",
    "        return None"
   ]
  },
  {
   "cell_type": "code",
   "execution_count": 9,
   "metadata": {},
   "outputs": [],
   "source": [
    "def filepull(path: Path()) -> str:  \n",
    "    \"\"\"\n",
    "    Takes in directory, returns all words from it.\n",
    "    \"\"\"\n",
    "    ftype = path_parser(path)\n",
    "\n",
    "    if ftype == '.txt':\n",
    "        try:\n",
    "            with open(path, \"r\", encoding='utf8') as txtfile:\n",
    "                words = txtfile.read()\n",
    "                txtfile.close()\n",
    "                return words\n",
    "        except:\n",
    "            raise Exception(\"Error with reading .txt file\")\n",
    "\n",
    "    elif ftype == '.rtf':\n",
    "        try:\n",
    "            with open(path, \"r\", encoding='utf8') as rtffile:\n",
    "                rtf_file = rtffile.read()\n",
    "                clean_file = rtf_to_text(rtf_file)\n",
    "                words = clean_file     \n",
    "                rtffile.close()\n",
    "                return words         \n",
    "        except:\n",
    "            raise Exception(\"Error with reading .rtf file\")\n",
    "\n",
    "    elif ftype == '.docx':\n",
    "        try:\n",
    "            docxfile = docx2txt.process(path)\n",
    "            words = docxfile\n",
    "            return words\n",
    "        except:\n",
    "            raise Exception(\"Error reading .docx file\")\n",
    "\n",
    "    else:\n",
    "        print(f'{path} is an unrecognized filetype')"
   ]
  },
  {
   "cell_type": "code",
   "execution_count": 10,
   "metadata": {},
   "outputs": [],
   "source": [
    "folder_path = r'D:\\Documents\\Bookup\\Draft 5.9\\Draft'"
   ]
  },
  {
   "cell_type": "code",
   "execution_count": 24,
   "metadata": {},
   "outputs": [],
   "source": [
    "def file_pipe(path: str) -> str:\n",
    "    orig = Path(f'{path}'.format(r''))\n",
    "    local = r\"./temp_filestore/\"\n",
    "    copy = Path(local)\n",
    "    \n",
    "    ## File Move ##\n",
    "    \n",
    "    if orig.is_dir() is True:\n",
    "        try:\n",
    "            shutil.copytree(orig, copy)\n",
    "        except:\n",
    "            raise Exception(\"Error: shutil copy failed\")\n",
    "    else:\n",
    "        try:\n",
    "            shutil.copy2(orig, copy)\n",
    "        except:\n",
    "            raise Exception(\"Error: shutil copy failed\")\n",
    "    \n",
    "    ## Filepull ##\n",
    "\n",
    "    # Single File #\n",
    "    if orig.is_dir() is False:\n",
    "        words = filepull(copy.joinpath(orig.name))\n",
    "    ## Multi-file ##\n",
    "    else:\n",
    "        words = [filepull(i) for i in copy.joinpath(orig.name).iterdir()]\n",
    "    wc = wordcount(words)\n",
    "    print(wc)\n",
    "    copy.joinpath(orig.name).rmdir()\n",
    "    return wc"
   ]
  },
  {
   "cell_type": "code",
   "execution_count": 26,
   "metadata": {},
   "outputs": [
    {
     "output_type": "stream",
     "name": "stdout",
     "text": [
      "Shows I have coming up / played for so I listed the name, place and contact person to find/follow.\n\nMetrocon - Tampa, FL - Rob VanWest - They are more about hardcore but they enjoy a good stage presence and performance.  Usually a crowd around 2000 - 4000 people and it's 4 nights long.\n\nMaturiscon - Columbus, OH - Adinga Hinga / Julian Moraless  - Adinga is actually in charge of a few cons in Ohio but I play this one and it's a very good show.  Around 800 people when I played.\n\nMomocon - Atlanta - Ivan Green - Never played this one but I'm booked for next year.  They book big names like Gammer and Technikal so they know what they are doing.\n\nSakuracon - Seattle - Annika Anderson (DJ Jimni Kriket) - This one of my fav cons to play. Big show run by Annika and has a lot of harder stuff at it. I think around 1000 people.\n\nConneticon - Hartford - Mark Phive - Good friend of mine.  Show isn't huge (couple of hundred) but its fun. I don't know if he is still doing it though. He canceled it this year and someone else replaced him but that might change again back to him next year.\n\nAnimeNext - Atlantic City, NJ - Eric Wang - He posts the application form a few months before the show.  Very good crowd.\n\nFew other random bits:\n\nOtakuthon - Montreal - Pola Cormier - Big con in Montreal which is where I am.  Its one of the biggest in Canada.\n\nAnimeNorth - Toronto - I don't actually know who is running this show anymore but Timothy Ellis (DJ Dynamic) is still involved in it.  Haven't played this show in several years because of conflicting dates but its got an indoor and outdoor show everyday. Poke around for something called Otakubaloo and you will find more info. \n\n\nThis is the DJ application for for Youmacon which I have been told is a lot of fun:\nhttps://docs.google.com/forms/d/e/1FAIpQLScV5ZgR9DX-2gm3uMgj4ycMmhUJeefd0o8VDEkfPnzei2kdSg/viewform\n\nColosalcon and Colosalcon East also do larger shows but I don't know when they open up for DJ applications.  The guy who runs them is a bit sketchy but the show is great. I play once and it was on both nights\n\nDaishowcon is in WI somewhere and has one of the largest raves in the country. They are another one you gotta pay attention to Social Media to see when they are doing applications. The guys are kinda dinks though.\n\n\n\n\n\n\n"
     ]
    },
    {
     "output_type": "error",
     "ename": "OSError",
     "evalue": "[WinError 145] The directory is not empty: 'temp_filestore'",
     "traceback": [
      "\u001b[1;31m---------------------------------------------------------------------------\u001b[0m",
      "\u001b[1;31mOSError\u001b[0m                                   Traceback (most recent call last)",
      "\u001b[1;32m<ipython-input-26-9a4c06d05f12>\u001b[0m in \u001b[0;36m<module>\u001b[1;34m\u001b[0m\n\u001b[1;32m----> 1\u001b[1;33m \u001b[0mfile_pipe\u001b[0m\u001b[1;33m(\u001b[0m\u001b[1;34m'D:\\Documents\\Con-list-suggestions.txt'\u001b[0m\u001b[1;33m)\u001b[0m\u001b[1;33m\u001b[0m\u001b[0m\n\u001b[0m",
      "\u001b[1;32m<ipython-input-24-1412fe1e57a5>\u001b[0m in \u001b[0;36mfile_pipe\u001b[1;34m(path)\u001b[0m\n\u001b[0;32m     27\u001b[0m     \u001b[0mprint\u001b[0m\u001b[1;33m(\u001b[0m\u001b[0mwords\u001b[0m\u001b[1;33m)\u001b[0m\u001b[1;33m\u001b[0m\u001b[0m\n\u001b[0;32m     28\u001b[0m     \u001b[1;31m#wc = wordcount(words)\u001b[0m\u001b[1;33m\u001b[0m\u001b[1;33m\u001b[0m\u001b[0m\n\u001b[1;32m---> 29\u001b[1;33m     \u001b[0mcopy\u001b[0m\u001b[1;33m.\u001b[0m\u001b[0mrmdir\u001b[0m\u001b[1;33m(\u001b[0m\u001b[1;33m)\u001b[0m\u001b[1;33m\u001b[0m\u001b[0m\n\u001b[0m\u001b[0;32m     30\u001b[0m     \u001b[1;32mreturn\u001b[0m \u001b[0mwc\u001b[0m\u001b[1;33m\u001b[0m\u001b[0m\n",
      "\u001b[1;32mC:\\Program Files (x86)\\Microsoft Visual Studio\\Shared\\Anaconda3_64\\lib\\pathlib.py\u001b[0m in \u001b[0;36mrmdir\u001b[1;34m(self)\u001b[0m\n\u001b[0;32m   1288\u001b[0m         \u001b[1;32mif\u001b[0m \u001b[0mself\u001b[0m\u001b[1;33m.\u001b[0m\u001b[0m_closed\u001b[0m\u001b[1;33m:\u001b[0m\u001b[1;33m\u001b[0m\u001b[0m\n\u001b[0;32m   1289\u001b[0m             \u001b[0mself\u001b[0m\u001b[1;33m.\u001b[0m\u001b[0m_raise_closed\u001b[0m\u001b[1;33m(\u001b[0m\u001b[1;33m)\u001b[0m\u001b[1;33m\u001b[0m\u001b[0m\n\u001b[1;32m-> 1290\u001b[1;33m         \u001b[0mself\u001b[0m\u001b[1;33m.\u001b[0m\u001b[0m_accessor\u001b[0m\u001b[1;33m.\u001b[0m\u001b[0mrmdir\u001b[0m\u001b[1;33m(\u001b[0m\u001b[0mself\u001b[0m\u001b[1;33m)\u001b[0m\u001b[1;33m\u001b[0m\u001b[0m\n\u001b[0m\u001b[0;32m   1291\u001b[0m \u001b[1;33m\u001b[0m\u001b[0m\n\u001b[0;32m   1292\u001b[0m     \u001b[1;32mdef\u001b[0m \u001b[0mlstat\u001b[0m\u001b[1;33m(\u001b[0m\u001b[0mself\u001b[0m\u001b[1;33m)\u001b[0m\u001b[1;33m:\u001b[0m\u001b[1;33m\u001b[0m\u001b[0m\n",
      "\u001b[1;32mC:\\Program Files (x86)\\Microsoft Visual Studio\\Shared\\Anaconda3_64\\lib\\pathlib.py\u001b[0m in \u001b[0;36mwrapped\u001b[1;34m(pathobj, *args)\u001b[0m\n\u001b[0;32m    385\u001b[0m         \u001b[1;33m@\u001b[0m\u001b[0mfunctools\u001b[0m\u001b[1;33m.\u001b[0m\u001b[0mwraps\u001b[0m\u001b[1;33m(\u001b[0m\u001b[0mstrfunc\u001b[0m\u001b[1;33m)\u001b[0m\u001b[1;33m\u001b[0m\u001b[0m\n\u001b[0;32m    386\u001b[0m         \u001b[1;32mdef\u001b[0m \u001b[0mwrapped\u001b[0m\u001b[1;33m(\u001b[0m\u001b[0mpathobj\u001b[0m\u001b[1;33m,\u001b[0m \u001b[1;33m*\u001b[0m\u001b[0margs\u001b[0m\u001b[1;33m)\u001b[0m\u001b[1;33m:\u001b[0m\u001b[1;33m\u001b[0m\u001b[0m\n\u001b[1;32m--> 387\u001b[1;33m             \u001b[1;32mreturn\u001b[0m \u001b[0mstrfunc\u001b[0m\u001b[1;33m(\u001b[0m\u001b[0mstr\u001b[0m\u001b[1;33m(\u001b[0m\u001b[0mpathobj\u001b[0m\u001b[1;33m)\u001b[0m\u001b[1;33m,\u001b[0m \u001b[1;33m*\u001b[0m\u001b[0margs\u001b[0m\u001b[1;33m)\u001b[0m\u001b[1;33m\u001b[0m\u001b[0m\n\u001b[0m\u001b[0;32m    388\u001b[0m         \u001b[1;32mreturn\u001b[0m \u001b[0mstaticmethod\u001b[0m\u001b[1;33m(\u001b[0m\u001b[0mwrapped\u001b[0m\u001b[1;33m)\u001b[0m\u001b[1;33m\u001b[0m\u001b[0m\n\u001b[0;32m    389\u001b[0m \u001b[1;33m\u001b[0m\u001b[0m\n",
      "\u001b[1;31mOSError\u001b[0m: [WinError 145] The directory is not empty: 'temp_filestore'"
     ]
    }
   ],
   "source": [
    "file_pipe('D:\\Documents\\Con-list-suggestions.txt')"
   ]
  },
  {
   "cell_type": "code",
   "execution_count": null,
   "metadata": {},
   "outputs": [],
   "source": []
  }
 ]
}