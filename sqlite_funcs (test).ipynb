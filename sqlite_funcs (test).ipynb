{
 "metadata": {
  "language_info": {
   "codemirror_mode": {
    "name": "ipython",
    "version": 3
   },
   "file_extension": ".py",
   "mimetype": "text/x-python",
   "name": "python",
   "nbconvert_exporter": "python",
   "pygments_lexer": "ipython3",
   "version": "3.6.5"
  },
  "orig_nbformat": 2,
  "kernelspec": {
   "name": "python3",
   "display_name": "Python 3.6.5 64-bit ('base': conda)"
  },
  "interpreter": {
   "hash": "e73f067f1c59be12cfda938665c6a960a5d3ec55ce3a05feea7c329cb1f7e9af"
  }
 },
 "nbformat": 4,
 "nbformat_minor": 2,
 "cells": [
  {
   "cell_type": "code",
   "execution_count": 121,
   "metadata": {},
   "outputs": [],
   "source": [
    "from datetime import datetime\n",
    "\n",
    "from collections import namedtuple\n",
    "\n",
    "import numpy as np\n",
    "import pandas as pd\n",
    "\n",
    "import time\n",
    "import os\n",
    "import sqlite3\n",
    "\n",
    "from file_funcs import file_pipe, is_streak, streak_length, daily_words_calculate, word_goal_calculate"
   ]
  },
  {
   "cell_type": "code",
   "execution_count": 122,
   "metadata": {},
   "outputs": [],
   "source": [
    "sqlite3_path = './database/nanite_storage.sqlite3'"
   ]
  },
  {
   "cell_type": "code",
   "execution_count": 123,
   "metadata": {},
   "outputs": [],
   "source": [
    "# defining dict-like structure for retrieved data (use ._asdict() method on them)\n",
    "AuthorVals = namedtuple('Author', 'author_id username password acct_created_on')"
   ]
  },
  {
   "cell_type": "code",
   "execution_count": 124,
   "metadata": {},
   "outputs": [],
   "source": [
    "ProjectVals = namedtuple('Project', 'project_id author_id project_name project_created_on project_start_date deadline wordcount_goal current_daily_target wp_page project_path')"
   ]
  },
  {
   "cell_type": "code",
   "execution_count": 125,
   "metadata": {},
   "outputs": [],
   "source": [
    "WordVals = namedtuple('Wordcounts', 'record_id project_id author_id Wdate Wcount Wtarget')"
   ]
  },
  {
   "cell_type": "code",
   "execution_count": 126,
   "metadata": {},
   "outputs": [],
   "source": [
    "def timestamp(): \n",
    "    return str(datetime.now())\n",
    "\n",
    "def datestamp():\n",
    "    return str(datetime.now().date())"
   ]
  },
  {
   "cell_type": "code",
   "execution_count": 127,
   "metadata": {},
   "outputs": [],
   "source": [
    "def samedate(date: str) -> bool():\n",
    "    if date == None:\n",
    "        return False\n",
    "    else:\n",
    "        day = datetime.strptime(date[:10], '%Y-%M-%d')\n",
    "        today = datetime.strptime(datestamp(), '%Y-%M-%d')\n",
    "        if day == today:\n",
    "            return True\n",
    "        else:\n",
    "            return False"
   ]
  },
  {
   "cell_type": "code",
   "execution_count": 128,
   "metadata": {},
   "outputs": [],
   "source": [
    "def path_parser(path: str) -> str:\n",
    "    \"\"\"\n",
    "    Takes in path, returns filetype\n",
    "    \"\"\"\n",
    "    path_raw = r\"{}\".format(path)\n",
    "    txt = '.txt'\n",
    "    rtf = '.rtf'\n",
    "    docx = '.docx'\n",
    "    txt = path_raw.rfind(txt)\n",
    "    rtf = path_raw.rfind(rtf)\n",
    "    docx = path_raw.rfind(docx)\n",
    "    if txt != -1:\n",
    "        return '.txt'\n",
    "    elif rtf != -1:\n",
    "        return '.rtf'  \n",
    "    elif docx != -1:\n",
    "        return '.docx'   \n",
    "    else:\n",
    "        return None\n"
   ]
  },
  {
   "cell_type": "code",
   "execution_count": 129,
   "metadata": {},
   "outputs": [],
   "source": [
    "def create_author(author_name, password=''):    \n",
    "    \"\"\" \n",
    "    Inserts an Author into database if they don't exist.\n",
    "    If they do, this task does not go through. \n",
    "    \"\"\"\n",
    "    # add a check to make sure the author doesn't already exist\n",
    "    now = timestamp()\n",
    "    conn = sqlite3.connect(sqlite3_path)\n",
    "    cur = conn.cursor()\n",
    "    \n",
    "    cur.execute(\"SELECT username FROM authors WHERE username=?\", (author_name,))\n",
    "    entry = cur.fetchone()\n",
    "    if entry is None:\n",
    "\n",
    "        query = '''INSERT INTO authors\n",
    "                    values (?,?,?,?) '''\n",
    "        \n",
    "        params = (None, author_name, password, now)\n",
    "        cur.execute(query, params)\n",
    "        conn.commit()\n",
    "        conn.close()\n",
    "    else:\n",
    "        conn.close()\n",
    "        return print(\"This row already exists!\")"
   ]
  },
  {
   "cell_type": "code",
   "execution_count": 130,
   "metadata": {},
   "outputs": [],
   "source": [
    "def return_author_list():\n",
    "    \"\"\"\n",
    "    Prints all authors as a list of dicts\n",
    "    \"\"\"\n",
    "    conn = sqlite3.connect(sqlite3_path)\n",
    "    cur = conn.cursor()\n",
    "    cur.execute(\"SELECT * FROM authors\")\n",
    "    rows = cur.fetchall()\n",
    "    data = [dict(AuthorVals(*rows[i])._asdict()) for i in range(len(rows))]\n",
    "    conn.close()\n",
    "    return data"
   ]
  },
  {
   "cell_type": "code",
   "execution_count": 131,
   "metadata": {},
   "outputs": [],
   "source": [
    "def return_project_screen(author_id:int) -> list(dict()):\n",
    "    \"\"\"\n",
    "    Returns all the values needed for the Projects page, each 'div' as an individual dict.\n",
    "    Needs to be tested on entries without a table.\n",
    "    \"\"\"\n",
    "    a = AuthorActions(author_id)\n",
    "    projects = a.return_projects()\n",
    "    project_ids = [i[0] for i in projects]\n",
    "    projects_list = []\n",
    "    for i in project_ids:\n",
    "        p = ProjectActions(i)\n",
    "        p.set_project()\n",
    "        try:\n",
    "            row = p.return_wordcounts()[-1]\n",
    "        except:\n",
    "            # Maybe I should just raise an exception?\n",
    "            row = {'Wcount': 0, 'Wdate': None, 'Wtarget': 0, 'project_id': p.project_id, 'record_id': None, 'Wtarget_sum': 0, 'daily_words': 0.0, 'streak': 0}\n",
    "        if samedate(row['Wdate']) is False:\n",
    "            p_dict = {\n",
    "            'project_name': p.project_name, 'project_id': row['project_id'], 'daily_words': 0, \n",
    "            'today_goal': row['Wtarget'], 'total_progress': row['Wcount'], 'current_streak':0\n",
    "            }   \n",
    "        else:   \n",
    "            p_dict = {\n",
    "            'project_name': p.project_name, 'project_id': row['project_id'], 'daily_words': row['daily_words'], \n",
    "            'today_goal': row['Wtarget'], 'total_progress': row['Wcount'], 'current_streak':row['streak']\n",
    "            }            \n",
    "        projects_list.append(p_dict)\n",
    "    return projects_list"
   ]
  },
  {
   "cell_type": "code",
   "execution_count": null,
   "metadata": {},
   "outputs": [],
   "source": []
  },
  {
   "cell_type": "code",
   "execution_count": 132,
   "metadata": {},
   "outputs": [],
   "source": [
    "class AuthorActions:\n",
    "\n",
    "    def __init__(self, author_id=-1):\n",
    "        self.author_id = author_id\n",
    "    \n",
    "\n",
    "    def return_info(self):\n",
    "        \"\"\"\n",
    "        prints the row of information for the author\n",
    "        \"\"\" \n",
    "        conn = sqlite3.connect(sqlite3_path)\n",
    "        cur = conn.cursor()\n",
    "        cur.execute(\"SELECT * FROM authors WHERE author_id=?\", (self.author_id,))\n",
    "        row = cur.fetchall()\n",
    "        data = AuthorVals(*row[0])\n",
    "        conn.close()\n",
    "        return dict(data._asdict())\n",
    "\n",
    "\n",
    "    def id_by_name(self, author_name):\n",
    "        \"\"\"\n",
    "        Sets AuthorActions to the right ID based on the author's name.\n",
    "        \"\"\"\n",
    "        conn = sqlite3.connect(sqlite3_path)\n",
    "        cur = conn.cursor()\n",
    "        cur.execute(\"SELECT * FROM authors WHERE username=?\", (author_name,))\n",
    "        data = cur.fetchone()\n",
    "        if data is not None:\n",
    "            conn.close()\n",
    "            self.author_id = int(data[0])\n",
    "        else:\n",
    "            print(\"No name found.\")\n",
    "            conn.close()\n",
    "\n",
    "\n",
    "    def create_project(\n",
    "        self, \n",
    "        project_name, \n",
    "        project_start_date=None,\n",
    "        deadline=None,\n",
    "        wordcount_goal=None, \n",
    "        current_daily_target=None,\n",
    "        wp_page=None,\n",
    "        project_path=None):\n",
    "        \"\"\"\n",
    "        Takes in a project info, then creates a new project for a given author.\n",
    "        Eric note: Add 'page conversion' later in the future\n",
    "        \"\"\"\n",
    "        now = timestamp()\n",
    "        conn = sqlite3.connect(sqlite3_path)\n",
    "        cur = conn.cursor()\n",
    "        cur.execute(\"SELECT project_id FROM projects WHERE project_name=? AND author_id=?\", (project_name,self.author_id))\n",
    "        entry = cur.fetchone()\n",
    "        conn.close()\n",
    "        if entry is None:\n",
    "            # do insert\n",
    "            conn = sqlite3.connect(sqlite3_path)\n",
    "            cur = conn.cursor()\n",
    "            query = '''INSERT INTO projects values (\n",
    "                ?, ?, ?, ?, ?, ?, ?, ?, ?, ?) '''\n",
    "            params = [None, self.author_id, project_name, now, project_start_date, deadline, \n",
    "            wordcount_goal, current_daily_target, wp_page, project_path]\n",
    "            try:\n",
    "                cur.execute(query, params)\n",
    "                conn.commit()\n",
    "            except:\n",
    "                print(\"Query failed\")\n",
    "            finally:\n",
    "                conn.close()\n",
    "        else:\n",
    "            print(\"project with this name already exists\")\n",
    "            conn.close()\n",
    "\n",
    "\n",
    "    def delete_project(self, project_name):\n",
    "        conn = sqlite3.connect(sqlite3_path)\n",
    "        cur = conn.cursor()\n",
    "        cur.execute(\"DELETE FROM projects where project_name=? AND author_id=?\", (project_name, self.author_id))\n",
    "        conn.commit()\n",
    "        conn.close()\n",
    "\n",
    "\n",
    "    def return_projects(self):\n",
    "        conn = sqlite3.connect(sqlite3_path)\n",
    "        cur = conn.cursor()\n",
    "        cur.execute(\"SELECT * FROM projects where author_id=?\", (self.author_id,))\n",
    "        data = cur.fetchall()\n",
    "        conn.close()\n",
    "        return data\n",
    "\n",
    "\n",
    "    def rename_author(self, new_name):\n",
    "        \"\"\"Renames an author based on new_name\"\"\"\n",
    "        conn = sqlite3.connect(sqlite3_path)\n",
    "        cur = conn.cursor()\n",
    "        cur.execute(\"UPDATE authors SET username=? WHERE author_id=?\", (new_name, self.author_id))\n",
    "        conn.commit()\n",
    "        conn.close()\n",
    "\n",
    "    def return_wordcounts_simple(self):\n",
    "        \"\"\"\n",
    "        return all wordcounts for a given project\n",
    "        \"\"\"\n",
    "        conn = sqlite3.connect(sqlite3_path)\n",
    "        cur = conn.cursor()\n",
    "        cur.execute(\"SELECT * FROM words where project_id=?\", (self.project_id,))\n",
    "        row = cur.fetchall()\n",
    "        data = [dict(WordVals(*row[i])._asdict()) for i in range(len(row))]\n",
    "        conn.close()\n",
    "        return data\n",
    "\n",
    "\n",
    "    def return_wordcounts(self, freq='D') -> dict:\n",
    "        \"\"\"\n",
    "        Return frequency of wordcounts for a given project\n",
    "        freq maps to the granularity of the data, in line with pandas timeseries granularity values.\n",
    "        \"\"\"\n",
    "        freq = freq\n",
    "        conn = sqlite3.connect(sqlite3_path)\n",
    "        cur = conn.cursor()\n",
    "        cur.execute(\"SELECT * FROM words where project_id=?\", (self.project_id,))\n",
    "        row = cur.fetchall()\n",
    "        data = [dict(WordVals(*row[i])._asdict()) for i in range(len(row))]\n",
    "        conn.close()\n",
    "        df = pd.DataFrame(data)\n",
    "        df.index = pd.DatetimeIndex(df['Wdate'])\n",
    "\n",
    "        earliest = df.index[0]\n",
    "        latest = df.index[-1]\n",
    "\n",
    "        new_index = pd.date_range(earliest, latest, freq='D')\n",
    "\n",
    "        df = df.groupby(pd.Grouper(freq='D')).last()\n",
    "        df = df.reindex(new_index, method='ffill')\n",
    "        df = df.fillna(method='ffill')\n",
    "        df['Wtarget_sum'] = df['Wtarget'].cumsum()\n",
    "        df['Wdate'] = df['Wdate'].apply(lambda x: x[:10])\n",
    "        df['daily_words'] = [(df[['Wcount']].iloc[i] - df[['Wcount']].iloc[i-1]).clip(0) for i in range(len(df))]\n",
    "        df['streak'] = [is_streak(i, df['Wcount'], df['Wtarget']) for i in range(len(df))]\n",
    "        d_list = streak_length(df['streak'])\n",
    "        df['streak'] = pd.Series(d_list, index=new_index)"
   ]
  },
  {
   "cell_type": "code",
   "execution_count": 133,
   "metadata": {},
   "outputs": [],
   "source": [
    "class ProjectActions:\n",
    "    \n",
    "    def __init__(self, \n",
    "    project_id=-1, \n",
    "    author_id=-1\n",
    "    ):\n",
    "        self.project_id = project_id\n",
    "        self.author_id = author_id\n",
    "\n",
    "        self.project_name = None\n",
    "        self.project_start_date = None\n",
    "        self.deadline = None\n",
    "        self.wordcount_goal = None\n",
    "        self.current_daily_target = None\n",
    "        self.wp_page = None\n",
    "        self.project_path = None\n",
    "\n",
    "        self.author_set = False\n",
    "        self.daily_target_set = False\n",
    "\n",
    "    def set_project(self, project_id=None):\n",
    "        \"\"\"\n",
    "        Uses either the set id or an input id to assign project information to the ProjectActions Object.\n",
    "        In turn, this also allows one to make changes to wordcounts.\n",
    "        \"\"\"\n",
    "        # checkproject id in the database- reset \n",
    "        if (project_id is None) and (self.project_id == -1):\n",
    "            raise Exception(\"Error: No value set for project_id\")\n",
    "        elif project_id is None:\n",
    "            project_id = self.project_id \n",
    "        else:\n",
    "            pass\n",
    "        conn = sqlite3.connect(sqlite3_path)\n",
    "        cur = conn.cursor()\n",
    "        cur.execute(\"SELECT * FROM projects where project_id=?\", (project_id,))\n",
    "        row = cur.fetchall()\n",
    "        data = row[0]\n",
    "        self.project_id = project_id\n",
    "        self.author_id = data[1]\n",
    "        self.project_name = data[2]\n",
    "        self.project_created_on = data[3]\n",
    "        self.project_start_date = data[4]\n",
    "        self.deadline = data[5]\n",
    "        self.wordcount_goal = data[6]\n",
    "        self.current_daily_target = data[7]\n",
    "        self.wp_page = data[8]\n",
    "        self.project_path = data[9]\n",
    "        self.author_set = True\n",
    "        self.daily_target_set = True\n",
    "        conn.close()\n",
    "        \n",
    "    def get_project(self, project_id=None):\n",
    "        if (project_id is None) and (self.project_id == -1):\n",
    "            raise Exception(\"Error: No value set for project_id\")\n",
    "        elif project_id is None:\n",
    "            project_id = self.project_id \n",
    "        else:\n",
    "            pass\n",
    "        # checkproject id in the database- reset \n",
    "        conn = sqlite3.connect(sqlite3_path)\n",
    "        cur = conn.cursor()\n",
    "        cur.execute(\"SELECT * FROM projects where project_id=?\", (project_id,))\n",
    "        row = cur.fetchall()\n",
    "        data = [dict(ProjectVals(*row[i])._asdict()) for i in range(len(row))]\n",
    "        conn.close()\n",
    "        return data\n",
    "\n",
    "    def id_by_names(self, author_name, project_name):\n",
    "        \"\"\"\n",
    "        Sets ProjectActions to the right project & author based on the project & author's name.\n",
    "        \"\"\"\n",
    "        conn = sqlite3.connect(sqlite3_path)\n",
    "        cur = conn.cursor()\n",
    "        query=\"\"\"\n",
    "        SELECT authors.author_id, projects.project_id, authors.username, projects.project_name \n",
    "        FROM projects\n",
    "        INNER JOIN authors ON projects.author_id = authors.author_id\n",
    "        WHERE authors.username=? AND projects.project_name=? \n",
    "        \"\"\"\n",
    "        params = (author_name, project_name)\n",
    "        cur.execute(query, params)\n",
    "        data = cur.fetchone()\n",
    "        if data is not None:\n",
    "            self.project_id = int(data[1])\n",
    "            self.author_id = int(data[0])\n",
    "            conn.close()\n",
    "            author_set = True\n",
    "        else:\n",
    "            raise Exception(\"No name combination found.\")\n",
    "            conn.close()\n",
    "        \n",
    "\n",
    "    def return_wordcounts_simple(self):\n",
    "        \"\"\"\n",
    "        return all wordcounts for a given project\n",
    "        \"\"\"\n",
    "        conn = sqlite3.connect(sqlite3_path)\n",
    "        cur = conn.cursor()\n",
    "        cur.execute(\"SELECT * FROM words where project_id=?\", (self.project_id,))\n",
    "        row = cur.fetchall()\n",
    "        data = [dict(WordVals(*row[i])._asdict()) for i in range(len(row))]\n",
    "        conn.close()\n",
    "        return data\n",
    "\n",
    "\n",
    "    def return_wordcounts(self, freq='D') -> dict:\n",
    "        \"\"\"\n",
    "        Return frequency of wordcounts for a given project\n",
    "        freq maps to the granularity of the data, in line with pandas timeseries granularity values.\n",
    "        \"\"\"\n",
    "        freq = freq\n",
    "        conn = sqlite3.connect(sqlite3_path)\n",
    "        cur = conn.cursor()\n",
    "        cur.execute(\"SELECT * FROM words where project_id=?\", (self.project_id,))\n",
    "        row = cur.fetchall()\n",
    "        data = [dict(WordVals(*row[i])._asdict()) for i in range(len(row))]\n",
    "        conn.close()\n",
    "        df = pd.DataFrame(data)\n",
    "        df.index = pd.DatetimeIndex(df['Wdate'])\n",
    "\n",
    "        earliest = df.index[0]\n",
    "        latest = df.index[-1]\n",
    "\n",
    "        new_index = pd.date_range(earliest, latest, freq='D')\n",
    "\n",
    "        df = df.groupby(pd.Grouper(freq='D')).last()\n",
    "        df = df.reindex(new_index, method='ffill')\n",
    "        df = df.fillna(method='ffill')\n",
    "        df['Wtarget_sum'] = df['Wtarget'].cumsum()\n",
    "        df['Wdate'] = df['Wdate'].apply(lambda x: x[:10])\n",
    "        df['daily_words'] = [\n",
    "            (df[['Wcount']].iloc[i] - df[['Wcount']].iloc[i-1]).clip(0) if i >= 1 \n",
    "            else df[['Wcount']].iloc[i] for i in range(len(df))\n",
    "            ]\n",
    "        df['streak'] = [is_streak(i, df['Wcount'], df['Wtarget']) for i in range(len(df))]\n",
    "        d_list = streak_length(df['streak'])\n",
    "        df['streak'] = pd.Series(d_list, index=new_index)\n",
    "        \n",
    "        df = df.groupby(pd.Grouper(freq=freq)).last()\n",
    "        records = df.to_dict(orient='records')\n",
    "        return records\n",
    "\n",
    "    def enter_wordcount(self):\n",
    "        \"\"\"\n",
    "        Input Daily Wordcounts\n",
    "        \"\"\"\n",
    "        if (self.current_daily_target == False):\n",
    "            raise Exception(\"Wcount not pushed, Wordcount Target not set!\")\n",
    "        elif self.project_path is None:\n",
    "            raise Exception(\"Project Path not set- Data cannot be pulled!\")\n",
    "        else:\n",
    "            try:\n",
    "                wc = file_pipe(self.project_path)\n",
    "            except:\n",
    "                raise Exception(\"Error: wordcount pipeline (file_pipe) failed.\")\n",
    "            now = timestamp()\n",
    "            query = '''INSERT INTO words values (\n",
    "                ?, ?, ?, ?, ?, ?) '''\n",
    "            params = [None, self.project_id, self.author_id, now, wc, self.current_daily_target]\n",
    "            try:\n",
    "                conn = sqlite3.connect(sqlite3_path)\n",
    "                cur = conn.cursor()\n",
    "                cur.execute(query, params)\n",
    "                conn.commit()\n",
    "            except:\n",
    "                print(\"Query insertion failed\")\n",
    "            finally:\n",
    "                conn.close()\n",
    "\n",
    "\n",
    "    def change_daily_words(self, daily_words):\n",
    "        \"\"\"\n",
    "        changes daily_words value.\n",
    "        Re-calibrates word goal accordingly (based on deadline)\n",
    "        Requires project_start_date, deadline, and project_id to work\n",
    "        \"\"\"\n",
    "        if (self.project_start_date is not None) & (self.deadline is not None):\n",
    "            word_goal = word_goal_calculate(daily_words, self.project_start_date, self.deadline)\n",
    "            conn = sqlite3.connect(sqlite3_path)\n",
    "            cur = conn.cursor()\n",
    "            cur.execute(\n",
    "                \"UPDATE projects SET wordcount_goal=?, current_daily_target=? WHERE project_id=?\", (word_goal, daily_words, self.project_id)\n",
    "                )\n",
    "            conn.commit()\n",
    "            conn.close()\n",
    "            self.current_daily_target = daily_words\n",
    "            self.wordcount_goal = word_goal\n",
    "        else:\n",
    "            raise Exception(\"Error: Submission requires project_start_date & deadline\")\n",
    "\n",
    "    def change_word_goal(self, word_goal):\n",
    "        \"\"\"\n",
    "        changes daily_words value.\n",
    "        Also changes daily words to re-calibrate.\n",
    "        Requires project_start_date, deadline, and project_id to work\n",
    "        \"\"\"\n",
    "        if (self.project_start_date is not None) & (self.deadline is not None):\n",
    "            daily_words = daily_words_calculate(word_goal, self.project_start_date, self.deadline)\n",
    "            conn = sqlite3.connect(sqlite3_path)\n",
    "            cur = conn.cursor()\n",
    "            cur.execute(\n",
    "                \"UPDATE projects SET wordcount_goal=?, current_daily_target=? WHERE project_id=?\", (word_goal, daily_words, self.project_id)\n",
    "                )\n",
    "            conn.commit()\n",
    "            conn.close()\n",
    "            self.current_daily_target = daily_words\n",
    "            self.wordcount_goal = word_goal\n",
    "        else:\n",
    "            raise Exception(\"Error: Submission requires project_start_date & deadline\")\n",
    "\n",
    "\n",
    "    def change_deadline(self, new_deadline):\n",
    "        \"\"\"\n",
    "        Changes deadline value.\n",
    "        Re-calibrates daily_words accordingly\n",
    "        Requires project_start_date, word_goal, and project_id to work\n",
    "        \"\"\"\n",
    "        if (self.project_start_date is not None) & (self.wordcount_goal is not None):\n",
    "            daily_words = daily_words_calculate(self.wordcount_goal, self.project_start_date, new_deadline)\n",
    "            conn = sqlite3.connect(sqlite3_path)\n",
    "            cur = conn.cursor()\n",
    "            cur.execute(\n",
    "                \"UPDATE projects SET current_daily_target=?, deadline=? WHERE project_id=?\", (daily_words, new_deadline, self.project_id)\n",
    "                )\n",
    "            conn.commit()\n",
    "            conn.close()\n",
    "            self.deadline = new_deadline\n",
    "            self.current_daily_target = daily_words        \n",
    "        else:\n",
    "            raise Exception(\"Error: Submission requires project_start_date & wordcount_goal\")\n",
    "\n",
    "    def change_words_per_page(self, new_wp_page):\n",
    "        \"Changes wp_page value\"\n",
    "        conn = sqlite3.connect(sqlite3_path)\n",
    "        cur = conn.cursor()\n",
    "        cur.execute(\"UPDATE projects SET wp_page WHERE project_id=?\", (new_wp_page, self.project_id))\n",
    "        conn.commit()\n",
    "        conn.close()       \n",
    "        self.wp_page = new_wp_page\n",
    "\n",
    "\n",
    "    def rename_project(self, new_name):\n",
    "        \"\"\"Renames a project based on new_name\"\"\"\n",
    "        conn = sqlite3.connect(sqlite3_path)\n",
    "        cur = conn.cursor()\n",
    "        cur.execute(\"UPDATE projects SET project_name=? WHERE project_id=?\", (new_name, self.project_id))\n",
    "        conn.commit()\n",
    "        conn.close()\n",
    "        self.project_name = new_name\n",
    "\n",
    "    def return_weekly_avg(self):\n",
    "        \"\"\"\n",
    "        return days of writing\n",
    "        YOU NEED TO CALCULATE DIFFERENCE BASED ON LAST ROW (THAT EXISTS ELSEWHERE)\n",
    "        \"\"\"\n",
    "        conn = sqlite3.connect(sqlite3_path)\n",
    "        cur = conn.cursor()\n",
    "        cur.execute(\"SELECT * FROM words where project_id=?\", (self.project_id,))\n",
    "        row = cur.fetchall()\n",
    "        data = [dict(WordVals(*row[i])._asdict()) for i in range(len(row))]\n",
    "        conn.close()\n",
    "        df = pd.DataFrame(data)\n",
    "        df['Wdate'] = pd.to_datetime(df['Wdate'], format='%Y-%m-%d').dt.date\n",
    "        df['daily_words'] = [\n",
    "            (df[['Wcount']].iloc[i] - df[['Wcount']].iloc[i-1]).clip(0) if i >= 1 \n",
    "            else df[['Wcount']].iloc[i] for i in range(len(df))\n",
    "            ]\n",
    "        #I'm getting a glitch where extra meta-data comes with daily_words, the line below fixes it\n",
    "        df['daily_words'] = [df['daily_words'][i][0] for i in range(len(df))]\n",
    "        df_g = df.groupby(['Wdate']).agg({'daily_words':'mean', 'Wtarget':'last'}).reset_index()\n",
    "        df_g['Day of week'] = pd.to_datetime(df_g['Wdate']).dt.day_name()\n",
    "        df_g = pd.DataFrame(df_g.groupby('Day of week')['daily_words'].mean())\n",
    "        df_g['IsMax'] = np.where(df_g >= np.max(df_g), 1, 0)\n",
    "        df_g['Day'] = df_g.index.str[:3]\n",
    "        #df_g['Day'] = df_g['Day']\n",
    "        return df_g.to_dict()\n",
    "\n",
    "#list(df_g.head(1).to_dict().keys())\n",
    "\n",
    "\n",
    "    def return_stats_screen(self, project_id:int):\n",
    "        \"\"\"\n",
    "        The following needs to be returned:\n",
    "        -current wordcount\n",
    "        -wordcount goal\n",
    "        -average daily wordcount\n",
    "        -highest daily wordcount\n",
    "        -current deadline\n",
    "        -current streak\n",
    "        -max streak\n",
    "        -wordcount freq, daily, weekly, monthly\n",
    "        -day-of-week averages\n",
    "        -current deadline\n",
    "        \"\"\""
   ]
  },
  {
   "cell_type": "code",
   "execution_count": 134,
   "metadata": {},
   "outputs": [],
   "source": [
    "## Additional Project Actions ##\n",
    "\n",
    "def get_max_streak(df: pd.DataFrame()) -> int():\n",
    "    \"\"\"\n",
    "    Use on the output of get_wordcount to ge the max wordcount.\n",
    "    \"\"\"\n",
    "    df = pd.DataFrame(records)\n",
    "    return df['streak'].max()\n"
   ]
  },
  {
   "cell_type": "code",
   "execution_count": 135,
   "metadata": {},
   "outputs": [],
   "source": [
    "\n",
    "### DDL Queries ###\n",
    "\n",
    "create_author_sql = \"\"\"\n",
    "CREATE TABLE IF NOT EXISTS authors (\n",
    "    author_id integer PRIMARY KEY,\n",
    "    username text NOT NULL,\n",
    "    password text,\n",
    "    acct_created_on text NOT NULL\n",
    ")\n",
    "\"\"\"\n",
    "\n",
    "create_project_sql = \"\"\"\n",
    "CREATE TABLE IF NOT EXISTS projects (\n",
    "    project_id integer PRIMARY KEY,\n",
    "    author_id integer,\n",
    "    project_name text NOT NULL,\n",
    "    project_created_on text NOT NULL,\n",
    "    project_start_date text,\n",
    "    deadline text,\n",
    "    wordcount_goal int,\n",
    "    wp_page int,\n",
    "    current_daily_target int,\n",
    "    project_path text,\n",
    "    FOREIGN KEY (author_id) REFERENCES authors (author_id)\n",
    ")\n",
    "\"\"\"\n",
    "\n",
    "create_words_sql = \"\"\"\n",
    "CREATE TABLE IF NOT EXISTS words (\n",
    "    record_id integer PRIMARY KEY,\n",
    "    project_id integer,\n",
    "    author_id integer,\n",
    "    Wdate text NOT NULL,\n",
    "    Wcount int NOT NULL,\n",
    "    Wtarget int,\n",
    "    FOREIGN KEY (project_id) REFERENCES projects (project_id),\n",
    "    FOREIGN KEY (author_id) REFERENCES authors (author_id)\n",
    ")\n",
    "\"\"\"\n",
    "\n",
    "\n",
    "sqlite3_path = './database/nanite_storage.sqlite3'\n",
    "# SQLite just needs to connect to create db\n",
    "def db_init():\n",
    "    \"\"\"\n",
    "    creates a database if it doesn't exist.\n",
    "    run at app start-up\n",
    "    \"\"\"\n",
    "    if os.path.exists(sqlite3_path) == False:\n",
    "        conn = sqlite3.connect(sqlite3_path)\n",
    "        conn.execute(\"PRAGMA foreign_keys = 1\")\n",
    "        conn.execute(create_author_sql)\n",
    "        conn.execute(create_project_sql)\n",
    "        conn.execute(create_words_sql)\n",
    "        conn.close()\n",
    "    else:\n",
    "        print(\"db already exists\")"
   ]
  },
  {
   "cell_type": "code",
   "execution_count": 136,
   "metadata": {},
   "outputs": [
    {
     "output_type": "stream",
     "name": "stdout",
     "text": [
      "db already exists\n"
     ]
    }
   ],
   "source": [
    "db_init()"
   ]
  },
  {
   "cell_type": "code",
   "execution_count": 137,
   "metadata": {},
   "outputs": [
    {
     "output_type": "stream",
     "name": "stdout",
     "text": [
      "This row already exists!\n"
     ]
    }
   ],
   "source": [
    "create_author(\"Johnny\")"
   ]
  },
  {
   "cell_type": "code",
   "execution_count": 138,
   "metadata": {},
   "outputs": [
    {
     "output_type": "execute_result",
     "data": {
      "text/plain": [
       "{'author_id': 1,\n",
       " 'username': 'Johnny',\n",
       " 'password': '',\n",
       " 'acct_created_on': '2021-04-18 15:44:17.477870'}"
      ]
     },
     "metadata": {},
     "execution_count": 138
    }
   ],
   "source": [
    "\n",
    "a = AuthorActions()\n",
    "a.id_by_name('Johnny')\n",
    "a.return_info()\n",
    "\n"
   ]
  },
  {
   "cell_type": "code",
   "execution_count": 139,
   "metadata": {},
   "outputs": [
    {
     "output_type": "stream",
     "name": "stdout",
     "text": [
      "project with this name already exists\n"
     ]
    }
   ],
   "source": [
    "a.create_project(\"Johnny's Other Manifesto\", '2020-04-24', '2020-06-20', '15000', '400', '400', r'D:\\Documents\\Datasets\\001. ML Projects\\Wordcount v2\\Git Project\\Johnnys Manifesto.txt')"
   ]
  },
  {
   "cell_type": "code",
   "execution_count": 140,
   "metadata": {},
   "outputs": [],
   "source": [
    "p2 = ProjectActions()"
   ]
  },
  {
   "cell_type": "code",
   "execution_count": 141,
   "metadata": {},
   "outputs": [],
   "source": [
    "p2.id_by_names(\"Johnny\", \"Johnny's Manifesto\")"
   ]
  },
  {
   "cell_type": "code",
   "execution_count": 142,
   "metadata": {},
   "outputs": [
    {
     "output_type": "execute_result",
     "data": {
      "text/plain": [
       "[{'project_id': 1,\n",
       "  'author_id': 1,\n",
       "  'project_name': \"Johnny's Manifesto\",\n",
       "  'project_created_on': '2021-04-18 15:44:17.661621',\n",
       "  'project_start_date': '2020-04-18',\n",
       "  'deadline': '2020-05-18',\n",
       "  'wordcount_goal': 12000,\n",
       "  'current_daily_target': 400,\n",
       "  'wp_page': 400,\n",
       "  'project_path': 'D:\\\\Documents\\\\Datasets\\\\001. ML Projects\\\\Wordcount v2\\\\Git Project\\\\Johnnys Manifesto.txt'}]"
      ]
     },
     "metadata": {},
     "execution_count": 142
    }
   ],
   "source": [
    "p2.set_project()\n",
    "p2.get_project()"
   ]
  },
  {
   "cell_type": "code",
   "execution_count": 143,
   "metadata": {},
   "outputs": [
    {
     "output_type": "execute_result",
     "data": {
      "text/plain": [
       "\"Johnny's Manifesto\""
      ]
     },
     "metadata": {},
     "execution_count": 143
    }
   ],
   "source": [
    "p2.project_name"
   ]
  },
  {
   "cell_type": "code",
   "execution_count": 144,
   "metadata": {},
   "outputs": [],
   "source": [
    "# do a function to grab all project id's for a given author, add them to a list, then loop that list to grab their word info w/get_wordcounts. Get only last row, parse relevant information into a dict, then append to a list of dicts. Return the list of dicts."
   ]
  },
  {
   "cell_type": "code",
   "execution_count": 145,
   "metadata": {},
   "outputs": [],
   "source": [
    "# this will be a class under AuthorActions\n",
    "# def get_projects_page(auth_id)\n"
   ]
  },
  {
   "cell_type": "code",
   "execution_count": 146,
   "metadata": {},
   "outputs": [],
   "source": [
    "# You have to handle a project without words records..."
   ]
  },
  {
   "cell_type": "code",
   "execution_count": 146,
   "metadata": {},
   "outputs": [],
   "source": [
    "\n"
   ]
  },
  {
   "cell_type": "code",
   "execution_count": 147,
   "metadata": {},
   "outputs": [
    {
     "output_type": "execute_result",
     "data": {
      "text/plain": [
       "[{'project_name': \"Johnny's Manifesto\",\n",
       "  'project_id': 1.0,\n",
       "  'daily_words': 0,\n",
       "  'today_goal': 1000.0,\n",
       "  'total_progress': 25000.0,\n",
       "  'current_streak': 0},\n",
       " {'project_name': \"Johnny's Other Manifesto\",\n",
       "  'project_id': 2,\n",
       "  'daily_words': 0,\n",
       "  'today_goal': 1000,\n",
       "  'total_progress': 100,\n",
       "  'current_streak': 0}]"
      ]
     },
     "metadata": {},
     "execution_count": 147
    }
   ],
   "source": [
    "return_project_screen(1)"
   ]
  },
  {
   "cell_type": "code",
   "execution_count": 148,
   "metadata": {},
   "outputs": [],
   "source": [
    "p = ProjectActions(1)"
   ]
  },
  {
   "cell_type": "code",
   "execution_count": 149,
   "metadata": {},
   "outputs": [
    {
     "output_type": "execute_result",
     "data": {
      "text/plain": [
       "{'Wcount': 25000.0,\n",
       " 'Wdate': '2021-05-30',\n",
       " 'Wtarget': 1000.0,\n",
       " 'author_id': 1.0,\n",
       " 'project_id': 1.0,\n",
       " 'record_id': 14.0,\n",
       " 'Wtarget_sum': 91000.0,\n",
       " 'daily_words': 1000.0,\n",
       " 'streak': 3}"
      ]
     },
     "metadata": {},
     "execution_count": 149
    }
   ],
   "source": [
    "p.set_project()\n",
    "p.return_wordcounts()[-1]"
   ]
  },
  {
   "cell_type": "code",
   "execution_count": 150,
   "metadata": {},
   "outputs": [
    {
     "output_type": "error",
     "ename": "AttributeError",
     "evalue": "'DataFrame' object has no attribute 'dict'",
     "traceback": [
      "\u001b[1;31m---------------------------------------------------------------------------\u001b[0m",
      "\u001b[1;31mAttributeError\u001b[0m                            Traceback (most recent call last)",
      "\u001b[1;32m<ipython-input-150-2378d8e7bc7e>\u001b[0m in \u001b[0;36m<module>\u001b[1;34m\u001b[0m\n\u001b[1;32m----> 1\u001b[1;33m \u001b[0mp\u001b[0m\u001b[1;33m.\u001b[0m\u001b[0mreturn_weekly_avg\u001b[0m\u001b[1;33m(\u001b[0m\u001b[1;33m)\u001b[0m\u001b[1;33m\u001b[0m\u001b[0m\n\u001b[0m",
      "\u001b[1;32m<ipython-input-133-f54bc6c4780b>\u001b[0m in \u001b[0;36mreturn_weekly_avg\u001b[1;34m(self)\u001b[0m\n\u001b[0;32m    274\u001b[0m         \u001b[0mdf_g\u001b[0m\u001b[1;33m[\u001b[0m\u001b[1;34m'Day'\u001b[0m\u001b[1;33m]\u001b[0m \u001b[1;33m=\u001b[0m \u001b[0mdf_g\u001b[0m\u001b[1;33m.\u001b[0m\u001b[0mindex\u001b[0m\u001b[1;33m.\u001b[0m\u001b[0mstr\u001b[0m\u001b[1;33m[\u001b[0m\u001b[1;33m:\u001b[0m\u001b[1;36m3\u001b[0m\u001b[1;33m]\u001b[0m\u001b[1;33m\u001b[0m\u001b[0m\n\u001b[0;32m    275\u001b[0m         \u001b[1;31m#df_g['Day'] = df_g['Day']\u001b[0m\u001b[1;33m\u001b[0m\u001b[1;33m\u001b[0m\u001b[0m\n\u001b[1;32m--> 276\u001b[1;33m         \u001b[1;32mreturn\u001b[0m \u001b[0mdf_g\u001b[0m\u001b[1;33m.\u001b[0m\u001b[0mdict\u001b[0m\u001b[1;33m(\u001b[0m\u001b[1;33m)\u001b[0m\u001b[1;33m\u001b[0m\u001b[0m\n\u001b[0m\u001b[0;32m    277\u001b[0m \u001b[1;33m\u001b[0m\u001b[0m\n\u001b[0;32m    278\u001b[0m \u001b[1;31m#list(df_g.head(1).to_dict().keys())\u001b[0m\u001b[1;33m\u001b[0m\u001b[1;33m\u001b[0m\u001b[0m\n",
      "\u001b[1;32mC:\\Program Files (x86)\\Microsoft Visual Studio\\Shared\\Anaconda3_64\\lib\\site-packages\\pandas\\core\\generic.py\u001b[0m in \u001b[0;36m__getattr__\u001b[1;34m(self, name)\u001b[0m\n\u001b[0;32m   4370\u001b[0m             \u001b[1;32mif\u001b[0m \u001b[0mself\u001b[0m\u001b[1;33m.\u001b[0m\u001b[0m_info_axis\u001b[0m\u001b[1;33m.\u001b[0m\u001b[0m_can_hold_identifiers_and_holds_name\u001b[0m\u001b[1;33m(\u001b[0m\u001b[0mname\u001b[0m\u001b[1;33m)\u001b[0m\u001b[1;33m:\u001b[0m\u001b[1;33m\u001b[0m\u001b[0m\n\u001b[0;32m   4371\u001b[0m                 \u001b[1;32mreturn\u001b[0m \u001b[0mself\u001b[0m\u001b[1;33m[\u001b[0m\u001b[0mname\u001b[0m\u001b[1;33m]\u001b[0m\u001b[1;33m\u001b[0m\u001b[0m\n\u001b[1;32m-> 4372\u001b[1;33m             \u001b[1;32mreturn\u001b[0m \u001b[0mobject\u001b[0m\u001b[1;33m.\u001b[0m\u001b[0m__getattribute__\u001b[0m\u001b[1;33m(\u001b[0m\u001b[0mself\u001b[0m\u001b[1;33m,\u001b[0m \u001b[0mname\u001b[0m\u001b[1;33m)\u001b[0m\u001b[1;33m\u001b[0m\u001b[0m\n\u001b[0m\u001b[0;32m   4373\u001b[0m \u001b[1;33m\u001b[0m\u001b[0m\n\u001b[0;32m   4374\u001b[0m     \u001b[1;32mdef\u001b[0m \u001b[0m__setattr__\u001b[0m\u001b[1;33m(\u001b[0m\u001b[0mself\u001b[0m\u001b[1;33m,\u001b[0m \u001b[0mname\u001b[0m\u001b[1;33m,\u001b[0m \u001b[0mvalue\u001b[0m\u001b[1;33m)\u001b[0m\u001b[1;33m:\u001b[0m\u001b[1;33m\u001b[0m\u001b[0m\n",
      "\u001b[1;31mAttributeError\u001b[0m: 'DataFrame' object has no attribute 'dict'"
     ]
    }
   ],
   "source": [
    "p.return_weekly_avg()\n"
   ]
  },
  {
   "cell_type": "code",
   "execution_count": 442,
   "metadata": {},
   "outputs": [
    {
     "output_type": "execute_result",
     "data": {
      "text/plain": [
       "[{'project_name': \"Johnny's Manifesto\",\n",
       "  'project_id': 1.0,\n",
       "  'daily_words': 0,\n",
       "  'today_goal': 1000.0,\n",
       "  'total_progress': 25000.0,\n",
       "  'current_streak': 0},\n",
       " {'project_name': \"Johnny's Other Manifesto\",\n",
       "  'project_id': 2,\n",
       "  'daily_words': 0,\n",
       "  'today_goal': 1000,\n",
       "  'total_progress': 100,\n",
       "  'current_streak': 0}]"
      ]
     },
     "metadata": {},
     "execution_count": 442
    }
   ],
   "source": [
    "return_project_screen(1)"
   ]
  },
  {
   "cell_type": "code",
   "execution_count": 443,
   "metadata": {},
   "outputs": [
    {
     "output_type": "stream",
     "name": "stdout",
     "text": [
      "3.6.5\n"
     ]
    }
   ],
   "source": [
    "from platform import python_version\n",
    "\n",
    "print(python_version())"
   ]
  },
  {
   "cell_type": "code",
   "execution_count": null,
   "metadata": {},
   "outputs": [],
   "source": []
  }
 ]
}