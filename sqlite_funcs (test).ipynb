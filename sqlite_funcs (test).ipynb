{
 "metadata": {
  "language_info": {
   "codemirror_mode": {
    "name": "ipython",
    "version": 3
   },
   "file_extension": ".py",
   "mimetype": "text/x-python",
   "name": "python",
   "nbconvert_exporter": "python",
   "pygments_lexer": "ipython3",
   "version": "3.6.5-final"
  },
  "orig_nbformat": 2,
  "kernelspec": {
   "name": "python365jvsc74a57bd0e73f067f1c59be12cfda938665c6a960a5d3ec55ce3a05feea7c329cb1f7e9af",
   "display_name": "Python 3.6.5 64-bit (conda)"
  }
 },
 "nbformat": 4,
 "nbformat_minor": 2,
 "cells": [
  {
   "cell_type": "code",
   "execution_count": 1,
   "metadata": {},
   "outputs": [],
   "source": [
    "from datetime import datetime\n",
    "\n",
    "from collections import namedtuple\n",
    "\n",
    "import numpy as np\n",
    "import pandas as pd\n",
    "\n",
    "import sqlite3"
   ]
  },
  {
   "cell_type": "code",
   "execution_count": 2,
   "metadata": {},
   "outputs": [],
   "source": [
    "sqlite3_path = './database/nanite_storage.sqlite3'"
   ]
  },
  {
   "cell_type": "code",
   "execution_count": 3,
   "metadata": {},
   "outputs": [],
   "source": [
    "# defining dict-like structure for retrieved data (use ._asdict() method on them)\n",
    "AuthorVals = namedtuple('Author', 'author_id username password acct_created_on')"
   ]
  },
  {
   "cell_type": "code",
   "execution_count": 4,
   "metadata": {},
   "outputs": [],
   "source": [
    "ProjectVals = namedtuple('Project', 'project_id author_id project_name project_created_on project_start_date deadline wordcount_goal current_daily_target filetype is_folder project_path')"
   ]
  },
  {
   "cell_type": "code",
   "execution_count": 5,
   "metadata": {},
   "outputs": [],
   "source": [
    "WordVals = namedtuple('Wordcounts', 'record_id project_id author_id Wdate Wcount Wtarget')"
   ]
  },
  {
   "cell_type": "code",
   "execution_count": 6,
   "metadata": {},
   "outputs": [],
   "source": [
    "def timestamp(): \n",
    "    return str(datetime.now())"
   ]
  },
  {
   "cell_type": "code",
   "execution_count": 7,
   "metadata": {},
   "outputs": [],
   "source": [
    "def path_parser(path: str) -> str:\n",
    "    \"\"\"\n",
    "    Takes in path, returns filetype\n",
    "    \"\"\"\n",
    "    path_raw = r\"{}\".format(path)\n",
    "    txt = '.txt'\n",
    "    rtf = '.rtf'\n",
    "    docx = '.docx'\n",
    "    txt = path_raw.rfind(txt)\n",
    "    rtf = path_raw.rfind(rtf)\n",
    "    docx = path_raw.rfind(docx)\n",
    "    if txt != -1:\n",
    "        return '.txt'\n",
    "    elif rtf != -1:\n",
    "        return '.rtf'  \n",
    "    elif docx != -1:\n",
    "        return '.docx'   \n",
    "    else:\n",
    "        return None\n"
   ]
  },
  {
   "cell_type": "code",
   "execution_count": 8,
   "metadata": {},
   "outputs": [],
   "source": [
    "def create_author(author_name, password=''):    \n",
    "    \"\"\" \n",
    "    Inserts an Author into database if they don't exist.\n",
    "    If they do, this task does not go through. \n",
    "    \"\"\"\n",
    "    # add a check to make sure the author doesn't already exist\n",
    "    now = timestamp()\n",
    "    conn = sqlite3.connect(sqlite3_path)\n",
    "    cur = conn.cursor()\n",
    "    \n",
    "    cur.execute(\"SELECT username FROM authors WHERE username=?\", (author_name,))\n",
    "    entry = cur.fetchone()\n",
    "    if entry is None:\n",
    "\n",
    "        query = '''INSERT INTO authors\n",
    "                    values (?,?,?,?) '''\n",
    "        \n",
    "        params = (None, author_name, password, now)\n",
    "        cur.execute(query, params)\n",
    "        conn.commit()\n",
    "        conn.close()\n",
    "    else:\n",
    "        conn.close()\n",
    "        return print(\"This row already exists!\")"
   ]
  },
  {
   "cell_type": "code",
   "execution_count": 9,
   "metadata": {},
   "outputs": [],
   "source": [
    "def return_author_list():\n",
    "    \"\"\"\n",
    "    Prints all authors as a list of dicts\n",
    "    \"\"\"\n",
    "    conn = sqlite3.connect(sqlite3_path)\n",
    "    cur = conn.cursor()\n",
    "    cur.execute(\"SELECT * FROM authors\")\n",
    "    rows = cur.fetchall()\n",
    "    data = [dict(AuthorVals(*rows[i])._asdict()) for i in range(len(rows))]\n",
    "    conn.close()\n",
    "    return data"
   ]
  },
  {
   "cell_type": "code",
   "execution_count": null,
   "metadata": {},
   "outputs": [],
   "source": [
    "def daily_words_calculate(word_goal, goal_start_date, goal_finish_date):\n",
    "    # We currently assume you are starting at zero words, or are factoring your already existant words into your decision.\n",
    "    # This assumption may be worth revisiting later\n",
    "    #NOTE: changed incoming date format #days_left = abs((datetime.strptime(goal_finish_date,\"%d/%m/%Y\") - datetime.strptime(goal_start_date,\"%d/%m/%Y\")).days)\n",
    "    days_left = abs((datetime.strptime(goal_finish_date,\"%Y-%m-%d\") - datetime.strptime(goal_start_date,\"%Y-%m-%d\")).days)\n",
    "    daily_target = ceil(int(word_goal)/days_left)\n",
    "    return daily_target\n",
    "\n",
    "\n",
    "def word_goal_calculate(daily_target, goal_start_date, goal_finish_date):\n",
    "    # We currently assume you are starting at zero words, or are factoring your already existant words into your decision.\n",
    "    # This assumption may be worth revisiting later\n",
    "    #NOTE: changed incoming date format #days_left = abs((datetime.strptime(goal_finish_date,\"%d/%m/%Y\") - datetime.strptime(goal_start_date,\"%d/%m/%Y\")).days)\n",
    "    days_left = abs((datetime.strptime(goal_finish_date,\"%Y-%m-%d\") - datetime.strptime(goal_start_date,\"%Y-%m-%d\")).days)\n",
    "    word_goal = int(daily_target)*days_left\n",
    "    return word_goal"
   ]
  },
  {
   "cell_type": "code",
   "execution_count": 10,
   "metadata": {},
   "outputs": [],
   "source": [
    "class AuthorActions:\n",
    "\n",
    "    def __init__(self, author_id=-1):\n",
    "        self.author_id = author_id\n",
    "    \n",
    "\n",
    "    def return_info(self):\n",
    "        \"\"\"\n",
    "        prints the row of information for the author\n",
    "        \"\"\" \n",
    "        conn = sqlite3.connect(sqlite3_path)\n",
    "        cur = conn.cursor()\n",
    "        cur.execute(\"SELECT * FROM authors WHERE author_id=?\", (self.author_id,))\n",
    "        row = cur.fetchall()\n",
    "        data = AuthorVals(*row[0])\n",
    "        conn.close()\n",
    "        return dict(data._asdict())\n",
    "\n",
    "\n",
    "    def id_by_name(self, author_name):\n",
    "        \"\"\"\n",
    "        Sets AuthorActions to the right ID based on the author's name.\n",
    "        \"\"\"\n",
    "        conn = sqlite3.connect(sqlite3_path)\n",
    "        cur = conn.cursor()\n",
    "        cur.execute(\"SELECT * FROM authors WHERE username=?\", (author_name,))\n",
    "        data = cur.fetchone()\n",
    "        if data is not None:\n",
    "            self.author_id = int(data[0])\n",
    "            conn.close()\n",
    "        else:\n",
    "            print(\"No name found.\")\n",
    "            conn.close()\n",
    "\n",
    "\n",
    "    def create_project(\n",
    "        self, \n",
    "        project_name : str, \n",
    "        project_start_date=None,\n",
    "        deadline=None,\n",
    "        wordcount_goal=None, \n",
    "        current_daily_target=None,\n",
    "        filetype=None,\n",
    "        is_folder=True,\n",
    "        project_path=None):\n",
    "        \"\"\"\n",
    "        Takes in a project info, then creates a new project for a given author.\n",
    "        Eric note: Add 'page conversion' later in the future\n",
    "        \"\"\"\n",
    "        now = timestamp()\n",
    "        conn = sqlite3.connect(sqlite3_path)\n",
    "        cur = conn.cursor()\n",
    "        cur.execute(\"SELECT project_id FROM projects WHERE project_name=? AND author_id=?\", (project_name,self.author_id))\n",
    "        entry = cur.fetchone()\n",
    "        conn.close()\n",
    "        if entry is None:\n",
    "            # do insert\n",
    "            conn = sqlite3.connect(sqlite3_path)\n",
    "            cur = conn.cursor()\n",
    "            query = '''INSERT INTO projects values (\n",
    "                ?, ?, ?, ?, ?, ?, ?, ?, ?, ?, ?) '''\n",
    "            params = [None, self.author_id, project_name, now, project_start_date, deadline, \n",
    "            wordcount_goal, current_daily_target, filetype, is_folder, project_path]\n",
    "            try:\n",
    "                cur.execute(query, params)\n",
    "                conn.commit()\n",
    "            except:\n",
    "                print(\"Query failed\")\n",
    "            finally:\n",
    "                conn.close()\n",
    "        else:\n",
    "            print(\"project with this name already exists\")\n",
    "            conn.close()\n",
    "\n",
    "\n",
    "    def delete_project(self, project_name):\n",
    "        conn = sqlite3.connect(sqlite3_path)\n",
    "        cur = conn.cursor()\n",
    "        cur.execute(\"DELETE FROM projects where project_name=? AND author_id=?\", (project_name, self.author_id))\n",
    "        conn.commit()\n",
    "        conn.close()\n",
    "\n",
    "\n",
    "    def return_projects(self):\n",
    "        conn = sqlite3.connect(sqlite3_path)\n",
    "        cur = conn.cursor()\n",
    "        cur.execute(\"SELECT * FROM projects where author_id=?\", self.author_id)\n",
    "        data = cur.fetchall()\n",
    "        conn.close()\n",
    "        return data\n",
    "\n",
    "\n",
    "    def rename_author(self, new_name):\n",
    "        \"\"\"Renames an author based on new_name\"\"\"\n",
    "        conn = sqlite3.connect(sqlite3_path)\n",
    "        cur = conn.cursor()\n",
    "        cur.execute(\"UPDATE authors SET username=? WHERE author_id=?\", (new_name, self.author_id))\n",
    "        conn.commit()\n",
    "        conn.close()\n",
    "\n",
    "    def return_all_wordcounts(self):\n",
    "        \"\"\"Returns all wordcount records from all projects.\"\"\"\n",
    "        conn = sqlite3.connect(sqlite3_path)\n",
    "        cur = conn.cursor()\n",
    "        cur.execute(\"SELECT * FROM words where author_id=?\", self.author_id)\n",
    "        row = cur.fetchall()\n",
    "        data = [dict(WordVals(*row[i])._asdict()) for i in range(len(rows))]\n",
    "        conn.close()\n",
    "        return data"
   ]
  },
  {
   "cell_type": "code",
   "execution_count": 12,
   "metadata": {},
   "outputs": [],
   "source": [
    "class ProjectActions:\n",
    "    \n",
    "    def __init__(self, \n",
    "    project_id=-1, \n",
    "    author_id=-1\n",
    "    ):\n",
    "        self.project_id = project_id\n",
    "        self.author_id = author_id\n",
    "\n",
    "        self.project_name = None\n",
    "        self.project_start_date = None\n",
    "        self.deadline = None\n",
    "        self.wordcount_goal = None\n",
    "        self.current_daily_target = None\n",
    "        self.filetype = None\n",
    "        self.is_folder = None\n",
    "        self.project_path = None\n",
    "\n",
    "        self.author_set = False\n",
    "        self.daily_target_set = False\n",
    "        self.project_path = False\n",
    "\n",
    "    def set_project(self, project_id=None):\n",
    "        \"\"\"\n",
    "        Uses either the set id or an input id to assign project information to the ProjectActions Object.\n",
    "        In turn, this also allows one to make changes to wordcounts.\n",
    "        \"\"\"\n",
    "        # checkproject id in the database- reset \n",
    "        if (project_id is None) and (self.project_id == -1):\n",
    "            raise Exception(\"Error: No value set for project_id\")\n",
    "        elif project_id is None:\n",
    "            project_id = self.project_id \n",
    "        else:\n",
    "            pass\n",
    "        conn = sqlite3.connect(sqlite3_path)\n",
    "        cur = conn.cursor()\n",
    "        cur.execute(\"SELECT * FROM projects where project_id=?\", (project_id,))\n",
    "        row = cur.fetchall()\n",
    "        data = row[0]\n",
    "        self.project_id = project_id\n",
    "        self.author_id = data[1]\n",
    "        self.project_name = data[2]\n",
    "        self.project_created_on = data[3]\n",
    "        self.project_start_date = data[4]\n",
    "        self.deadline = data[5]\n",
    "        self.wordcount_goal = data[6]\n",
    "        self.current_daily_target = data[7]\n",
    "        self.filetype = data[8]\n",
    "        self.is_folder = data[9]\n",
    "        self.project_path = data[10]\n",
    "        self.author_set = True\n",
    "        self.daily_target_set = True\n",
    "        conn.close()\n",
    "        \n",
    "    def get_project(self, project_id=None):\n",
    "        if (project_id is None) and (self.project_id == -1):\n",
    "            raise Exception(\"Error: No value set for project_id\")\n",
    "        elif project_id is None:\n",
    "            project_id = self.project_id \n",
    "        else:\n",
    "            pass\n",
    "        # checkproject id in the database- reset \n",
    "        conn = sqlite3.connect(sqlite3_path)\n",
    "        cur = conn.cursor()\n",
    "        cur.execute(\"SELECT * FROM projects where project_id=?\", (project_id,))\n",
    "        row = cur.fetchall()\n",
    "        data = [dict(ProjectVals(*row[i])._asdict()) for i in range(len(row))]\n",
    "        conn.close()\n",
    "        return data\n",
    "\n",
    "    def id_by_names(self, author_name, project_name):\n",
    "        \"\"\"\n",
    "        Sets ProjectActions to the right project & author based on the project & author's name.\n",
    "        \"\"\"\n",
    "        conn = sqlite3.connect(sqlite3_path)\n",
    "        cur = conn.cursor()\n",
    "        query=\"\"\"\n",
    "        SELECT authors.author_id, projects.project_id, authors.username, projects.project_name \n",
    "        FROM projects\n",
    "        INNER JOIN authors ON projects.author_id = authors.author_id\n",
    "        WHERE authors.username=? AND projects.project_name=? \n",
    "        \"\"\"\n",
    "        params = (author_name, project_name)\n",
    "        cur.execute(query, params)\n",
    "        data = cur.fetchone()\n",
    "        if data is not None:\n",
    "            self.project_id = int(data[1])\n",
    "            self.author_id = int(data[0])\n",
    "            conn.close()\n",
    "            author_set = True\n",
    "        else:\n",
    "            print(\"No name combination found.\")\n",
    "            conn.close()\n",
    "        \n",
    "\n",
    "    def get_wordcounts(self):\n",
    "        conn = sqlite3.connect(sqlite3_path)\n",
    "        cur = conn.cursor()\n",
    "        cur.execute(\"SELECT * FROM words where project_id=?\", self.project_id)\n",
    "        row = cur.fetchall()\n",
    "        data = [dict(WordVals(*row[i])._asdict()) for i in range(len(rows))]\n",
    "        conn.close()\n",
    "        return data\n",
    "\n",
    "    def set_wordcounts(self):\n",
    "        \"\"\"Input Daily Wordcounts (some functions not finished)\"\"\"\n",
    "        if (self.current_daily_target == False):\n",
    "            print(\"Wcount not pushed, Wordcount Target not set!\")\n",
    "        elif self.project_path is None:\n",
    "            print(\"Project Path not set- Data cannot be pulled!\")\n",
    "        else:\n",
    "            try:\n",
    "                words = filepull(self.project_path, self.is_folder, self.filetype)\n",
    "            except:\n",
    "                print(\"filepull failed.\")\n",
    "            try:\n",
    "                wc = wordcount(words)\n",
    "            except:\n",
    "                print(\"words cannot be counted\")\n",
    "                now = timestamp()\n",
    "            query = '''INSERT INTO projects values (\n",
    "                ?, ?, ?, ?, ?, ?, ?, ?, ?, ?, ?) '''\n",
    "            params = [None, self.project_id, self.author_id, now, wc, self.current_daily_target]\n",
    "            try:\n",
    "                cur.execute(query, params)\n",
    "                conn.commit()\n",
    "            except:\n",
    "                print(\"Query insertion failed\")\n",
    "            finally:\n",
    "                conn.close()\n",
    "\n",
    "    def change_target(self):\n",
    "        \"\"\"Still needs doing\"\"\"\n",
    "        pass\n",
    "\n",
    "    def rename_project(self, new_name):\n",
    "        \"\"\"Renames a project based on new_name\"\"\"\n",
    "        conn = sqlite3.connect(sqlite3_path)\n",
    "        cur = conn.cursor()\n",
    "        cur.execute(\"UPDATE projects SET project_name=? WHERE project_id=?\", (new_name, self.project_id))\n",
    "        conn.commit()\n",
    "        conn.close()\n"
   ]
  },
  {
   "cell_type": "code",
   "execution_count": 13,
   "metadata": {},
   "outputs": [],
   "source": [
    "\n",
    "### DDL Queries ###\n",
    "\n",
    "create_author_sql = \"\"\"\n",
    "CREATE TABLE IF NOT EXISTS authors (\n",
    "    author_id integer PRIMARY KEY,\n",
    "    username text NOT NULL,\n",
    "    password text,\n",
    "    acct_created_on text NOT NULL\n",
    ")\n",
    "\"\"\"\n",
    "\n",
    "create_project_sql = \"\"\"\n",
    "CREATE TABLE IF NOT EXISTS projects (\n",
    "    project_id integer PRIMARY KEY,\n",
    "    author_id integer,\n",
    "    project_name text NOT NULL,\n",
    "    project_created_on text NOT NULL,\n",
    "    project_start_date text,\n",
    "    deadline text,\n",
    "    wordcount_goal int,\n",
    "    current_daily_target int,\n",
    "    filetype text,\n",
    "    is_folder int,\n",
    "    project_path text,\n",
    "    FOREIGN KEY (author_id) REFERENCES authors (author_id)\n",
    ")\n",
    "\"\"\"\n",
    "\n",
    "create_words_sql = \"\"\"\n",
    "CREATE TABLE IF NOT EXISTS words (\n",
    "    record_id integer PRIMARY_KEY,\n",
    "    project_id integer,\n",
    "    author_id integer,\n",
    "    Wdate text NOT NULL,\n",
    "    Wcount int NOT NULL,\n",
    "    Wtarget int,\n",
    "    FOREIGN KEY (project_id) REFERENCES projects (project_id),\n",
    "    FOREIGN KEY (author_id) REFERENCES authors (author_id)\n",
    ")\n",
    "\"\"\"\n",
    "\n",
    "\n",
    "sqlite3_path = './database/nanite_storage.sqlite3'\n",
    "# SQLite just needs to connect to create db\n",
    "def db_init():\n",
    "    \"\"\"creates database if they don't exist\"\"\"\n",
    "    if os.path.exists(sqlite3_path) == False:\n",
    "        conn = sqlite3.connect(sqlite3_path)\n",
    "        conn.execute(\"PRAGMA foreign_keys = 1\")\n",
    "        conn.execute(create_author_sql)\n",
    "        conn.execute(create_project_sql)\n",
    "        conn.execute(create_words_sql)\n",
    "        conn.close()\n",
    "    else:\n",
    "        print(\"db already exists\")"
   ]
  },
  {
   "cell_type": "code",
   "execution_count": 14,
   "metadata": {},
   "outputs": [
    {
     "output_type": "stream",
     "name": "stdout",
     "text": [
      "db already exists\n"
     ]
    }
   ],
   "source": [
    "db_init()"
   ]
  },
  {
   "cell_type": "code",
   "execution_count": 15,
   "metadata": {},
   "outputs": [
    {
     "output_type": "stream",
     "name": "stdout",
     "text": [
      "This row already exists!\n"
     ]
    }
   ],
   "source": [
    "create_author(\"Johnny\")"
   ]
  },
  {
   "cell_type": "code",
   "execution_count": 16,
   "metadata": {},
   "outputs": [
    {
     "output_type": "execute_result",
     "data": {
      "text/plain": [
       "{'author_id': 4,\n",
       " 'username': 'Johnny',\n",
       " 'password': '',\n",
       " 'acct_created_on': '2021-04-04 01:43:15.890866'}"
      ]
     },
     "metadata": {},
     "execution_count": 16
    }
   ],
   "source": [
    "a = AuthorActions()\n",
    "a.id_by_name('Johnny')\n",
    "a.return_info()\n"
   ]
  },
  {
   "cell_type": "code",
   "execution_count": 17,
   "metadata": {},
   "outputs": [
    {
     "output_type": "stream",
     "name": "stdout",
     "text": [
      "project with this name already exists\n"
     ]
    }
   ],
   "source": [
    "a.create_project(\"Johnny's Manifesto\")"
   ]
  },
  {
   "cell_type": "code",
   "execution_count": 21,
   "metadata": {},
   "outputs": [],
   "source": [
    "p2 = ProjectActions()"
   ]
  },
  {
   "cell_type": "code",
   "execution_count": 22,
   "metadata": {},
   "outputs": [],
   "source": [
    "p2.id_by_names(\"Johnny\", \"Johnny's Manifesto\")"
   ]
  },
  {
   "cell_type": "code",
   "execution_count": 23,
   "metadata": {},
   "outputs": [
    {
     "output_type": "execute_result",
     "data": {
      "text/plain": [
       "[{'project_id': 1,\n",
       "  'author_id': 4,\n",
       "  'project_name': \"Johnny's Manifesto\",\n",
       "  'project_created_on': '2021-04-04 01:43:21.248536',\n",
       "  'project_start_date': None,\n",
       "  'deadline': None,\n",
       "  'wordcount_goal': None,\n",
       "  'current_daily_target': None,\n",
       "  'filetype': 'na',\n",
       "  'is_folder': 1,\n",
       "  'project_path': ''}]"
      ]
     },
     "metadata": {},
     "execution_count": 23
    }
   ],
   "source": [
    "p2.set_project()\n",
    "p2.get_project()"
   ]
  },
  {
   "cell_type": "code",
   "execution_count": 26,
   "metadata": {},
   "outputs": [
    {
     "output_type": "execute_result",
     "data": {
      "text/plain": [
       "\"Johnny's Manifesto\""
      ]
     },
     "metadata": {},
     "execution_count": 26
    }
   ],
   "source": [
    "p2.project_name"
   ]
  },
  {
   "cell_type": "code",
   "execution_count": null,
   "metadata": {},
   "outputs": [],
   "source": [
    "        \"\"\"\n",
    "        self.project_id = -1\n",
    "        self.author_id = -1\n",
    "\n",
    "        self.project_name = project_name\n",
    "        self.project_start_date = project_start_date\n",
    "        self.deadline = deadline\n",
    "        self.wordcount_goal = wordcount_goal\n",
    "        self.current_daily_target = current_daily_target\n",
    "        self.filetype = filetype\n",
    "        self.is_folder = is_folder\n",
    "        self.project_path = project_path\n",
    "        \"\"\""
   ]
  }
 ]
}