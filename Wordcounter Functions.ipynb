{
 "cells": [
  {
   "cell_type": "code",
   "execution_count": 46,
   "metadata": {},
   "outputs": [],
   "source": [
    "import os\n",
    "import glob\n",
    "import string\n",
    "import re\n",
    "import fileinput\n",
    "import csv\n",
    "from datetime import date\n",
    "\n",
    "import pandas as pd"
   ]
  },
  {
   "cell_type": "code",
   "execution_count": 27,
   "metadata": {},
   "outputs": [],
   "source": [
    "from striprtf.striprtf import rtf_to_text\n",
    "import docx2txt"
   ]
  },
  {
   "cell_type": "code",
   "execution_count": 28,
   "metadata": {},
   "outputs": [],
   "source": [
    "# Supporting 3 standards to start: txt, docx, and rtf.\n",
    "# Maybe have another function which assumes inputs.\n",
    "\n",
    "# Textract seems to do all these things for me."
   ]
  },
  {
   "cell_type": "code",
   "execution_count": 29,
   "metadata": {},
   "outputs": [],
   "source": [
    "r = re.compile(r'\\w+')"
   ]
  },
  {
   "cell_type": "code",
   "execution_count": 30,
   "metadata": {},
   "outputs": [],
   "source": [
    "punctuation_strip = str.maketrans('', '', string.punctuation)"
   ]
  },
  {
   "cell_type": "code",
   "execution_count": 31,
   "metadata": {},
   "outputs": [],
   "source": [
    "# define content, open it, and read it in prior to the function\n",
    "\n",
    "def wordcount(content):\n",
    "    filetoken = content.translate(punctuation_strip).split(' ')\n",
    "    wordcount = list(filter(r.match, filetoken))\n",
    "    return len(wordcount)"
   ]
  },
  {
   "cell_type": "code",
   "execution_count": 32,
   "metadata": {},
   "outputs": [],
   "source": [
    "def filepull(project_path, filetype='txt', isDirectory=False):\n",
    "    \n",
    "    if isDirectory is False:\n",
    "        if filetype == 'txt':\n",
    "            filepath = os.path.join(project_path)\n",
    "            with open(filepath, \"r\", encoding='utf8') as file:\n",
    "                return file.read()\n",
    "            \n",
    "        elif filetype == 'rtf':\n",
    "            filepath = os.path.join(project_path)\n",
    "            with open(filepath, \"r\", encoding='utf8') as file:\n",
    "                rtf_file = file.read()\n",
    "                clean_file = rtf_to_text(rtf_file)\n",
    "                return clean_file\n",
    "                \n",
    "        elif filetype == 'docx':\n",
    "            filepath = os.path.join(project_path)\n",
    "            file = docx2txt.process(filepath)\n",
    "            return file\n",
    "\n",
    "        else:\n",
    "            print(\"error: filepull only accepts 'txt', 'rtf', & 'docx' as args\")\n",
    "        \n",
    "    if isDirectory is True:\n",
    "        if filetype == 'txt':\n",
    "            file_list = []\n",
    "            for filepath in glob.glob(os.path.join(project_path, '*.' + str(filetype))):\n",
    "                with open(filepath, \"r\", encoding='utf8') as file:\n",
    "                    read_in = file.read()\n",
    "                    file_list.append(read_in)\n",
    "            merged_files = (\" \").join(file_list)\n",
    "            return merged_files\n",
    "        \n",
    "        elif filetype == 'rtf':\n",
    "            file_list = []\n",
    "            for filepath in glob.glob(os.path.join(project_path, '*.' + str(filetype))):\n",
    "                with open(filepath, \"r\", encoding='utf8') as file:\n",
    "                    rtf_file = file.read()\n",
    "                    clean_file = rtf_to_text(rtf_file)\n",
    "                    file_list.append(clean_file)\n",
    "            merged_files = (\" \").join(file_list)\n",
    "            return merged_files    \n",
    "        \n",
    "        elif filetype == 'docx':\n",
    "            file_list = []\n",
    "            for filepath in glob.glob(os.path.join(project_path, '*.' + str(filetype))):\n",
    "                file_list = docx2txt.process(filepath)\n",
    "            merged_files = (\" \").join(file_list)\n",
    "            return file_list"
   ]
  },
  {
   "cell_type": "code",
   "execution_count": 33,
   "metadata": {},
   "outputs": [],
   "source": [
    "test = r'D:\\Documents\\Datasets\\Testing files\\rtf files'"
   ]
  },
  {
   "cell_type": "code",
   "execution_count": 34,
   "metadata": {},
   "outputs": [],
   "source": [
    "test_text = filepull(test, filetype='rtf', isDirectory=True)"
   ]
  },
  {
   "cell_type": "code",
   "execution_count": 35,
   "metadata": {},
   "outputs": [],
   "source": [
    "def wordmeta_set(name, target, path, filetype):\n",
    "    \n",
    "    df = pd.read_csv('wordcount_meta.csv', index_col='Project Name')\n",
    "    \n",
    "    if df.index.str.match('^' + str(name) +'$').any() == True:\n",
    "        new_row = pd.DataFrame.from_records({\n",
    "            'Project Name':name, 'Latest Target':target, 'Project Path':path, 'Filetype':filetype\n",
    "        }, index=[0]).set_index('Project Name')\n",
    "        df.update(new_row)\n",
    "        df.to_csv('wordcount_meta.csv', index=True)\n",
    "        \n",
    "    else:\n",
    "        new_row = pd.DataFrame.from_records({\n",
    "            'Project Name':name, 'Latest Target':target, 'Project Path':path, 'Filetype':filetype\n",
    "        }, index=[0]).set_index('Project Name')\n",
    "        df = df.append(new_row)\n",
    "        df.to_csv('wordcount_meta.csv', index=True)"
   ]
  },
  {
   "cell_type": "code",
   "execution_count": 55,
   "metadata": {},
   "outputs": [],
   "source": [
    "# test this\n",
    "def wordcount_update(name, dailywords):\n",
    "    datestamp = date.today().strftime(\"%d/%m/%Y\")\n",
    "    \n",
    "    if os.path.exists(str(name) + '_wordcount.csv') == False:\n",
    "        colnames = [str('Date'), str('Wordcount'), str('Target')]\n",
    "        with open(str(name) + '_wordcount.csv', 'w', encoding='cp1252') as file:\n",
    "            filewriter = csv.writer(file)\n",
    "            filewriter.writerow(colnames)\n",
    "    else:\n",
    "        pass\n",
    "    meta_df = pd.read_csv('wordcount_meta.csv', index_col='Project Name')\n",
    "    \n",
    "    df = pd.read_csv(str(name) + '_wordcount.csv', index_col='Date')\n",
    "    new_row = pd.DataFrame.from_records(\n",
    "        {'Date': datestamp, 'Wordcount':dailywords, 'Targets':meta_df.loc[name]['Latest Target']})\n",
    "    df.combine_first(new_row)\n",
    "    pd.to_csv(str(name) + '_wordcount.csv', index=True)"
   ]
  },
  {
   "cell_type": "code",
   "execution_count": 36,
   "metadata": {},
   "outputs": [],
   "source": [
    "path=r'D:\\Documents\\Datasets\\001. ML Projects\\Wordcount v2\\Scrivener-Wordcount-Tool-master\\Sample book\\Test Adventure.txt'"
   ]
  },
  {
   "cell_type": "code",
   "execution_count": 37,
   "metadata": {},
   "outputs": [
    {
     "name": "stderr",
     "output_type": "stream",
     "text": [
      "C:\\Program Files (x86)\\Microsoft Visual Studio\\Shared\\Anaconda3_64\\lib\\site-packages\\pandas\\core\\frame.py:6201: FutureWarning: Sorting because non-concatenation axis is not aligned. A future version\n",
      "of pandas will change to not sort by default.\n",
      "\n",
      "To accept the future behavior, pass 'sort=True'.\n",
      "\n",
      "To retain the current behavior and silence the warning, pass sort=False\n",
      "\n",
      "  sort=sort)\n"
     ]
    }
   ],
   "source": [
    "wordmeta_set(name='Test Adventure',target=300,path=path,filetype='txt')"
   ]
  },
  {
   "cell_type": "code",
   "execution_count": 12,
   "metadata": {},
   "outputs": [
    {
     "data": {
      "text/plain": [
       "\"filenames = ['file1.txt', 'file2.txt', ...]\\nwith open('path/to/output/file', 'w') as outfile:\\n    for fname in filenames:\\n        with open(fname) as infile:\\n            for line in infile:\\n                outfile.write(line)\""
      ]
     },
     "execution_count": 12,
     "metadata": {},
     "output_type": "execute_result"
    }
   ],
   "source": [
    "\"\"\"filenames = ['file1.txt', 'file2.txt', ...]\n",
    "with open('path/to/output/file', 'w') as outfile:\n",
    "    for fname in filenames:\n",
    "        with open(fname) as infile:\n",
    "            for line in infile:\n",
    "                outfile.write(line)\"\"\""
   ]
  },
  {
   "cell_type": "code",
   "execution_count": null,
   "metadata": {},
   "outputs": [],
   "source": [
    "# Make a function to write a project name & current wordcount goal to a .csv\n",
    "# Make a function to write-in a project's daily wordcount & it's current target"
   ]
  }
 ],
 "metadata": {
  "kernelspec": {
   "display_name": "Python 3",
   "language": "python",
   "name": "python3"
  },
  "language_info": {
   "codemirror_mode": {
    "name": "ipython",
    "version": 3
   },
   "file_extension": ".py",
   "mimetype": "text/x-python",
   "name": "python",
   "nbconvert_exporter": "python",
   "pygments_lexer": "ipython3",
   "version": "3.6.5"
  }
 },
 "nbformat": 4,
 "nbformat_minor": 4
}
