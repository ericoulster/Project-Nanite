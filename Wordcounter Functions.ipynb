{
 "cells": [
  {
   "cell_type": "code",
   "execution_count": 20,
   "metadata": {},
   "outputs": [],
   "source": [
    "import os\n",
    "import glob\n",
    "import string\n",
    "import re\n",
    "import fileinput\n",
    "import csv\n",
    "from datetime import date\n",
    "\n",
    "import numpy as np\n",
    "import pandas as pd"
   ]
  },
  {
   "cell_type": "code",
   "execution_count": 2,
   "metadata": {},
   "outputs": [],
   "source": [
    "from striprtf.striprtf import rtf_to_text\n",
    "import docx2txt"
   ]
  },
  {
   "cell_type": "code",
   "execution_count": 3,
   "metadata": {},
   "outputs": [],
   "source": [
    "# To-do: Close files"
   ]
  },
  {
   "cell_type": "code",
   "execution_count": 4,
   "metadata": {},
   "outputs": [],
   "source": [
    "r = re.compile(r'\\w+')"
   ]
  },
  {
   "cell_type": "code",
   "execution_count": 5,
   "metadata": {},
   "outputs": [],
   "source": [
    "punctuation_strip = str.maketrans('', '', string.punctuation)"
   ]
  },
  {
   "cell_type": "code",
   "execution_count": 6,
   "metadata": {},
   "outputs": [],
   "source": [
    "# define content, open it, and read it in prior to the function\n",
    "\n",
    "def wordcount(content):\n",
    "    filetoken = content.translate(punctuation_strip).split(' ')\n",
    "    wordcount = list(filter(r.match, filetoken))\n",
    "    return len(wordcount)"
   ]
  },
  {
   "cell_type": "code",
   "execution_count": 7,
   "metadata": {},
   "outputs": [],
   "source": [
    "def filepull(project_path, filetype='txt', isDirectory=False):\n",
    "    \n",
    "    if isDirectory is False:\n",
    "        if filetype == 'txt':\n",
    "            filepath = os.path.join(project_path)\n",
    "            with open(filepath, \"r\", encoding='utf8') as file:\n",
    "                return file.read()\n",
    "            \n",
    "        elif filetype == 'rtf':\n",
    "            filepath = os.path.join(project_path)\n",
    "            with open(filepath, \"r\", encoding='utf8') as file:\n",
    "                rtf_file = file.read()\n",
    "                clean_file = rtf_to_text(rtf_file)\n",
    "                return clean_file\n",
    "                \n",
    "        elif filetype == 'docx':\n",
    "            filepath = os.path.join(project_path)\n",
    "            file = docx2txt.process(filepath)\n",
    "            return file\n",
    "\n",
    "        else:\n",
    "            print(\"error: filepull only accepts 'txt', 'rtf', & 'docx' as args\")\n",
    "        \n",
    "    if isDirectory is True:\n",
    "        if filetype == 'txt':\n",
    "            file_list = []\n",
    "            for filepath in glob.glob(os.path.join(project_path, '*.' + str(filetype))):\n",
    "                with open(filepath, \"r\", encoding='utf8') as file:\n",
    "                    read_in = file.read()\n",
    "                    file_list.append(read_in)\n",
    "            merged_files = (\" \").join(file_list)\n",
    "            return merged_files\n",
    "        \n",
    "        elif filetype == 'rtf':\n",
    "            file_list = []\n",
    "            for filepath in glob.glob(os.path.join(project_path, '*.' + str(filetype))):\n",
    "                with open(filepath, \"r\", encoding='utf8') as file:\n",
    "                    rtf_file = file.read()\n",
    "                    clean_file = rtf_to_text(rtf_file)\n",
    "                    file_list.append(clean_file)\n",
    "            merged_files = (\" \").join(file_list)\n",
    "            return merged_files    \n",
    "        \n",
    "        elif filetype == 'docx':\n",
    "            file_list = []\n",
    "            for filepath in glob.glob(os.path.join(project_path, '*.' + str(filetype))):\n",
    "                file_list = docx2txt.process(filepath)\n",
    "            merged_files = (\" \").join(file_list)\n",
    "            return file_list"
   ]
  },
  {
   "cell_type": "code",
   "execution_count": 8,
   "metadata": {},
   "outputs": [],
   "source": [
    "def wordmeta_set(name, target, path, filetype, deadline):\n",
    "    \n",
    "    df = pd.read_csv('wordcount_meta.csv', index_col='Project Name')\n",
    "    # Consolidate these options later on.\n",
    "    \n",
    "    if df.empty is True:\n",
    "        new_row = pd.DataFrame.from_records({\n",
    "            'Project Name':name, 'Latest Target':target, 'Project Path':path, 'Filetype':filetype, 'Deadline':deadline,\n",
    "        }, index=[0]).set_index('Project Name')\n",
    "        df = df.append(new_row)\n",
    "        df.to_csv('wordcount_meta.csv', index=True)\n",
    "    \n",
    "    elif df.index.str.match('^' + str(name) +'$').any() == True:\n",
    "        new_row = pd.DataFrame.from_records({\n",
    "            'Project Name':name, 'Latest Target':target, 'Project Path':path, 'Filetype':filetype, 'Deadline':deadline\n",
    "        }, index=[0]).set_index('Project Name')\n",
    "        df.update(new_row)\n",
    "        df.to_csv('wordcount_meta.csv', index=True)\n",
    "        \n",
    "    else:\n",
    "        new_row = pd.DataFrame.from_records({\n",
    "            'Project Name':name, 'Latest Target':target, 'Project Path':path, 'Filetype':filetype, 'Deadline':deadline\n",
    "        }, index=[0]).set_index('Project Name')\n",
    "        df = df.append(new_row)\n",
    "        df.to_csv('wordcount_meta.csv', index=True)"
   ]
  },
  {
   "cell_type": "code",
   "execution_count": 9,
   "metadata": {},
   "outputs": [],
   "source": [
    "def wordmeta_pull(name):\n",
    "    df = pd.read_csv('wordcount_meta.csv', index_col='Project Name')\n",
    "    \n",
    "    if df.index.str.match('^' + str(name) +'$').any() == True:\n",
    "        val_row = df[df.index == str(name)]\n",
    "        return val_row.to_dict()\n",
    "        \n",
    "    else:\n",
    "        #needed: error handling\n",
    "        print(\"name not in system\")\n",
    "        "
   ]
  },
  {
   "cell_type": "code",
   "execution_count": 10,
   "metadata": {},
   "outputs": [],
   "source": [
    "def wordcount_update(name, dailywords):\n",
    "    datestamp = date.today().strftime(\"%d/%m/%Y\")\n",
    "    \n",
    "    if os.path.exists(str(name) + '_wordcount.csv') == False:\n",
    "        colnames = [str('Date'), str('Wordcount'), str('Target')]\n",
    "        with open(str(name) + '_wordcount.csv', 'w', encoding='cp1252') as file:\n",
    "            filewriter = csv.writer(file)\n",
    "            filewriter.writerow(colnames)\n",
    "    else:\n",
    "        pass\n",
    "    meta_df = pd.read_csv('wordcount_meta.csv', index_col='Project Name')    \n",
    "    \n",
    "    df = pd.read_csv(str(name) + '_wordcount.csv', index_col='Date')\n",
    "    new_row = pd.DataFrame.from_records(\n",
    "        {\n",
    "            'Date': datestamp, 'Wordcount':dailywords, 'Target':meta_df.loc[name]['Latest Target']\n",
    "        }, index=[0]).set_index('Date')\n",
    "    \n",
    "    if (df.index[-1] == date.today().strftime(\"%d/%m/%Y\")) is True:\n",
    "        df.update(new_row)\n",
    "    else:      \n",
    "        df = df.combine_first(new_row)\n",
    "    df.to_csv(str(name) + '_wordcount.csv', index=True)"
   ]
  },
  {
   "cell_type": "code",
   "execution_count": 11,
   "metadata": {},
   "outputs": [],
   "source": [
    "def wordcount_pull(name):\n",
    "    \n",
    "    if os.path.exists(str(name) + '_wordcount.csv') == False:\n",
    "        return print(\"no wordcount record\")\n",
    "    else:\n",
    "        df = pd.read_csv(str(name) + '_wordcount.csv')\n",
    "        return df.to_dict()"
   ]
  },
  {
   "cell_type": "code",
   "execution_count": 26,
   "metadata": {},
   "outputs": [],
   "source": [
    "def wordmeta_rename(name, new_name):\n",
    "    df = pd.read_csv('wordcount_meta.csv')\n",
    "    if df.empty is True:\n",
    "        pass\n",
    "    \n",
    "    elif df['Project Name'].str.match('^' + str(name) +'$').any() == True:\n",
    "        df['Project Name'] = np.where(df[['Project Name']] == str(name), str(new_name), df[['Project Name']])\n",
    "        df.to_csv('wordcount_meta.csv', index=False)\n",
    "        \n",
    "    else:\n",
    "        pass"
   ]
  },
  {
   "cell_type": "code",
   "execution_count": 33,
   "metadata": {},
   "outputs": [],
   "source": [
    "# build delete function for wordmeta\n",
    "def wordmeta_delete(name):\n",
    "    df = pd.read_csv('wordcount_meta.csv', index_col='Project Name')\n",
    "    if df.empty is True:\n",
    "        pass\n",
    "    \n",
    "    elif df.index.str.match('^' + str(name) +'$').any() == True:\n",
    "        df = df.drop(labels=str(name), axis=0)\n",
    "        df.to_csv('wordcount_meta.csv', index=True)\n",
    "        \n",
    "    else:\n",
    "        pass\n",
    "        "
   ]
  }
 ],
 "metadata": {
  "kernelspec": {
   "display_name": "Python 3",
   "language": "python",
   "name": "python3"
  },
  "language_info": {
   "codemirror_mode": {
    "name": "ipython",
    "version": 3
   },
   "file_extension": ".py",
   "mimetype": "text/x-python",
   "name": "python",
   "nbconvert_exporter": "python",
   "pygments_lexer": "ipython3",
   "version": "3.6.5"
  }
 },
 "nbformat": 4,
 "nbformat_minor": 4
}
