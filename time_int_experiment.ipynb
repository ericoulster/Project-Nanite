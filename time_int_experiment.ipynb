{
 "metadata": {
  "language_info": {
   "codemirror_mode": {
    "name": "ipython",
    "version": 3
   },
   "file_extension": ".py",
   "mimetype": "text/x-python",
   "name": "python",
   "nbconvert_exporter": "python",
   "pygments_lexer": "ipython3",
   "version": "3.6.5-final"
  },
  "orig_nbformat": 2,
  "kernelspec": {
   "name": "python365jvsc74a57bd0e73f067f1c59be12cfda938665c6a960a5d3ec55ce3a05feea7c329cb1f7e9af",
   "display_name": "Python 3.6.5 64-bit (conda)"
  }
 },
 "nbformat": 4,
 "nbformat_minor": 2,
 "cells": [
  {
   "cell_type": "code",
   "execution_count": 1,
   "metadata": {},
   "outputs": [],
   "source": [
    "import string\n",
    "from datetime import date, datetime\n",
    "from math import ceil\n",
    "import re\n",
    "import shutil\n",
    "from pathlib import Path"
   ]
  },
  {
   "cell_type": "code",
   "execution_count": 2,
   "metadata": {},
   "outputs": [],
   "source": [
    "def daily_words_calculate(word_goal, goal_start_date, goal_finish_date):\n",
    "    # We currently assume you are starting at zero words, or are factoring your already existant words into your decision.\n",
    "    # This assumption may be worth revisiting later\n",
    "    #NOTE: changed incoming date format #days_left = abs((datetime.strptime(goal_finish_date,\"%d/%m/%Y\") - datetime.strptime(goal_start_date,\"%d/%m/%Y\")).days)\n",
    "    days_left = abs((datetime.strptime(goal_finish_date,\"%Y-%m-%d\") - datetime.strptime(goal_start_date,\"%Y-%m-%d\")).days)\n",
    "    daily_target = ceil(int(word_goal)/days_left)\n",
    "    return daily_target\n",
    "\n",
    "\n",
    "def word_goal_calculate(daily_target, goal_start_date, goal_finish_date):\n",
    "    # We currently assume you are starting at zero words, or are factoring your already existant words into your decision.\n",
    "    # This assumption may be worth revisiting later\n",
    "    #NOTE: changed incoming date format #days_left = abs((datetime.strptime(goal_finish_date,\"%d/%m/%Y\") - datetime.strptime(goal_start_date,\"%d/%m/%Y\")).days)\n",
    "    days_left = abs((datetime.strptime(goal_finish_date,\"%Y-%m-%d\") - datetime.strptime(goal_start_date,\"%Y-%m-%d\")).days)\n",
    "    word_goal = int(daily_target)*days_left\n",
    "    return word_goal"
   ]
  },
  {
   "cell_type": "code",
   "execution_count": 3,
   "metadata": {},
   "outputs": [],
   "source": [
    "def change_goal(goal_start_date, goal_end_date, word_goal=None, daily_target=None):\n",
    "    if (word_goal is not None) and (daily_target is None):\n",
    "        goal = daily_words_calculate(word_goal, goal_start_date, goal_end_date)\n",
    "        return goal\n",
    "    elif (daily_target is not None) and (word_goal is None):\n",
    "        goal = word_goal_calculate(daily_target, goal_start_date, goal_end_date)\n",
    "        return goal\n",
    "    else:\n",
    "        raise Exception(\"Error: provide word_goal or daily_target, but not both.\")"
   ]
  },
  {
   "cell_type": "code",
   "execution_count": 4,
   "metadata": {},
   "outputs": [],
   "source": [
    "import sqlite3\n",
    "sqlite3_path = './database/nanite_storage.sqlite3'\n",
    "\n",
    "query = '''INSERT INTO words values (\n",
    "    ?, ?, ?, ?, ?, ?) '''\n",
    "params = [None, 1, 1, '2021-03-12 08:00:00.000000', 22000, 1000]\n",
    "conn = sqlite3.connect(sqlite3_path)\n",
    "cur = conn.cursor()\n",
    "cur.execute(query, params)\n",
    "conn.commit()"
   ]
  },
  {
   "cell_type": "code",
   "execution_count": 5,
   "metadata": {},
   "outputs": [],
   "source": [
    "from collections import namedtuple\n",
    "WordVals = namedtuple('Wordcounts', 'record_id project_id author_id Wdate Wcount Wtarget')"
   ]
  },
  {
   "cell_type": "code",
   "execution_count": 6,
   "metadata": {},
   "outputs": [],
   "source": [
    "import pandas as pd\n"
   ]
  },
  {
   "cell_type": "code",
   "execution_count": 75,
   "metadata": {},
   "outputs": [],
   "source": [
    "def get_words_time(freq=None) -> dict:\r\n",
    "    freq = freq\r\n",
    "    conn = sqlite3.connect(sqlite3_path)\r\n",
    "    cur = conn.cursor()\r\n",
    "    cur.execute(\"SELECT * FROM words where project_id=?\", '1')\r\n",
    "    row = cur.fetchall()\r\n",
    "    data = [dict(WordVals(*row[i])._asdict()) for i in range(len(row))]\r\n",
    "    conn.close()\r\n",
    "    df = pd.DataFrame(data)\r\n",
    "    df.index = pd.DatetimeIndex(df['Wdate'])\r\n",
    "\r\n",
    "    earliest = df.index[0]\r\n",
    "    latest = df.index[-1]\r\n",
    "\r\n",
    "    new_index = pd.date_range(earliest, latest, freq='D')\r\n",
    "\r\n",
    "    df = df.groupby(pd.Grouper(freq='D')).last()\r\n",
    "    df = df.reindex(new_index, method='ffill')\r\n",
    "    df = df.fillna(method='ffill')\r\n",
    "    df['Wtarget_sum'] = df['Wtarget'].cumsum()\r\n",
    "    df['Wdate'] = df['Wdate'].apply(lambda x: x[:10])\r\n",
    "    df = df.groupby(pd.Grouper(freq=freq)).last()\r\n",
    "    records = df.to_dict(orient='records')\r\n",
    "    return records"
   ]
  },
  {
   "cell_type": "code",
   "execution_count": 77,
   "metadata": {},
   "outputs": [
    {
     "output_type": "execute_result",
     "data": {
      "text/plain": [
       "[{'Wcount': 1500.0,\n",
       "  'Wdate': '2021-03-01',\n",
       "  'Wtarget': 1000.0,\n",
       "  'author_id': 1.0,\n",
       "  'project_id': 1.0,\n",
       "  'record_id': 1.0,\n",
       "  'Wtarget_sum': 1000.0},\n",
       " {'Wcount': 2300.0,\n",
       "  'Wdate': '2021-03-02',\n",
       "  'Wtarget': 1000.0,\n",
       "  'author_id': 1.0,\n",
       "  'project_id': 1.0,\n",
       "  'record_id': 2.0,\n",
       "  'Wtarget_sum': 2000.0},\n",
       " {'Wcount': 2900.0,\n",
       "  'Wdate': '2021-03-03',\n",
       "  'Wtarget': 1000.0,\n",
       "  'author_id': 1.0,\n",
       "  'project_id': 1.0,\n",
       "  'record_id': 3.0,\n",
       "  'Wtarget_sum': 3000.0},\n",
       " {'Wcount': 3500.0,\n",
       "  'Wdate': '2021-03-04',\n",
       "  'Wtarget': 1000.0,\n",
       "  'author_id': 1.0,\n",
       "  'project_id': 1.0,\n",
       "  'record_id': 4.0,\n",
       "  'Wtarget_sum': 4000.0},\n",
       " {'Wcount': 3500.0,\n",
       "  'Wdate': '2021-03-04',\n",
       "  'Wtarget': 1000.0,\n",
       "  'author_id': 1.0,\n",
       "  'project_id': 1.0,\n",
       "  'record_id': 4.0,\n",
       "  'Wtarget_sum': 5000.0},\n",
       " {'Wcount': 5200.0,\n",
       "  'Wdate': '2021-03-06',\n",
       "  'Wtarget': 1000.0,\n",
       "  'author_id': 1.0,\n",
       "  'project_id': 1.0,\n",
       "  'record_id': 5.0,\n",
       "  'Wtarget_sum': 6000.0},\n",
       " {'Wcount': 6500.0,\n",
       "  'Wdate': '2021-03-07',\n",
       "  'Wtarget': 1000.0,\n",
       "  'author_id': 1.0,\n",
       "  'project_id': 1.0,\n",
       "  'record_id': 6.0,\n",
       "  'Wtarget_sum': 7000.0},\n",
       " {'Wcount': 6500.0,\n",
       "  'Wdate': '2021-03-07',\n",
       "  'Wtarget': 1000.0,\n",
       "  'author_id': 1.0,\n",
       "  'project_id': 1.0,\n",
       "  'record_id': 6.0,\n",
       "  'Wtarget_sum': 8000.0},\n",
       " {'Wcount': 6500.0,\n",
       "  'Wdate': '2021-03-07',\n",
       "  'Wtarget': 1000.0,\n",
       "  'author_id': 1.0,\n",
       "  'project_id': 1.0,\n",
       "  'record_id': 6.0,\n",
       "  'Wtarget_sum': 9000.0},\n",
       " {'Wcount': 6500.0,\n",
       "  'Wdate': '2021-03-07',\n",
       "  'Wtarget': 1000.0,\n",
       "  'author_id': 1.0,\n",
       "  'project_id': 1.0,\n",
       "  'record_id': 6.0,\n",
       "  'Wtarget_sum': 10000.0},\n",
       " {'Wcount': 6500.0,\n",
       "  'Wdate': '2021-03-07',\n",
       "  'Wtarget': 1000.0,\n",
       "  'author_id': 1.0,\n",
       "  'project_id': 1.0,\n",
       "  'record_id': 6.0,\n",
       "  'Wtarget_sum': 11000.0},\n",
       " {'Wcount': 22000.0,\n",
       "  'Wdate': '2021-03-12',\n",
       "  'Wtarget': 1000.0,\n",
       "  'author_id': 1.0,\n",
       "  'project_id': 1.0,\n",
       "  'record_id': 9.0,\n",
       "  'Wtarget_sum': 12000.0}]"
      ]
     },
     "metadata": {},
     "execution_count": 77
    }
   ],
   "source": []
  },
  {
   "cell_type": "code",
   "execution_count": null,
   "metadata": {},
   "outputs": [],
   "source": []
  }
 ]
}