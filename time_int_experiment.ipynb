{
 "metadata": {
  "language_info": {
   "codemirror_mode": {
    "name": "ipython",
    "version": 3
   },
   "file_extension": ".py",
   "mimetype": "text/x-python",
   "name": "python",
   "nbconvert_exporter": "python",
   "pygments_lexer": "ipython3",
   "version": "3.6.5"
  },
  "orig_nbformat": 2,
  "kernelspec": {
   "name": "python365jvsc74a57bd0e73f067f1c59be12cfda938665c6a960a5d3ec55ce3a05feea7c329cb1f7e9af",
   "display_name": "Python 3.6.5 64-bit ('base': conda)"
  }
 },
 "nbformat": 4,
 "nbformat_minor": 2,
 "cells": [
  {
   "cell_type": "code",
   "execution_count": 2,
   "metadata": {},
   "outputs": [],
   "source": [
    "import string\n",
    "from datetime import date, datetime\n",
    "from math import ceil\n",
    "import re\n",
    "import shutil\n",
    "from pathlib import Path\n",
    "\n",
    "import pandas as pd"
   ]
  },
  {
   "cell_type": "code",
   "execution_count": 2,
   "metadata": {},
   "outputs": [],
   "source": [
    "def daily_words_calculate(word_goal, goal_start_date, goal_finish_date):\n",
    "    # We currently assume you are starting at zero words, or are factoring your already existant words into your decision.\n",
    "    # This assumption may be worth revisiting later\n",
    "    #NOTE: changed incoming date format #days_left = abs((datetime.strptime(goal_finish_date,\"%d/%m/%Y\") - datetime.strptime(goal_start_date,\"%d/%m/%Y\")).days)\n",
    "    days_left = abs((datetime.strptime(goal_finish_date,\"%Y-%m-%d\") - datetime.strptime(goal_start_date,\"%Y-%m-%d\")).days)\n",
    "    daily_target = ceil(int(word_goal)/days_left)\n",
    "    return daily_target\n",
    "\n",
    "\n",
    "def word_goal_calculate(daily_target, goal_start_date, goal_finish_date):\n",
    "    # We currently assume you are starting at zero words, or are factoring your already existant words into your decision.\n",
    "    # This assumption may be worth revisiting later\n",
    "    #NOTE: changed incoming date format #days_left = abs((datetime.strptime(goal_finish_date,\"%d/%m/%Y\") - datetime.strptime(goal_start_date,\"%d/%m/%Y\")).days)\n",
    "    days_left = abs((datetime.strptime(goal_finish_date,\"%Y-%m-%d\") - datetime.strptime(goal_start_date,\"%Y-%m-%d\")).days)\n",
    "    word_goal = int(daily_target)*days_left\n",
    "    return word_goal"
   ]
  },
  {
   "cell_type": "code",
   "execution_count": 3,
   "metadata": {},
   "outputs": [],
   "source": [
    "def change_goal(goal_start_date, goal_end_date, word_goal=None, daily_target=None):\n",
    "    if (word_goal is not None) and (daily_target is None):\n",
    "        goal = daily_words_calculate(word_goal, goal_start_date, goal_end_date)\n",
    "        return goal\n",
    "    elif (daily_target is not None) and (word_goal is None):\n",
    "        goal = word_goal_calculate(daily_target, goal_start_date, goal_end_date)\n",
    "        return goal\n",
    "    else:\n",
    "        raise Exception(\"Error: provide word_goal or daily_target, but not both.\")"
   ]
  },
  {
   "cell_type": "code",
   "execution_count": 4,
   "metadata": {},
   "outputs": [],
   "source": [
    "import sqlite3\n",
    "sqlite3_path = './database/nanite_storage.sqlite3'\n",
    "\n",
    "query = '''INSERT INTO words values (\n",
    "    ?, ?, ?, ?, ?, ?) '''\n",
    "params = [None, 1, 1, '2021-03-12 08:00:00.000000', 22000, 1000]\n",
    "conn = sqlite3.connect(sqlite3_path)\n",
    "cur = conn.cursor()\n",
    "cur.execute(query, params)\n",
    "conn.commit()"
   ]
  },
  {
   "cell_type": "code",
   "execution_count": 5,
   "metadata": {},
   "outputs": [],
   "source": [
    "from collections import namedtuple\n",
    "WordVals = namedtuple('Wordcounts', 'record_id project_id author_id Wdate Wcount Wtarget')"
   ]
  },
  {
   "cell_type": "code",
   "execution_count": 12,
   "metadata": {},
   "outputs": [],
   "source": [
    "def streak_length(df_col):\n",
    "    d_list = []\n",
    "    for i in df_col:\n",
    "            if i == 0:\n",
    "                d = 0\n",
    "            else:\n",
    "                d += 1\n",
    "            d_list.append(d)\n",
    "    return d_list\n",
    "\n",
    "def is_streak(i, count_col, target_col):\n",
    "    \n",
    "    if i == 0:\n",
    "        return 0\n",
    "    else: \n",
    "        pass\n",
    "    if i == 0:\n",
    "        pass\n",
    "    elif (count_col.iloc[i] - count_col.iloc[i-1]) >= (target_col.iloc[i]): \n",
    "        return 1\n",
    "    else:\n",
    "        return 0"
   ]
  },
  {
   "cell_type": "code",
   "execution_count": 41,
   "metadata": {},
   "outputs": [],
   "source": [
    "        conn = sqlite3.connect(sqlite3_path)\n",
    "        cur = conn.cursor()\n",
    "        cur.execute(\"SELECT * FROM words where project_id=?\", (1,))\n",
    "        row = cur.fetchall()\n",
    "        data = [dict(WordVals(*row[i])._asdict()) for i in range(len(row))]\n",
    "        conn.close()\n",
    "        df = pd.DataFrame(data)\n",
    "        df.index = pd.DatetimeIndex(df['Wdate'])\n",
    "\n",
    "        earliest = df.index[0]\n",
    "        latest = df.index[-1]\n",
    "\n",
    "        new_index = pd.date_range(earliest, latest, freq='D')\n",
    "\n",
    "        df = df.groupby(pd.Grouper(freq='D')).last()\n",
    "        df = df.reindex(new_index, method='ffill')\n",
    "        df = df.fillna(method='ffill')\n",
    "        df['Wtarget_sum'] = df['Wtarget'].cumsum()\n",
    "        df['Wdate'] = df['Wdate'].apply(lambda x: x[:10])\n",
    "        df['daily_words'] = [(df[['Wcount']].iloc[i] - df[['Wcount']].iloc[i-1]).clip(0) for i in range(len(df))]\n",
    "        df['streak'] = [is_streak(i, df['Wcount'], df['Wtarget']) for i in range(len(df))]\n",
    "        d_list = streak_length(df['streak'])\n",
    "        df['streak'] = pd.Series(d_list, index=new_index)\n",
    "        \n",
    "        df = df.groupby(pd.Grouper(freq='D')).last()\n",
    "        records = df.to_dict(orient='records')\n",
    "  \n"
   ]
  },
  {
   "cell_type": "code",
   "execution_count": 42,
   "metadata": {},
   "outputs": [
    {
     "output_type": "execute_result",
     "data": {
      "text/plain": [
       "             Wcount       Wdate  Wtarget  author_id  project_id  record_id  \\\n",
       "2021-03-01   1500.0  2021-03-01   1000.0        1.0         1.0        1.0   \n",
       "2021-03-02   2300.0  2021-03-02   1000.0        1.0         1.0        2.0   \n",
       "2021-03-03   2900.0  2021-03-03   1000.0        1.0         1.0        3.0   \n",
       "2021-03-04   3500.0  2021-03-04   1000.0        1.0         1.0        4.0   \n",
       "2021-03-05   3500.0  2021-03-04   1000.0        1.0         1.0        4.0   \n",
       "2021-03-06   5200.0  2021-03-06   1000.0        1.0         1.0        5.0   \n",
       "2021-03-07   6500.0  2021-03-07   1000.0        1.0         1.0        6.0   \n",
       "2021-03-08   6500.0  2021-03-07   1000.0        1.0         1.0        6.0   \n",
       "2021-03-09   6500.0  2021-03-07   1000.0        1.0         1.0        6.0   \n",
       "2021-03-10   6500.0  2021-03-07   1000.0        1.0         1.0        6.0   \n",
       "2021-03-11   6500.0  2021-03-07   1000.0        1.0         1.0        6.0   \n",
       "2021-03-12  22000.0  2021-03-12   1000.0        1.0         1.0       10.0   \n",
       "\n",
       "            Wtarget_sum  daily_words  streak  \n",
       "2021-03-01       1000.0          0.0       0  \n",
       "2021-03-02       2000.0        800.0       0  \n",
       "2021-03-03       3000.0        600.0       0  \n",
       "2021-03-04       4000.0        600.0       0  \n",
       "2021-03-05       5000.0          0.0       0  \n",
       "2021-03-06       6000.0       1700.0       1  \n",
       "2021-03-07       7000.0       1300.0       2  \n",
       "2021-03-08       8000.0          0.0       0  \n",
       "2021-03-09       9000.0          0.0       0  \n",
       "2021-03-10      10000.0          0.0       0  \n",
       "2021-03-11      11000.0          0.0       0  \n",
       "2021-03-12      12000.0      15500.0       1  "
      ],
      "text/html": "<div>\n<style scoped>\n    .dataframe tbody tr th:only-of-type {\n        vertical-align: middle;\n    }\n\n    .dataframe tbody tr th {\n        vertical-align: top;\n    }\n\n    .dataframe thead th {\n        text-align: right;\n    }\n</style>\n<table border=\"1\" class=\"dataframe\">\n  <thead>\n    <tr style=\"text-align: right;\">\n      <th></th>\n      <th>Wcount</th>\n      <th>Wdate</th>\n      <th>Wtarget</th>\n      <th>author_id</th>\n      <th>project_id</th>\n      <th>record_id</th>\n      <th>Wtarget_sum</th>\n      <th>daily_words</th>\n      <th>streak</th>\n    </tr>\n  </thead>\n  <tbody>\n    <tr>\n      <th>2021-03-01</th>\n      <td>1500.0</td>\n      <td>2021-03-01</td>\n      <td>1000.0</td>\n      <td>1.0</td>\n      <td>1.0</td>\n      <td>1.0</td>\n      <td>1000.0</td>\n      <td>0.0</td>\n      <td>0</td>\n    </tr>\n    <tr>\n      <th>2021-03-02</th>\n      <td>2300.0</td>\n      <td>2021-03-02</td>\n      <td>1000.0</td>\n      <td>1.0</td>\n      <td>1.0</td>\n      <td>2.0</td>\n      <td>2000.0</td>\n      <td>800.0</td>\n      <td>0</td>\n    </tr>\n    <tr>\n      <th>2021-03-03</th>\n      <td>2900.0</td>\n      <td>2021-03-03</td>\n      <td>1000.0</td>\n      <td>1.0</td>\n      <td>1.0</td>\n      <td>3.0</td>\n      <td>3000.0</td>\n      <td>600.0</td>\n      <td>0</td>\n    </tr>\n    <tr>\n      <th>2021-03-04</th>\n      <td>3500.0</td>\n      <td>2021-03-04</td>\n      <td>1000.0</td>\n      <td>1.0</td>\n      <td>1.0</td>\n      <td>4.0</td>\n      <td>4000.0</td>\n      <td>600.0</td>\n      <td>0</td>\n    </tr>\n    <tr>\n      <th>2021-03-05</th>\n      <td>3500.0</td>\n      <td>2021-03-04</td>\n      <td>1000.0</td>\n      <td>1.0</td>\n      <td>1.0</td>\n      <td>4.0</td>\n      <td>5000.0</td>\n      <td>0.0</td>\n      <td>0</td>\n    </tr>\n    <tr>\n      <th>2021-03-06</th>\n      <td>5200.0</td>\n      <td>2021-03-06</td>\n      <td>1000.0</td>\n      <td>1.0</td>\n      <td>1.0</td>\n      <td>5.0</td>\n      <td>6000.0</td>\n      <td>1700.0</td>\n      <td>1</td>\n    </tr>\n    <tr>\n      <th>2021-03-07</th>\n      <td>6500.0</td>\n      <td>2021-03-07</td>\n      <td>1000.0</td>\n      <td>1.0</td>\n      <td>1.0</td>\n      <td>6.0</td>\n      <td>7000.0</td>\n      <td>1300.0</td>\n      <td>2</td>\n    </tr>\n    <tr>\n      <th>2021-03-08</th>\n      <td>6500.0</td>\n      <td>2021-03-07</td>\n      <td>1000.0</td>\n      <td>1.0</td>\n      <td>1.0</td>\n      <td>6.0</td>\n      <td>8000.0</td>\n      <td>0.0</td>\n      <td>0</td>\n    </tr>\n    <tr>\n      <th>2021-03-09</th>\n      <td>6500.0</td>\n      <td>2021-03-07</td>\n      <td>1000.0</td>\n      <td>1.0</td>\n      <td>1.0</td>\n      <td>6.0</td>\n      <td>9000.0</td>\n      <td>0.0</td>\n      <td>0</td>\n    </tr>\n    <tr>\n      <th>2021-03-10</th>\n      <td>6500.0</td>\n      <td>2021-03-07</td>\n      <td>1000.0</td>\n      <td>1.0</td>\n      <td>1.0</td>\n      <td>6.0</td>\n      <td>10000.0</td>\n      <td>0.0</td>\n      <td>0</td>\n    </tr>\n    <tr>\n      <th>2021-03-11</th>\n      <td>6500.0</td>\n      <td>2021-03-07</td>\n      <td>1000.0</td>\n      <td>1.0</td>\n      <td>1.0</td>\n      <td>6.0</td>\n      <td>11000.0</td>\n      <td>0.0</td>\n      <td>0</td>\n    </tr>\n    <tr>\n      <th>2021-03-12</th>\n      <td>22000.0</td>\n      <td>2021-03-12</td>\n      <td>1000.0</td>\n      <td>1.0</td>\n      <td>1.0</td>\n      <td>10.0</td>\n      <td>12000.0</td>\n      <td>15500.0</td>\n      <td>1</td>\n    </tr>\n  </tbody>\n</table>\n</div>"
     },
     "metadata": {},
     "execution_count": 42
    }
   ],
   "source": [
    "df"
   ]
  },
  {
   "cell_type": "code",
   "execution_count": 29,
   "metadata": {},
   "outputs": [
    {
     "output_type": "error",
     "ename": "TypeError",
     "evalue": "cannot do index indexing on <class 'pandas.core.indexes.datetimes.DatetimeIndex'> with these indexers [0] of <class 'int'>",
     "traceback": [
      "\u001b[1;31m---------------------------------------------------------------------------\u001b[0m",
      "\u001b[1;31mTypeError\u001b[0m                                 Traceback (most recent call last)",
      "\u001b[1;32m<ipython-input-29-8c1745c6d5bd>\u001b[0m in \u001b[0;36m<module>\u001b[1;34m\u001b[0m\n\u001b[1;32m----> 1\u001b[1;33m \u001b[1;33m[\u001b[0m\u001b[0mprint\u001b[0m\u001b[1;33m(\u001b[0m\u001b[0mdf\u001b[0m\u001b[1;33m[\u001b[0m\u001b[1;34m'Wcount'\u001b[0m\u001b[1;33m]\u001b[0m\u001b[1;33m.\u001b[0m\u001b[0mloc\u001b[0m\u001b[1;33m[\u001b[0m\u001b[0mi\u001b[0m\u001b[1;33m]\u001b[0m\u001b[1;33m)\u001b[0m \u001b[1;32mfor\u001b[0m \u001b[0mi\u001b[0m \u001b[1;32min\u001b[0m \u001b[0mrange\u001b[0m\u001b[1;33m(\u001b[0m\u001b[0mlen\u001b[0m\u001b[1;33m(\u001b[0m\u001b[0mdf\u001b[0m\u001b[1;33m)\u001b[0m\u001b[1;33m)\u001b[0m\u001b[1;33m]\u001b[0m\u001b[1;33m\u001b[0m\u001b[0m\n\u001b[0m",
      "\u001b[1;32m<ipython-input-29-8c1745c6d5bd>\u001b[0m in \u001b[0;36m<listcomp>\u001b[1;34m(.0)\u001b[0m\n\u001b[1;32m----> 1\u001b[1;33m \u001b[1;33m[\u001b[0m\u001b[0mprint\u001b[0m\u001b[1;33m(\u001b[0m\u001b[0mdf\u001b[0m\u001b[1;33m[\u001b[0m\u001b[1;34m'Wcount'\u001b[0m\u001b[1;33m]\u001b[0m\u001b[1;33m.\u001b[0m\u001b[0mloc\u001b[0m\u001b[1;33m[\u001b[0m\u001b[0mi\u001b[0m\u001b[1;33m]\u001b[0m\u001b[1;33m)\u001b[0m \u001b[1;32mfor\u001b[0m \u001b[0mi\u001b[0m \u001b[1;32min\u001b[0m \u001b[0mrange\u001b[0m\u001b[1;33m(\u001b[0m\u001b[0mlen\u001b[0m\u001b[1;33m(\u001b[0m\u001b[0mdf\u001b[0m\u001b[1;33m)\u001b[0m\u001b[1;33m)\u001b[0m\u001b[1;33m]\u001b[0m\u001b[1;33m\u001b[0m\u001b[0m\n\u001b[0m",
      "\u001b[1;32mC:\\Program Files (x86)\\Microsoft Visual Studio\\Shared\\Anaconda3_64\\lib\\site-packages\\pandas\\core\\indexing.py\u001b[0m in \u001b[0;36m__getitem__\u001b[1;34m(self, key)\u001b[0m\n\u001b[0;32m   1476\u001b[0m \u001b[1;33m\u001b[0m\u001b[0m\n\u001b[0;32m   1477\u001b[0m             \u001b[0mmaybe_callable\u001b[0m \u001b[1;33m=\u001b[0m \u001b[0mcom\u001b[0m\u001b[1;33m.\u001b[0m\u001b[0m_apply_if_callable\u001b[0m\u001b[1;33m(\u001b[0m\u001b[0mkey\u001b[0m\u001b[1;33m,\u001b[0m \u001b[0mself\u001b[0m\u001b[1;33m.\u001b[0m\u001b[0mobj\u001b[0m\u001b[1;33m)\u001b[0m\u001b[1;33m\u001b[0m\u001b[0m\n\u001b[1;32m-> 1478\u001b[1;33m             \u001b[1;32mreturn\u001b[0m \u001b[0mself\u001b[0m\u001b[1;33m.\u001b[0m\u001b[0m_getitem_axis\u001b[0m\u001b[1;33m(\u001b[0m\u001b[0mmaybe_callable\u001b[0m\u001b[1;33m,\u001b[0m \u001b[0maxis\u001b[0m\u001b[1;33m=\u001b[0m\u001b[0maxis\u001b[0m\u001b[1;33m)\u001b[0m\u001b[1;33m\u001b[0m\u001b[0m\n\u001b[0m\u001b[0;32m   1479\u001b[0m \u001b[1;33m\u001b[0m\u001b[0m\n\u001b[0;32m   1480\u001b[0m     \u001b[1;32mdef\u001b[0m \u001b[0m_is_scalar_access\u001b[0m\u001b[1;33m(\u001b[0m\u001b[0mself\u001b[0m\u001b[1;33m,\u001b[0m \u001b[0mkey\u001b[0m\u001b[1;33m)\u001b[0m\u001b[1;33m:\u001b[0m\u001b[1;33m\u001b[0m\u001b[0m\n",
      "\u001b[1;32mC:\\Program Files (x86)\\Microsoft Visual Studio\\Shared\\Anaconda3_64\\lib\\site-packages\\pandas\\core\\indexing.py\u001b[0m in \u001b[0;36m_getitem_axis\u001b[1;34m(self, key, axis)\u001b[0m\n\u001b[0;32m   1909\u001b[0m \u001b[1;33m\u001b[0m\u001b[0m\n\u001b[0;32m   1910\u001b[0m         \u001b[1;31m# fall thru to straight lookup\u001b[0m\u001b[1;33m\u001b[0m\u001b[1;33m\u001b[0m\u001b[0m\n\u001b[1;32m-> 1911\u001b[1;33m         \u001b[0mself\u001b[0m\u001b[1;33m.\u001b[0m\u001b[0m_validate_key\u001b[0m\u001b[1;33m(\u001b[0m\u001b[0mkey\u001b[0m\u001b[1;33m,\u001b[0m \u001b[0maxis\u001b[0m\u001b[1;33m)\u001b[0m\u001b[1;33m\u001b[0m\u001b[0m\n\u001b[0m\u001b[0;32m   1912\u001b[0m         \u001b[1;32mreturn\u001b[0m \u001b[0mself\u001b[0m\u001b[1;33m.\u001b[0m\u001b[0m_get_label\u001b[0m\u001b[1;33m(\u001b[0m\u001b[0mkey\u001b[0m\u001b[1;33m,\u001b[0m \u001b[0maxis\u001b[0m\u001b[1;33m=\u001b[0m\u001b[0maxis\u001b[0m\u001b[1;33m)\u001b[0m\u001b[1;33m\u001b[0m\u001b[0m\n\u001b[0;32m   1913\u001b[0m \u001b[1;33m\u001b[0m\u001b[0m\n",
      "\u001b[1;32mC:\\Program Files (x86)\\Microsoft Visual Studio\\Shared\\Anaconda3_64\\lib\\site-packages\\pandas\\core\\indexing.py\u001b[0m in \u001b[0;36m_validate_key\u001b[1;34m(self, key, axis)\u001b[0m\n\u001b[0;32m   1786\u001b[0m \u001b[1;33m\u001b[0m\u001b[0m\n\u001b[0;32m   1787\u001b[0m             \u001b[1;32mtry\u001b[0m\u001b[1;33m:\u001b[0m\u001b[1;33m\u001b[0m\u001b[0m\n\u001b[1;32m-> 1788\u001b[1;33m                 \u001b[0mkey\u001b[0m \u001b[1;33m=\u001b[0m \u001b[0mself\u001b[0m\u001b[1;33m.\u001b[0m\u001b[0m_convert_scalar_indexer\u001b[0m\u001b[1;33m(\u001b[0m\u001b[0mkey\u001b[0m\u001b[1;33m,\u001b[0m \u001b[0maxis\u001b[0m\u001b[1;33m)\u001b[0m\u001b[1;33m\u001b[0m\u001b[0m\n\u001b[0m\u001b[0;32m   1789\u001b[0m                 \u001b[1;32mif\u001b[0m \u001b[1;32mnot\u001b[0m \u001b[0max\u001b[0m\u001b[1;33m.\u001b[0m\u001b[0mcontains\u001b[0m\u001b[1;33m(\u001b[0m\u001b[0mkey\u001b[0m\u001b[1;33m)\u001b[0m\u001b[1;33m:\u001b[0m\u001b[1;33m\u001b[0m\u001b[0m\n\u001b[0;32m   1790\u001b[0m                     \u001b[0merror\u001b[0m\u001b[1;33m(\u001b[0m\u001b[1;33m)\u001b[0m\u001b[1;33m\u001b[0m\u001b[0m\n",
      "\u001b[1;32mC:\\Program Files (x86)\\Microsoft Visual Studio\\Shared\\Anaconda3_64\\lib\\site-packages\\pandas\\core\\indexing.py\u001b[0m in \u001b[0;36m_convert_scalar_indexer\u001b[1;34m(self, key, axis)\u001b[0m\n\u001b[0;32m    259\u001b[0m         \u001b[0max\u001b[0m \u001b[1;33m=\u001b[0m \u001b[0mself\u001b[0m\u001b[1;33m.\u001b[0m\u001b[0mobj\u001b[0m\u001b[1;33m.\u001b[0m\u001b[0m_get_axis\u001b[0m\u001b[1;33m(\u001b[0m\u001b[0mmin\u001b[0m\u001b[1;33m(\u001b[0m\u001b[0maxis\u001b[0m\u001b[1;33m,\u001b[0m \u001b[0mself\u001b[0m\u001b[1;33m.\u001b[0m\u001b[0mndim\u001b[0m \u001b[1;33m-\u001b[0m \u001b[1;36m1\u001b[0m\u001b[1;33m)\u001b[0m\u001b[1;33m)\u001b[0m\u001b[1;33m\u001b[0m\u001b[0m\n\u001b[0;32m    260\u001b[0m         \u001b[1;31m# a scalar\u001b[0m\u001b[1;33m\u001b[0m\u001b[1;33m\u001b[0m\u001b[0m\n\u001b[1;32m--> 261\u001b[1;33m         \u001b[1;32mreturn\u001b[0m \u001b[0max\u001b[0m\u001b[1;33m.\u001b[0m\u001b[0m_convert_scalar_indexer\u001b[0m\u001b[1;33m(\u001b[0m\u001b[0mkey\u001b[0m\u001b[1;33m,\u001b[0m \u001b[0mkind\u001b[0m\u001b[1;33m=\u001b[0m\u001b[0mself\u001b[0m\u001b[1;33m.\u001b[0m\u001b[0mname\u001b[0m\u001b[1;33m)\u001b[0m\u001b[1;33m\u001b[0m\u001b[0m\n\u001b[0m\u001b[0;32m    262\u001b[0m \u001b[1;33m\u001b[0m\u001b[0m\n\u001b[0;32m    263\u001b[0m     \u001b[1;32mdef\u001b[0m \u001b[0m_convert_slice_indexer\u001b[0m\u001b[1;33m(\u001b[0m\u001b[0mself\u001b[0m\u001b[1;33m,\u001b[0m \u001b[0mkey\u001b[0m\u001b[1;33m,\u001b[0m \u001b[0maxis\u001b[0m\u001b[1;33m)\u001b[0m\u001b[1;33m:\u001b[0m\u001b[1;33m\u001b[0m\u001b[0m\n",
      "\u001b[1;32mC:\\Program Files (x86)\\Microsoft Visual Studio\\Shared\\Anaconda3_64\\lib\\site-packages\\pandas\\core\\indexes\\datetimelike.py\u001b[0m in \u001b[0;36m_convert_scalar_indexer\u001b[1;34m(self, key, kind)\u001b[0m\n\u001b[0;32m    744\u001b[0m             \u001b[0mis_flt\u001b[0m \u001b[1;33m=\u001b[0m \u001b[0mis_float\u001b[0m\u001b[1;33m(\u001b[0m\u001b[0mkey\u001b[0m\u001b[1;33m)\u001b[0m\u001b[1;33m\u001b[0m\u001b[0m\n\u001b[0;32m    745\u001b[0m             \u001b[1;32mif\u001b[0m \u001b[0mkind\u001b[0m \u001b[1;32min\u001b[0m \u001b[1;33m[\u001b[0m\u001b[1;34m'loc'\u001b[0m\u001b[1;33m]\u001b[0m \u001b[1;32mand\u001b[0m \u001b[1;33m(\u001b[0m\u001b[0mis_int\u001b[0m \u001b[1;32mor\u001b[0m \u001b[0mis_flt\u001b[0m\u001b[1;33m)\u001b[0m\u001b[1;33m:\u001b[0m\u001b[1;33m\u001b[0m\u001b[0m\n\u001b[1;32m--> 746\u001b[1;33m                 \u001b[0mself\u001b[0m\u001b[1;33m.\u001b[0m\u001b[0m_invalid_indexer\u001b[0m\u001b[1;33m(\u001b[0m\u001b[1;34m'index'\u001b[0m\u001b[1;33m,\u001b[0m \u001b[0mkey\u001b[0m\u001b[1;33m)\u001b[0m\u001b[1;33m\u001b[0m\u001b[0m\n\u001b[0m\u001b[0;32m    747\u001b[0m             \u001b[1;32melif\u001b[0m \u001b[0mkind\u001b[0m \u001b[1;32min\u001b[0m \u001b[1;33m[\u001b[0m\u001b[1;34m'ix'\u001b[0m\u001b[1;33m,\u001b[0m \u001b[1;34m'getitem'\u001b[0m\u001b[1;33m]\u001b[0m \u001b[1;32mand\u001b[0m \u001b[0mis_flt\u001b[0m\u001b[1;33m:\u001b[0m\u001b[1;33m\u001b[0m\u001b[0m\n\u001b[0;32m    748\u001b[0m                 \u001b[0mself\u001b[0m\u001b[1;33m.\u001b[0m\u001b[0m_invalid_indexer\u001b[0m\u001b[1;33m(\u001b[0m\u001b[1;34m'index'\u001b[0m\u001b[1;33m,\u001b[0m \u001b[0mkey\u001b[0m\u001b[1;33m)\u001b[0m\u001b[1;33m\u001b[0m\u001b[0m\n",
      "\u001b[1;32mC:\\Program Files (x86)\\Microsoft Visual Studio\\Shared\\Anaconda3_64\\lib\\site-packages\\pandas\\core\\indexes\\base.py\u001b[0m in \u001b[0;36m_invalid_indexer\u001b[1;34m(self, form, key)\u001b[0m\n\u001b[0;32m   1846\u001b[0m                         \"indexers [{key}] of {kind}\".format(\n\u001b[0;32m   1847\u001b[0m                             \u001b[0mform\u001b[0m\u001b[1;33m=\u001b[0m\u001b[0mform\u001b[0m\u001b[1;33m,\u001b[0m \u001b[0mklass\u001b[0m\u001b[1;33m=\u001b[0m\u001b[0mtype\u001b[0m\u001b[1;33m(\u001b[0m\u001b[0mself\u001b[0m\u001b[1;33m)\u001b[0m\u001b[1;33m,\u001b[0m \u001b[0mkey\u001b[0m\u001b[1;33m=\u001b[0m\u001b[0mkey\u001b[0m\u001b[1;33m,\u001b[0m\u001b[1;33m\u001b[0m\u001b[0m\n\u001b[1;32m-> 1848\u001b[1;33m                             kind=type(key)))\n\u001b[0m\u001b[0;32m   1849\u001b[0m \u001b[1;33m\u001b[0m\u001b[0m\n\u001b[0;32m   1850\u001b[0m     \u001b[1;32mdef\u001b[0m \u001b[0mget_duplicates\u001b[0m\u001b[1;33m(\u001b[0m\u001b[0mself\u001b[0m\u001b[1;33m)\u001b[0m\u001b[1;33m:\u001b[0m\u001b[1;33m\u001b[0m\u001b[0m\n",
      "\u001b[1;31mTypeError\u001b[0m: cannot do index indexing on <class 'pandas.core.indexes.datetimes.DatetimeIndex'> with these indexers [0] of <class 'int'>"
     ]
    }
   ],
   "source": [
    "[print() for i in range(len(df))]"
   ]
  },
  {
   "cell_type": "code",
   "execution_count": 39,
   "metadata": {},
   "outputs": [
    {
     "output_type": "execute_result",
     "data": {
      "text/plain": [
       "[Wcount    0.0\n",
       " dtype: float64,\n",
       " Wcount    800.0\n",
       " dtype: float64,\n",
       " Wcount    600.0\n",
       " dtype: float64,\n",
       " Wcount    600.0\n",
       " dtype: float64,\n",
       " Wcount    0.0\n",
       " dtype: float64,\n",
       " Wcount    1700.0\n",
       " dtype: float64,\n",
       " Wcount    1300.0\n",
       " dtype: float64,\n",
       " Wcount    0.0\n",
       " dtype: float64,\n",
       " Wcount    0.0\n",
       " dtype: float64,\n",
       " Wcount    0.0\n",
       " dtype: float64,\n",
       " Wcount    0.0\n",
       " dtype: float64,\n",
       " Wcount    15500.0\n",
       " dtype: float64]"
      ]
     },
     "metadata": {},
     "execution_count": 39
    }
   ],
   "source": []
  },
  {
   "cell_type": "code",
   "execution_count": 19,
   "metadata": {},
   "outputs": [
    {
     "output_type": "execute_result",
     "data": {
      "text/plain": [
       "[{'Wcount': 1500.0,\n",
       "  'Wdate': '2021-03-01',\n",
       "  'Wtarget': 1000.0,\n",
       "  'author_id': 1.0,\n",
       "  'project_id': 1.0,\n",
       "  'record_id': 1.0,\n",
       "  'Wtarget_sum': 1000.0,\n",
       "  'streak': 0},\n",
       " {'Wcount': 2300.0,\n",
       "  'Wdate': '2021-03-02',\n",
       "  'Wtarget': 1000.0,\n",
       "  'author_id': 1.0,\n",
       "  'project_id': 1.0,\n",
       "  'record_id': 2.0,\n",
       "  'Wtarget_sum': 2000.0,\n",
       "  'streak': 0},\n",
       " {'Wcount': 2900.0,\n",
       "  'Wdate': '2021-03-03',\n",
       "  'Wtarget': 1000.0,\n",
       "  'author_id': 1.0,\n",
       "  'project_id': 1.0,\n",
       "  'record_id': 3.0,\n",
       "  'Wtarget_sum': 3000.0,\n",
       "  'streak': 0},\n",
       " {'Wcount': 3500.0,\n",
       "  'Wdate': '2021-03-04',\n",
       "  'Wtarget': 1000.0,\n",
       "  'author_id': 1.0,\n",
       "  'project_id': 1.0,\n",
       "  'record_id': 4.0,\n",
       "  'Wtarget_sum': 4000.0,\n",
       "  'streak': 0},\n",
       " {'Wcount': 3500.0,\n",
       "  'Wdate': '2021-03-04',\n",
       "  'Wtarget': 1000.0,\n",
       "  'author_id': 1.0,\n",
       "  'project_id': 1.0,\n",
       "  'record_id': 4.0,\n",
       "  'Wtarget_sum': 5000.0,\n",
       "  'streak': 0},\n",
       " {'Wcount': 5200.0,\n",
       "  'Wdate': '2021-03-06',\n",
       "  'Wtarget': 1000.0,\n",
       "  'author_id': 1.0,\n",
       "  'project_id': 1.0,\n",
       "  'record_id': 5.0,\n",
       "  'Wtarget_sum': 6000.0,\n",
       "  'streak': 1},\n",
       " {'Wcount': 6500.0,\n",
       "  'Wdate': '2021-03-07',\n",
       "  'Wtarget': 1000.0,\n",
       "  'author_id': 1.0,\n",
       "  'project_id': 1.0,\n",
       "  'record_id': 6.0,\n",
       "  'Wtarget_sum': 7000.0,\n",
       "  'streak': 2},\n",
       " {'Wcount': 6500.0,\n",
       "  'Wdate': '2021-03-07',\n",
       "  'Wtarget': 1000.0,\n",
       "  'author_id': 1.0,\n",
       "  'project_id': 1.0,\n",
       "  'record_id': 6.0,\n",
       "  'Wtarget_sum': 8000.0,\n",
       "  'streak': 0},\n",
       " {'Wcount': 6500.0,\n",
       "  'Wdate': '2021-03-07',\n",
       "  'Wtarget': 1000.0,\n",
       "  'author_id': 1.0,\n",
       "  'project_id': 1.0,\n",
       "  'record_id': 6.0,\n",
       "  'Wtarget_sum': 9000.0,\n",
       "  'streak': 0},\n",
       " {'Wcount': 6500.0,\n",
       "  'Wdate': '2021-03-07',\n",
       "  'Wtarget': 1000.0,\n",
       "  'author_id': 1.0,\n",
       "  'project_id': 1.0,\n",
       "  'record_id': 6.0,\n",
       "  'Wtarget_sum': 10000.0,\n",
       "  'streak': 0},\n",
       " {'Wcount': 6500.0,\n",
       "  'Wdate': '2021-03-07',\n",
       "  'Wtarget': 1000.0,\n",
       "  'author_id': 1.0,\n",
       "  'project_id': 1.0,\n",
       "  'record_id': 6.0,\n",
       "  'Wtarget_sum': 11000.0,\n",
       "  'streak': 0},\n",
       " {'Wcount': 22000.0,\n",
       "  'Wdate': '2021-03-12',\n",
       "  'Wtarget': 1000.0,\n",
       "  'author_id': 1.0,\n",
       "  'project_id': 1.0,\n",
       "  'record_id': 10.0,\n",
       "  'Wtarget_sum': 12000.0,\n",
       "  'streak': 1}]"
      ]
     },
     "metadata": {},
     "execution_count": 19
    }
   ],
   "source": [
    "def "
   ]
  },
  {
   "cell_type": "code",
   "execution_count": 22,
   "metadata": {},
   "outputs": [],
   "source": [
    "\n"
   ]
  },
  {
   "cell_type": "code",
   "execution_count": 23,
   "metadata": {},
   "outputs": [
    {
     "output_type": "execute_result",
     "data": {
      "text/plain": [
       "2"
      ]
     },
     "metadata": {},
     "execution_count": 23
    }
   ],
   "source": []
  },
  {
   "cell_type": "code",
   "execution_count": 9,
   "metadata": {},
   "outputs": [],
   "source": [
    "def word_streaker(df, c, i):\n",
    "    if i == 0:\n",
    "        c = 0\n",
    "    elif (df['Wcount'].iloc[i] - df['Wcount'].iloc[i-1]) > (df['Wtarget']):\n",
    "        c = c + 1\n",
    "    else:\n",
    "        c = 0\n",
    "    return c "
   ]
  },
  {
   "cell_type": "code",
   "execution_count": null,
   "metadata": {},
   "outputs": [],
   "source": [
    "        \"\"\"\n",
    "        df = df.groupby(pd.Grouper(freq='D')).last()\n",
    "        records = df.to_dict(orient='records')\n",
    "        return records\n",
    "        \"\"\""
   ]
  }
 ]
}